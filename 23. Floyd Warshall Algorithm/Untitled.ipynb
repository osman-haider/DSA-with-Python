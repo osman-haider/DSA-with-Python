{
 "cells": [
  {
   "cell_type": "code",
   "execution_count": 1,
   "id": "474e5fc1-c36e-4ca6-9571-45d1759259a6",
   "metadata": {},
   "outputs": [],
   "source": [
    "INF = 9999\n",
    "# Printing the solution\n",
    "def printSolution(nV, distance):\n",
    "    for i in range(nV):\n",
    "        for j in range(nV):\n",
    "            if(distance[i][j] == INF):\n",
    "                print(\"INF\", end=\" \")\n",
    "            else:\n",
    "                print(distance[i][j], end=\"  \")\n",
    "        print(\" \")"
   ]
  },
  {
   "cell_type": "code",
   "execution_count": 2,
   "id": "9cca017c-13f1-4efd-860c-63f737555a4f",
   "metadata": {},
   "outputs": [],
   "source": [
    "def floydWarshall(nV, G):\n",
    "    distance = G\n",
    "    for k in range(nV):\n",
    "        for i in range(nV):\n",
    "            for j in range(nV):\n",
    "                distance[i][j] = min(distance[i][j], distance[i][k]+distance[k][j])\n",
    "    \n",
    "    printSolution(nV, distance)\n"
   ]
  },
  {
   "cell_type": "code",
   "execution_count": 3,
   "id": "975cad3d-70a1-4cbe-bc3e-b16fb7e9dd91",
   "metadata": {},
   "outputs": [],
   "source": [
    "G = [[0, 8, INF,1],\n",
    "    [INF, 0, 1,INF],\n",
    "    [4, INF, 0,INF],\n",
    "    [INF, 2, 9,1]\n",
    "    ]"
   ]
  },
  {
   "cell_type": "code",
   "execution_count": 6,
   "id": "35271a70-23b4-46ac-9799-5b166b420752",
   "metadata": {},
   "outputs": [
    {
     "name": "stdout",
     "output_type": "stream",
     "text": [
      "0  3  4  1   \n",
      "5  0  1  6   \n",
      "4  7  0  5   \n",
      "7  2  3  1   \n"
     ]
    }
   ],
   "source": [
    "floydWarshall(4, G)"
   ]
  },
  {
   "cell_type": "code",
   "execution_count": null,
   "id": "6dfcc1a9-a891-473f-af29-127a6d9087e5",
   "metadata": {},
   "outputs": [],
   "source": []
  }
 ],
 "metadata": {
  "kernelspec": {
   "display_name": "Python 3 (ipykernel)",
   "language": "python",
   "name": "python3"
  },
  "language_info": {
   "codemirror_mode": {
    "name": "ipython",
    "version": 3
   },
   "file_extension": ".py",
   "mimetype": "text/x-python",
   "name": "python",
   "nbconvert_exporter": "python",
   "pygments_lexer": "ipython3",
   "version": "3.10.7"
  }
 },
 "nbformat": 4,
 "nbformat_minor": 5
}
