{
 "cells": [
  {
   "cell_type": "code",
   "execution_count": 1,
   "id": "32d0ac96-ffa0-45c4-bc83-7ec67e8c4120",
   "metadata": {},
   "outputs": [],
   "source": [
    "from multiprocessing import Queue"
   ]
  },
  {
   "cell_type": "code",
   "execution_count": 2,
   "id": "bdab180d-6400-4a45-b637-e5e2b1e9c5e2",
   "metadata": {},
   "outputs": [],
   "source": [
    "customqueus = Queue(maxsize=3)"
   ]
  },
  {
   "cell_type": "code",
   "execution_count": 3,
   "id": "c532c3ca-ca5a-4213-a73a-377acd8bab39",
   "metadata": {},
   "outputs": [],
   "source": [
    "customqueus.put(5)\n",
    "customqueus.put(4)\n",
    "customqueus.put(9)"
   ]
  },
  {
   "cell_type": "code",
   "execution_count": 4,
   "id": "ac297ccf-6093-4d97-882f-22f881977e04",
   "metadata": {},
   "outputs": [
    {
     "name": "stdout",
     "output_type": "stream",
     "text": [
      "<multiprocessing.queues.Queue object at 0x000001CBE6A0D6F0>\n"
     ]
    }
   ],
   "source": [
    "print(customqueus)"
   ]
  },
  {
   "cell_type": "code",
   "execution_count": 5,
   "id": "014d1bba-c0f8-4bd7-bbad-43b7536092a9",
   "metadata": {},
   "outputs": [
    {
     "data": {
      "text/plain": [
       "5"
      ]
     },
     "execution_count": 5,
     "metadata": {},
     "output_type": "execute_result"
    }
   ],
   "source": [
    "customqueus.get()"
   ]
  },
  {
   "cell_type": "code",
   "execution_count": 6,
   "id": "cb29a110-69a6-4890-8d2c-ca362b818bb7",
   "metadata": {},
   "outputs": [
    {
     "name": "stdout",
     "output_type": "stream",
     "text": [
      "2\n"
     ]
    }
   ],
   "source": [
    "print(customqueus.qsize())"
   ]
  },
  {
   "cell_type": "code",
   "execution_count": null,
   "id": "00eefce7-86ca-465c-a365-44cae0079149",
   "metadata": {},
   "outputs": [],
   "source": []
  }
 ],
 "metadata": {
  "kernelspec": {
   "display_name": "Python 3 (ipykernel)",
   "language": "python",
   "name": "python3"
  },
  "language_info": {
   "codemirror_mode": {
    "name": "ipython",
    "version": 3
   },
   "file_extension": ".py",
   "mimetype": "text/x-python",
   "name": "python",
   "nbconvert_exporter": "python",
   "pygments_lexer": "ipython3",
   "version": "3.10.7"
  }
 },
 "nbformat": 4,
 "nbformat_minor": 5
}
