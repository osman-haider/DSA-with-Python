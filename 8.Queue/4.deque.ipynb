{
 "cells": [
  {
   "cell_type": "code",
   "execution_count": 1,
   "id": "7f3a3523-3664-4200-9ee7-85f15cc17861",
   "metadata": {},
   "outputs": [],
   "source": [
    "from collections import deque"
   ]
  },
  {
   "cell_type": "code",
   "execution_count": 2,
   "id": "9bb37272-eed0-4d37-987c-661ebbba374a",
   "metadata": {},
   "outputs": [],
   "source": [
    "customqueue = deque(maxlen=3)"
   ]
  },
  {
   "cell_type": "code",
   "execution_count": 3,
   "id": "1c85d204-a2f1-40de-9722-306dba892ecb",
   "metadata": {},
   "outputs": [
    {
     "name": "stdout",
     "output_type": "stream",
     "text": [
      "deque([], maxlen=3)\n"
     ]
    }
   ],
   "source": [
    "print(customqueue)"
   ]
  },
  {
   "cell_type": "code",
   "execution_count": 4,
   "id": "4905698a-2791-4104-a7b2-87e00b2047bc",
   "metadata": {},
   "outputs": [],
   "source": [
    "customqueue.append(3)\n",
    "customqueue.append(6)\n",
    "customqueue.append(1)"
   ]
  },
  {
   "cell_type": "code",
   "execution_count": 5,
   "id": "057eeda1-7ec7-4886-856e-2e07cf80080d",
   "metadata": {},
   "outputs": [
    {
     "name": "stdout",
     "output_type": "stream",
     "text": [
      "deque([3, 6, 1], maxlen=3)\n"
     ]
    }
   ],
   "source": [
    "print(customqueue)"
   ]
  },
  {
   "cell_type": "code",
   "execution_count": 7,
   "id": "8be5d977-5e31-440a-95bd-8f88251d2052",
   "metadata": {},
   "outputs": [
    {
     "data": {
      "text/plain": [
       "3"
      ]
     },
     "execution_count": 7,
     "metadata": {},
     "output_type": "execute_result"
    }
   ],
   "source": [
    "customqueue.popleft()"
   ]
  },
  {
   "cell_type": "code",
   "execution_count": 8,
   "id": "d282bb2e-77b0-4331-a9d8-5cdf9d0cb3e9",
   "metadata": {},
   "outputs": [
    {
     "name": "stdout",
     "output_type": "stream",
     "text": [
      "deque([6, 1], maxlen=3)\n"
     ]
    }
   ],
   "source": [
    "print(customqueue)"
   ]
  },
  {
   "cell_type": "code",
   "execution_count": 9,
   "id": "6f79b9e3-cd9a-4fe0-b1b7-47397608f402",
   "metadata": {},
   "outputs": [],
   "source": [
    "customqueue.clear()"
   ]
  },
  {
   "cell_type": "code",
   "execution_count": 10,
   "id": "22ea8b6c-c0a3-42e1-83f2-4c958938e3c5",
   "metadata": {},
   "outputs": [
    {
     "name": "stdout",
     "output_type": "stream",
     "text": [
      "deque([], maxlen=3)\n"
     ]
    }
   ],
   "source": [
    "print(customqueue)"
   ]
  },
  {
   "cell_type": "code",
   "execution_count": null,
   "id": "dd9ed2fc-c0d9-41c4-ad65-0d4bbf569bb4",
   "metadata": {},
   "outputs": [],
   "source": []
  }
 ],
 "metadata": {
  "kernelspec": {
   "display_name": "Python 3 (ipykernel)",
   "language": "python",
   "name": "python3"
  },
  "language_info": {
   "codemirror_mode": {
    "name": "ipython",
    "version": 3
   },
   "file_extension": ".py",
   "mimetype": "text/x-python",
   "name": "python",
   "nbconvert_exporter": "python",
   "pygments_lexer": "ipython3",
   "version": "3.10.7"
  }
 },
 "nbformat": 4,
 "nbformat_minor": 5
}
