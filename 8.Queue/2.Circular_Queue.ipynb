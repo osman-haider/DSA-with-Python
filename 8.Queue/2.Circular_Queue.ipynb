{
 "cells": [
  {
   "cell_type": "code",
   "execution_count": null,
   "id": "7ef83b5b-9f77-4d46-8fc8-abd322e92fe0",
   "metadata": {},
   "outputs": [],
   "source": [
    "class CircularQueue:\n",
    "    def __init__(self,maxsize):\n",
    "        self.items = maxsize * [None]\n",
    "        self.maxsize = maxsize\n",
    "        self.start = -1\n",
    "        self.stop = -1"
   ]
  }
 ],
 "metadata": {
  "kernelspec": {
   "display_name": "Python 3 (ipykernel)",
   "language": "python",
   "name": "python3"
  },
  "language_info": {
   "codemirror_mode": {
    "name": "ipython",
    "version": 3
   },
   "file_extension": ".py",
   "mimetype": "text/x-python",
   "name": "python",
   "nbconvert_exporter": "python",
   "pygments_lexer": "ipython3",
   "version": "3.10.7"
  }
 },
 "nbformat": 4,
 "nbformat_minor": 5
}
