{
 "cells": [
  {
   "cell_type": "code",
   "execution_count": 53,
   "id": "7ef83b5b-9f77-4d46-8fc8-abd322e92fe0",
   "metadata": {},
   "outputs": [],
   "source": [
    "class CircularQueue:\n",
    "    def __init__(self,maxsize): #time complexity is O(1) and space complexity is O(n)\n",
    "        self.items = maxsize * [None]\n",
    "        self.maxsize = maxsize\n",
    "        self.start = -1\n",
    "        self.top = -1\n",
    "\n",
    "    def __str__(self):\n",
    "        values = [str(x) for x in self.items]\n",
    "        return ' '.join(values)\n",
    "\n",
    "    def isFull(self): # time and space complexity is O(1)\n",
    "        if self.top +1 == self.start:\n",
    "            return True\n",
    "        elif self.start == 0 and self.top + 1 == self.maxsize:\n",
    "            return True\n",
    "        else:\n",
    "            return False\n",
    "\n",
    "    def isEmpty(self): # time and space complexity is O(1)\n",
    "        if self.top == -1:\n",
    "            return True\n",
    "        else:\n",
    "            return False\n",
    "\n",
    "    def Enqueue(self,value): # time and space complexity is O(1)\n",
    "        if self.isFull():\n",
    "            return \"Queue is already full\"\n",
    "        else:\n",
    "            self.top += 1\n",
    "            if self.start == -1:\n",
    "                self.start = 0\n",
    "            self.items[self.top] = value\n",
    "            return \"value is inserted at the end of queue\"\n",
    "\n",
    "    def Dequeue(self): # time and space complexity is O(1)\n",
    "        if self.isEmpty():\n",
    "            return \"not element in queue\"\n",
    "        else:\n",
    "            firstElement = self.items[self.start]\n",
    "            start = self.start\n",
    "            if self.start == self.top:\n",
    "                self.start = -1\n",
    "                self.top = -1\n",
    "            elif self.start +1 == self.maxsize:\n",
    "                self.start = 0\n",
    "            else:\n",
    "                self.start += 1\n",
    "            self.items[start] = None\n",
    "            return firstElement\n",
    "\n",
    "    def peek(self): # time and space complexity is O(1)\n",
    "        if self.isEmpty():\n",
    "            return \"There is no element in Queue\"\n",
    "        else:\n",
    "            return self.items[self.start]\n",
    "    def Delete(self): # time and space complexity is O(1)\n",
    "        if self.isEmpty():\n",
    "            return \"There is no element in Queue\"\n",
    "        else:\n",
    "            self.items = self.maxsize * [None]\n",
    "            self.start = -1\n",
    "            self.top = -1\n",
    "            return \"queue is deleted\""
   ]
  },
  {
   "cell_type": "code",
   "execution_count": 54,
   "id": "5f4a215b-65db-461a-b104-0fcb17882a82",
   "metadata": {},
   "outputs": [],
   "source": [
    "customqueue = CircularQueue(3)"
   ]
  },
  {
   "cell_type": "code",
   "execution_count": 55,
   "id": "369ffa9a-247f-4ce8-b0ef-9fcc29c6cc73",
   "metadata": {},
   "outputs": [
    {
     "data": {
      "text/plain": [
       "False"
      ]
     },
     "execution_count": 55,
     "metadata": {},
     "output_type": "execute_result"
    }
   ],
   "source": [
    "customqueue.isFull()"
   ]
  },
  {
   "cell_type": "code",
   "execution_count": 56,
   "id": "a3243345-9191-4d7b-a4cc-9746912fab2c",
   "metadata": {},
   "outputs": [
    {
     "data": {
      "text/plain": [
       "True"
      ]
     },
     "execution_count": 56,
     "metadata": {},
     "output_type": "execute_result"
    }
   ],
   "source": [
    "customqueue.isEmpty() "
   ]
  },
  {
   "cell_type": "code",
   "execution_count": 57,
   "id": "47e1c156-62c7-4be4-8dc2-7723a34cd13c",
   "metadata": {},
   "outputs": [
    {
     "data": {
      "text/plain": [
       "'value is inserted at the end of queue'"
      ]
     },
     "execution_count": 57,
     "metadata": {},
     "output_type": "execute_result"
    }
   ],
   "source": [
    "customqueue.Enqueue(5)"
   ]
  },
  {
   "cell_type": "code",
   "execution_count": 58,
   "id": "5311e178-c54f-4ec5-b7d6-b3965b61f09a",
   "metadata": {},
   "outputs": [
    {
     "data": {
      "text/plain": [
       "'value is inserted at the end of queue'"
      ]
     },
     "execution_count": 58,
     "metadata": {},
     "output_type": "execute_result"
    }
   ],
   "source": [
    "customqueue.Enqueue(3)\n",
    "customqueue.Enqueue(7)"
   ]
  },
  {
   "cell_type": "code",
   "execution_count": 59,
   "id": "c1c3f471-12a8-4821-ad72-fb6ffde30caa",
   "metadata": {},
   "outputs": [
    {
     "name": "stdout",
     "output_type": "stream",
     "text": [
      "5 3 7\n"
     ]
    }
   ],
   "source": [
    "print(customqueue)"
   ]
  },
  {
   "cell_type": "code",
   "execution_count": 60,
   "id": "3cb3658f-069a-401a-bdff-4ec3836cfa30",
   "metadata": {},
   "outputs": [
    {
     "data": {
      "text/plain": [
       "True"
      ]
     },
     "execution_count": 60,
     "metadata": {},
     "output_type": "execute_result"
    }
   ],
   "source": [
    "customqueue.isFull()"
   ]
  },
  {
   "cell_type": "code",
   "execution_count": 61,
   "id": "ab89dc11-a24e-4f96-9c58-3dca469be6ab",
   "metadata": {},
   "outputs": [
    {
     "data": {
      "text/plain": [
       "5"
      ]
     },
     "execution_count": 61,
     "metadata": {},
     "output_type": "execute_result"
    }
   ],
   "source": [
    "customqueue.Dequeue()"
   ]
  },
  {
   "cell_type": "code",
   "execution_count": 62,
   "id": "419d9dc4-6139-4684-b08f-d569141c0ff1",
   "metadata": {},
   "outputs": [
    {
     "name": "stdout",
     "output_type": "stream",
     "text": [
      "None 3 7\n"
     ]
    }
   ],
   "source": [
    "print(customqueue)"
   ]
  },
  {
   "cell_type": "code",
   "execution_count": 63,
   "id": "1d7b7c1b-dcfd-4990-9e62-0c9f09777904",
   "metadata": {},
   "outputs": [
    {
     "data": {
      "text/plain": [
       "3"
      ]
     },
     "execution_count": 63,
     "metadata": {},
     "output_type": "execute_result"
    }
   ],
   "source": [
    "customqueue.peek()"
   ]
  },
  {
   "cell_type": "code",
   "execution_count": 64,
   "id": "edcda1cb-5627-4203-8d21-afc2703fc7e1",
   "metadata": {},
   "outputs": [
    {
     "name": "stdout",
     "output_type": "stream",
     "text": [
      "None 3 7\n"
     ]
    }
   ],
   "source": [
    "print(customqueue)"
   ]
  },
  {
   "cell_type": "code",
   "execution_count": 65,
   "id": "0fd2fc08-35e8-4850-a4a0-86faf5e866d8",
   "metadata": {},
   "outputs": [
    {
     "data": {
      "text/plain": [
       "'queue is deleted'"
      ]
     },
     "execution_count": 65,
     "metadata": {},
     "output_type": "execute_result"
    }
   ],
   "source": [
    "customqueue.Delete()"
   ]
  },
  {
   "cell_type": "code",
   "execution_count": 66,
   "id": "6d3f26f1-350d-4935-9729-a9a3df5457bc",
   "metadata": {},
   "outputs": [
    {
     "name": "stdout",
     "output_type": "stream",
     "text": [
      "None None None\n"
     ]
    }
   ],
   "source": [
    "print(customqueue)"
   ]
  },
  {
   "cell_type": "code",
   "execution_count": null,
   "id": "2b7d49b1-7aae-49ab-a287-afa3a957c9db",
   "metadata": {},
   "outputs": [],
   "source": []
  }
 ],
 "metadata": {
  "kernelspec": {
   "display_name": "Python 3 (ipykernel)",
   "language": "python",
   "name": "python3"
  },
  "language_info": {
   "codemirror_mode": {
    "name": "ipython",
    "version": 3
   },
   "file_extension": ".py",
   "mimetype": "text/x-python",
   "name": "python",
   "nbconvert_exporter": "python",
   "pygments_lexer": "ipython3",
   "version": "3.10.7"
  }
 },
 "nbformat": 4,
 "nbformat_minor": 5
}
