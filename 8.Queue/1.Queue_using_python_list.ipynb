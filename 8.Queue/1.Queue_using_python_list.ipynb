{
 "cells": [
  {
   "cell_type": "code",
   "execution_count": 47,
   "id": "a283002d-6950-4ee1-b813-d0f4d23bae57",
   "metadata": {},
   "outputs": [],
   "source": [
    "class Queue:\n",
    "    def __init__(self):\n",
    "        self.items= []\n",
    "\n",
    "    def __str__(self):\n",
    "        values = [str(x) for x in self.items]\n",
    "        return ' '.join(values)\n",
    "\n",
    "    def isEmpty(self):\n",
    "        if self.items == []:\n",
    "            return True\n",
    "        else:\n",
    "            return False\n",
    "\n",
    "    def Enqueue(self,value):\n",
    "        self.items.append(value)\n",
    "        return \"Value is inserted at the end of list\"\n",
    "\n",
    "    def Dequeue(self):\n",
    "        if self.isEmpty():\n",
    "            return \"There is no element in Queue\"\n",
    "        else:\n",
    "            self.items.pop(0) # it remove first element from queue\n",
    "            return \"First value is removed from the queue\"\n",
    "\n",
    "    def peek(self):\n",
    "        if self.isEmpty():\n",
    "            return \"There is no element in Queue\"\n",
    "        else:\n",
    "            return self.items[0]\n",
    "            \n",
    "    def Delete(self):\n",
    "        if self.isEmpty():\n",
    "            return \"There is no element in Queue\"\n",
    "        else:\n",
    "            self.items = None\n",
    "            return \"queue is deleted\""
   ]
  },
  {
   "cell_type": "code",
   "execution_count": 48,
   "id": "1000d3a0-2b8e-4a02-a017-79d5a23d47c8",
   "metadata": {},
   "outputs": [],
   "source": [
    "queue = Queue()"
   ]
  },
  {
   "cell_type": "code",
   "execution_count": 49,
   "id": "1ea3c2d8-1a17-4136-a1b8-c2c941b7193b",
   "metadata": {},
   "outputs": [
    {
     "data": {
      "text/plain": [
       "True"
      ]
     },
     "execution_count": 49,
     "metadata": {},
     "output_type": "execute_result"
    }
   ],
   "source": [
    "queue.isEmpty() # time and space complexity is O(1)"
   ]
  },
  {
   "cell_type": "code",
   "execution_count": 50,
   "id": "05b56afd-d9a6-4df1-a494-c9d0b42ced5c",
   "metadata": {},
   "outputs": [
    {
     "data": {
      "text/plain": [
       "'Value is inserted at the end of list'"
      ]
     },
     "execution_count": 50,
     "metadata": {},
     "output_type": "execute_result"
    }
   ],
   "source": [
    "queue.Enqueue(5) # time complexity in wrost case O(n) and space complexity is O(1)"
   ]
  },
  {
   "cell_type": "code",
   "execution_count": 51,
   "id": "c8441354-1dc1-47a0-9d8c-0eaaac75a77c",
   "metadata": {},
   "outputs": [
    {
     "data": {
      "text/plain": [
       "'Value is inserted at the end of list'"
      ]
     },
     "execution_count": 51,
     "metadata": {},
     "output_type": "execute_result"
    }
   ],
   "source": [
    "queue.Enqueue(3)\n",
    "queue.Enqueue(8)"
   ]
  },
  {
   "cell_type": "code",
   "execution_count": 52,
   "id": "8d42b63b-3796-45ed-9d5b-6bd438fcd13b",
   "metadata": {},
   "outputs": [
    {
     "name": "stdout",
     "output_type": "stream",
     "text": [
      "5 3 8\n"
     ]
    }
   ],
   "source": [
    "print(queue)"
   ]
  },
  {
   "cell_type": "code",
   "execution_count": 53,
   "id": "7ea373f6-6374-41ac-811b-7fa98d4c7eb0",
   "metadata": {},
   "outputs": [
    {
     "data": {
      "text/plain": [
       "'First value is removed from the queue'"
      ]
     },
     "execution_count": 53,
     "metadata": {},
     "output_type": "execute_result"
    }
   ],
   "source": [
    "queue.Dequeue() # time complexity is O(n) and space complexity is O(1)"
   ]
  },
  {
   "cell_type": "code",
   "execution_count": 54,
   "id": "728b06e6-95fa-4962-a5f0-70977561085c",
   "metadata": {},
   "outputs": [
    {
     "name": "stdout",
     "output_type": "stream",
     "text": [
      "3 8\n"
     ]
    }
   ],
   "source": [
    "print(queue)"
   ]
  },
  {
   "cell_type": "code",
   "execution_count": 55,
   "id": "bc25740b-8b8a-4fea-ad11-601df07caab8",
   "metadata": {},
   "outputs": [
    {
     "data": {
      "text/plain": [
       "3"
      ]
     },
     "execution_count": 55,
     "metadata": {},
     "output_type": "execute_result"
    }
   ],
   "source": [
    "queue.peek() # time and space complexity is O(1)"
   ]
  },
  {
   "cell_type": "code",
   "execution_count": 56,
   "id": "b8eb9a32-c9bc-463f-ad94-b857f79f6eb6",
   "metadata": {},
   "outputs": [
    {
     "name": "stdout",
     "output_type": "stream",
     "text": [
      "3 8\n"
     ]
    }
   ],
   "source": [
    "print(queue)"
   ]
  },
  {
   "cell_type": "code",
   "execution_count": 57,
   "id": "ab9bde2d-efb1-4ad3-b742-907606beffe6",
   "metadata": {},
   "outputs": [
    {
     "data": {
      "text/plain": [
       "'queue is deleted'"
      ]
     },
     "execution_count": 57,
     "metadata": {},
     "output_type": "execute_result"
    }
   ],
   "source": [
    "queue.Delete()"
   ]
  },
  {
   "cell_type": "code",
   "execution_count": 58,
   "id": "9f6d7321-6c89-40d2-b156-a2495023724b",
   "metadata": {},
   "outputs": [
    {
     "ename": "TypeError",
     "evalue": "'NoneType' object is not iterable",
     "output_type": "error",
     "traceback": [
      "\u001b[1;31m---------------------------------------------------------------------------\u001b[0m",
      "\u001b[1;31mTypeError\u001b[0m                                 Traceback (most recent call last)",
      "Cell \u001b[1;32mIn[58], line 1\u001b[0m\n\u001b[1;32m----> 1\u001b[0m \u001b[38;5;28;43mprint\u001b[39;49m\u001b[43m(\u001b[49m\u001b[43mqueue\u001b[49m\u001b[43m)\u001b[49m\n",
      "Cell \u001b[1;32mIn[47], line 6\u001b[0m, in \u001b[0;36mQueue.__str__\u001b[1;34m(self)\u001b[0m\n\u001b[0;32m      5\u001b[0m \u001b[38;5;28;01mdef\u001b[39;00m \u001b[38;5;21m__str__\u001b[39m(\u001b[38;5;28mself\u001b[39m):\n\u001b[1;32m----> 6\u001b[0m     values \u001b[38;5;241m=\u001b[39m [\u001b[38;5;28mstr\u001b[39m(x) \u001b[38;5;28;01mfor\u001b[39;00m x \u001b[38;5;129;01min\u001b[39;00m \u001b[38;5;28mself\u001b[39m\u001b[38;5;241m.\u001b[39mitems]\n\u001b[0;32m      7\u001b[0m     \u001b[38;5;28;01mreturn\u001b[39;00m \u001b[38;5;124m'\u001b[39m\u001b[38;5;124m \u001b[39m\u001b[38;5;124m'\u001b[39m\u001b[38;5;241m.\u001b[39mjoin(values)\n",
      "\u001b[1;31mTypeError\u001b[0m: 'NoneType' object is not iterable"
     ]
    }
   ],
   "source": [
    "print(queue)"
   ]
  },
  {
   "cell_type": "code",
   "execution_count": null,
   "id": "640d7c89-3d22-4d14-ab1b-df67e5bec7fe",
   "metadata": {},
   "outputs": [],
   "source": []
  }
 ],
 "metadata": {
  "kernelspec": {
   "display_name": "Python 3 (ipykernel)",
   "language": "python",
   "name": "python3"
  },
  "language_info": {
   "codemirror_mode": {
    "name": "ipython",
    "version": 3
   },
   "file_extension": ".py",
   "mimetype": "text/x-python",
   "name": "python",
   "nbconvert_exporter": "python",
   "pygments_lexer": "ipython3",
   "version": "3.10.7"
  }
 },
 "nbformat": 4,
 "nbformat_minor": 5
}
