{
 "cells": [
  {
   "cell_type": "code",
   "execution_count": 1,
   "id": "0dfb5daa-da20-491c-a8ad-4ca4c6198c53",
   "metadata": {},
   "outputs": [],
   "source": [
    "class Node:\n",
    "    def __init__(self,value=None):\n",
    "        self.value = value\n",
    "        self.next = None\n",
    "\n",
    "    def __str__(self):\n",
    "        return str(self.value)"
   ]
  },
  {
   "cell_type": "code",
   "execution_count": 2,
   "id": "1ece8d4f-48fd-45e4-beec-3487fa1e0516",
   "metadata": {},
   "outputs": [],
   "source": [
    "class Linkedlist:\n",
    "    def __init__(self):\n",
    "        self.head = None\n",
    "        self.tail = None\n",
    "\n",
    "    def __iter__(self):\n",
    "        node = self.head\n",
    "        while node:\n",
    "            yield node\n",
    "            node = node.next"
   ]
  },
  {
   "cell_type": "code",
   "execution_count": 62,
   "id": "dca92080-d251-429a-9da5-cdddb61b7c3a",
   "metadata": {},
   "outputs": [],
   "source": [
    "class Queue:\n",
    "    def __init__(self):\n",
    "        self.linkedlist = Linkedlist()\n",
    "\n",
    "    def __str__(self):\n",
    "        values = [str(x) for x in self.linkedlist]\n",
    "        return ' '.join(values)\n",
    "\n",
    "    def enqueue(self,value): # time and space complexity is O(1)\n",
    "        newNode = Node(value)\n",
    "        if self.linkedlist.head == None:\n",
    "            self.linkedlist.head = newNode\n",
    "            self.linkedlist.tail = newNode\n",
    "        else:\n",
    "            self.linkedlist.tail.next = newNode\n",
    "            self.linkedlist.tail = newNode\n",
    "\n",
    "    def isEmpty(self): # time and space complexity is O(1)\n",
    "        if self.linkedlist.head == None:\n",
    "            return True\n",
    "        else:\n",
    "            return False\n",
    "\n",
    "    def dequeue(self): # time and space complexity is O(1)\n",
    "        if self.isEmpty():\n",
    "            return \"Queue is empty\"\n",
    "        else:\n",
    "            tempnode = self.linkedlist.head\n",
    "            if self.linkedlist.head == self.linkedlist.tail:\n",
    "                self.linkedlist.head = None\n",
    "                self.linkedlist.tail = None\n",
    "            else:\n",
    "                self.linkedlist.head = self.linkedlist.head.next\n",
    "            print(tempnode)\n",
    "            return \"first element is deleted \"\n",
    "\n",
    "    def peek(self): # time and space complexity is O(1)\n",
    "        if self.isEmpty():\n",
    "            return \"Queue is empty\"\n",
    "        else:\n",
    "            print(self.linkedlist.head)\n",
    "\n",
    "    def delete(self): # time and space complexity is O(1)\n",
    "        if self.isEmpty():\n",
    "            return \"Queue is empty\"\n",
    "        else:\n",
    "            self.linkedlist.head = None\n",
    "            self.linkedlist.tail = None\n",
    "            return \" queue is deleted\""
   ]
  },
  {
   "cell_type": "code",
   "execution_count": 63,
   "id": "e11e6b40-e83e-4c12-a356-a0f1dc6ee9f3",
   "metadata": {},
   "outputs": [],
   "source": [
    "customqueue = Queue()"
   ]
  },
  {
   "cell_type": "code",
   "execution_count": 64,
   "id": "c7c04d30-4bac-48d9-826f-b3ca68c45471",
   "metadata": {},
   "outputs": [
    {
     "data": {
      "text/plain": [
       "True"
      ]
     },
     "execution_count": 64,
     "metadata": {},
     "output_type": "execute_result"
    }
   ],
   "source": [
    "customqueue.isEmpty()"
   ]
  },
  {
   "cell_type": "code",
   "execution_count": 65,
   "id": "50240f9e-7392-4c30-89cf-4e409739b374",
   "metadata": {},
   "outputs": [],
   "source": [
    "customqueue.enqueue(5)\n",
    "customqueue.enqueue(3)\n",
    "customqueue.enqueue(9)"
   ]
  },
  {
   "cell_type": "code",
   "execution_count": 66,
   "id": "f0d50236-7957-44fb-ab81-c436e71cb3a5",
   "metadata": {},
   "outputs": [
    {
     "name": "stdout",
     "output_type": "stream",
     "text": [
      "5 3 9\n"
     ]
    }
   ],
   "source": [
    "print(customqueue)"
   ]
  },
  {
   "cell_type": "code",
   "execution_count": 67,
   "id": "b5900a88-9826-429c-b403-9c4e9b09d970",
   "metadata": {},
   "outputs": [
    {
     "name": "stdout",
     "output_type": "stream",
     "text": [
      "5\n"
     ]
    },
    {
     "data": {
      "text/plain": [
       "'first element is deleted '"
      ]
     },
     "execution_count": 67,
     "metadata": {},
     "output_type": "execute_result"
    }
   ],
   "source": [
    "customqueue.dequeue()"
   ]
  },
  {
   "cell_type": "code",
   "execution_count": 68,
   "id": "96a4efeb-6bb1-4d77-8442-57476523c2cf",
   "metadata": {},
   "outputs": [
    {
     "name": "stdout",
     "output_type": "stream",
     "text": [
      "3 9\n"
     ]
    }
   ],
   "source": [
    "print(customqueue)"
   ]
  },
  {
   "cell_type": "code",
   "execution_count": 69,
   "id": "4418cb60-c67e-41ef-9a8b-b83287a8aacd",
   "metadata": {},
   "outputs": [
    {
     "name": "stdout",
     "output_type": "stream",
     "text": [
      "3\n"
     ]
    }
   ],
   "source": [
    "customqueue.peek()"
   ]
  },
  {
   "cell_type": "code",
   "execution_count": 70,
   "id": "7ad768db-e862-441d-ae9c-4e01eecfff8e",
   "metadata": {},
   "outputs": [
    {
     "data": {
      "text/plain": [
       "' queue is deleted'"
      ]
     },
     "execution_count": 70,
     "metadata": {},
     "output_type": "execute_result"
    }
   ],
   "source": [
    "customqueue.delete()"
   ]
  },
  {
   "cell_type": "code",
   "execution_count": 71,
   "id": "a68dabaf-0f6e-4122-aa52-e7d5d369b7cc",
   "metadata": {},
   "outputs": [
    {
     "name": "stdout",
     "output_type": "stream",
     "text": [
      "\n"
     ]
    }
   ],
   "source": [
    "print(customqueue)"
   ]
  },
  {
   "cell_type": "code",
   "execution_count": null,
   "id": "662beba7-41f6-4491-8a93-bc231012a6e1",
   "metadata": {},
   "outputs": [],
   "source": []
  }
 ],
 "metadata": {
  "kernelspec": {
   "display_name": "Python 3 (ipykernel)",
   "language": "python",
   "name": "python3"
  },
  "language_info": {
   "codemirror_mode": {
    "name": "ipython",
    "version": 3
   },
   "file_extension": ".py",
   "mimetype": "text/x-python",
   "name": "python",
   "nbconvert_exporter": "python",
   "pygments_lexer": "ipython3",
   "version": "3.10.7"
  }
 },
 "nbformat": 4,
 "nbformat_minor": 5
}
