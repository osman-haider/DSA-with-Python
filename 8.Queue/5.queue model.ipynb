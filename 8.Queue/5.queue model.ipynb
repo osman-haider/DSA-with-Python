{
 "cells": [
  {
   "cell_type": "code",
   "execution_count": 1,
   "id": "9ce21b4d-f021-425e-88bb-71112c7a6e80",
   "metadata": {},
   "outputs": [],
   "source": [
    "import queue as q"
   ]
  },
  {
   "cell_type": "code",
   "execution_count": 2,
   "id": "940ee037-1b5c-4175-bdd2-499db92ecb83",
   "metadata": {},
   "outputs": [],
   "source": [
    "customqueue = q.Queue(maxsize=3)"
   ]
  },
  {
   "cell_type": "code",
   "execution_count": 3,
   "id": "e90b361a-f800-4250-967f-ed63c6258bd1",
   "metadata": {},
   "outputs": [
    {
     "name": "stdout",
     "output_type": "stream",
     "text": [
      "0\n"
     ]
    }
   ],
   "source": [
    "print(customqueue.qsize())"
   ]
  },
  {
   "cell_type": "code",
   "execution_count": 4,
   "id": "0fb0fb10-7880-4f03-acfe-858db6d32cdc",
   "metadata": {},
   "outputs": [],
   "source": [
    "customqueue.put(4)\n",
    "customqueue.put(3)\n",
    "customqueue.put(9)"
   ]
  },
  {
   "cell_type": "code",
   "execution_count": 5,
   "id": "40f90ce4-0ff7-4b71-a8cf-adc0331d6d06",
   "metadata": {},
   "outputs": [
    {
     "name": "stdout",
     "output_type": "stream",
     "text": [
      "<queue.Queue object at 0x00000178345C3610>\n"
     ]
    }
   ],
   "source": [
    "print(customqueue)"
   ]
  },
  {
   "cell_type": "code",
   "execution_count": 6,
   "id": "5db0971e-46a2-46be-8240-9d222a30e162",
   "metadata": {},
   "outputs": [
    {
     "name": "stdout",
     "output_type": "stream",
     "text": [
      "False\n"
     ]
    }
   ],
   "source": [
    "print(customqueue.empty())"
   ]
  },
  {
   "cell_type": "code",
   "execution_count": 7,
   "id": "4ca41e72-8273-4751-912e-3262311519d9",
   "metadata": {},
   "outputs": [
    {
     "name": "stdout",
     "output_type": "stream",
     "text": [
      "True\n"
     ]
    }
   ],
   "source": [
    "print(customqueue.full())"
   ]
  },
  {
   "cell_type": "code",
   "execution_count": 8,
   "id": "f1f26a34-4601-4ce0-80a7-b5f343778401",
   "metadata": {},
   "outputs": [
    {
     "name": "stdout",
     "output_type": "stream",
     "text": [
      "3\n"
     ]
    }
   ],
   "source": [
    "print(customqueue.qsize())"
   ]
  },
  {
   "cell_type": "code",
   "execution_count": 9,
   "id": "3f77e2e5-60e9-4910-ba28-7ce731402585",
   "metadata": {},
   "outputs": [
    {
     "name": "stdout",
     "output_type": "stream",
     "text": [
      "4\n"
     ]
    }
   ],
   "source": [
    "print(customqueue.get())"
   ]
  },
  {
   "cell_type": "code",
   "execution_count": 10,
   "id": "c6688a8e-f158-44b3-9370-274cd60ac8c7",
   "metadata": {},
   "outputs": [
    {
     "name": "stdout",
     "output_type": "stream",
     "text": [
      "2\n"
     ]
    }
   ],
   "source": [
    "print(customqueue.qsize())"
   ]
  },
  {
   "cell_type": "code",
   "execution_count": null,
   "id": "9f9d9197-001e-4492-abcc-ff4b31370dc7",
   "metadata": {},
   "outputs": [],
   "source": []
  }
 ],
 "metadata": {
  "kernelspec": {
   "display_name": "Python 3 (ipykernel)",
   "language": "python",
   "name": "python3"
  },
  "language_info": {
   "codemirror_mode": {
    "name": "ipython",
    "version": 3
   },
   "file_extension": ".py",
   "mimetype": "text/x-python",
   "name": "python",
   "nbconvert_exporter": "python",
   "pygments_lexer": "ipython3",
   "version": "3.10.7"
  }
 },
 "nbformat": 4,
 "nbformat_minor": 5
}
