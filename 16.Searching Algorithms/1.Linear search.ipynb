{
 "cells": [
  {
   "cell_type": "code",
   "execution_count": 5,
   "id": "66edc178-0b8a-48fe-afb1-ffcd32708eee",
   "metadata": {},
   "outputs": [],
   "source": [
    "def linearsearch(arr,value): # time complexity is O(n) and space complexity is O(1)\n",
    "    for i in range(len(arr)):\n",
    "        if arr[i] == value:\n",
    "            return i\n",
    "    return -1"
   ]
  },
  {
   "cell_type": "code",
   "execution_count": 4,
   "id": "4317b721-b4cf-46a7-8328-668c05760400",
   "metadata": {},
   "outputs": [
    {
     "data": {
      "text/plain": [
       "-1"
      ]
     },
     "execution_count": 4,
     "metadata": {},
     "output_type": "execute_result"
    }
   ],
   "source": [
    "arr = [2,4,2,16,7,4,776,44,23]\n",
    "linearsearch(arr,5)"
   ]
  },
  {
   "cell_type": "code",
   "execution_count": null,
   "id": "98f2b1d7-2cfe-4d3c-a78c-fc91adac85f9",
   "metadata": {},
   "outputs": [],
   "source": []
  }
 ],
 "metadata": {
  "kernelspec": {
   "display_name": "Python 3 (ipykernel)",
   "language": "python",
   "name": "python3"
  },
  "language_info": {
   "codemirror_mode": {
    "name": "ipython",
    "version": 3
   },
   "file_extension": ".py",
   "mimetype": "text/x-python",
   "name": "python",
   "nbconvert_exporter": "python",
   "pygments_lexer": "ipython3",
   "version": "3.10.7"
  }
 },
 "nbformat": 4,
 "nbformat_minor": 5
}
