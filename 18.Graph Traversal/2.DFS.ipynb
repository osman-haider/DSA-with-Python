{
 "cells": [
  {
   "cell_type": "code",
   "execution_count": 2,
   "id": "379de2d8-6e29-4c92-8fa4-cb3ad6f06f46",
   "metadata": {},
   "outputs": [],
   "source": [
    "class Graph:\n",
    "    def __init__(self, gdict=None):\n",
    "        if gdict is None:\n",
    "            gdict = {}\n",
    "        self.gdict = gdict\n",
    "    \n",
    "    def addEdge(self, vertex, edge):\n",
    "        self.gdict[vertex].append(edge)\n",
    "\n",
    "    def dfs(self, vertex):\n",
    "        visited = [vertex]\n",
    "        stack = [vertex]\n",
    "        while stack:\n",
    "            popVertex = stack.pop()\n",
    "            print(popVertex)\n",
    "            for adjacentVertex in self.gdict[popVertex]:\n",
    "                if adjacentVertex not in visited:\n",
    "                    visited.append(adjacentVertex)\n",
    "                    stack.append(adjacentVertex)"
   ]
  },
  {
   "cell_type": "code",
   "execution_count": 3,
   "id": "f65d2774-2d66-41e7-8b16-714dcf3d956f",
   "metadata": {},
   "outputs": [
    {
     "name": "stdout",
     "output_type": "stream",
     "text": [
      "a\n",
      "c\n",
      "e\n",
      "f\n",
      "d\n",
      "b\n"
     ]
    }
   ],
   "source": [
    "customDict = { \"a\" : [\"b\",\"c\"],\n",
    "            \"b\" : [\"a\", \"d\", \"e\"],\n",
    "            \"c\" : [\"a\", \"e\"],\n",
    "            \"d\" : [\"b\", \"e\", \"f\"],\n",
    "            \"e\" : [\"d\", \"f\", \"c\"],\n",
    "            \"f\" : [\"d\", \"e\"]\n",
    "               }\n",
    "\n",
    "\n",
    "\n",
    "g = Graph(customDict)\n",
    "g.dfs(\"a\")"
   ]
  },
  {
   "cell_type": "code",
   "execution_count": null,
   "id": "859452c2-6d6a-4aa0-94a1-43714544a397",
   "metadata": {},
   "outputs": [],
   "source": []
  },
  {
   "cell_type": "code",
   "execution_count": null,
   "id": "4b893f4f-f707-4a92-a22f-9fc76f4bb39d",
   "metadata": {},
   "outputs": [],
   "source": []
  }
 ],
 "metadata": {
  "kernelspec": {
   "display_name": "Python 3 (ipykernel)",
   "language": "python",
   "name": "python3"
  },
  "language_info": {
   "codemirror_mode": {
    "name": "ipython",
    "version": 3
   },
   "file_extension": ".py",
   "mimetype": "text/x-python",
   "name": "python",
   "nbconvert_exporter": "python",
   "pygments_lexer": "ipython3",
   "version": "3.10.7"
  }
 },
 "nbformat": 4,
 "nbformat_minor": 5
}
