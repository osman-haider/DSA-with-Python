{
 "cells": [
  {
   "cell_type": "code",
   "execution_count": 7,
   "id": "92fae0e5-0991-4b30-bbbc-5b28f14fb392",
   "metadata": {},
   "outputs": [],
   "source": [
    "def Febonacci(N):\n",
    "    li = []\n",
    "    if N < 0:\n",
    "        return \"Value must be grater then 0\"\n",
    "    elif N == 1:\n",
    "        return 0\n",
    "    elif N == 2:\n",
    "        return 1\n",
    "    else:\n",
    "        return Febonacci(N-1)+Febonacci(N-2)"
   ]
  },
  {
   "cell_type": "code",
   "execution_count": 12,
   "id": "dbaa3b64-ca20-4256-b5b9-5210d09ce8b0",
   "metadata": {},
   "outputs": [
    {
     "data": {
      "text/plain": [
       "21"
      ]
     },
     "execution_count": 12,
     "metadata": {},
     "output_type": "execute_result"
    }
   ],
   "source": [
    "Febonacci(9)"
   ]
  },
  {
   "cell_type": "code",
   "execution_count": null,
   "id": "b3515e42-dc43-48bb-8830-3361c03a4b56",
   "metadata": {},
   "outputs": [],
   "source": []
  }
 ],
 "metadata": {
  "kernelspec": {
   "display_name": "Python 3 (ipykernel)",
   "language": "python",
   "name": "python3"
  },
  "language_info": {
   "codemirror_mode": {
    "name": "ipython",
    "version": 3
   },
   "file_extension": ".py",
   "mimetype": "text/x-python",
   "name": "python",
   "nbconvert_exporter": "python",
   "pygments_lexer": "ipython3",
   "version": "3.10.7"
  }
 },
 "nbformat": 4,
 "nbformat_minor": 5
}
