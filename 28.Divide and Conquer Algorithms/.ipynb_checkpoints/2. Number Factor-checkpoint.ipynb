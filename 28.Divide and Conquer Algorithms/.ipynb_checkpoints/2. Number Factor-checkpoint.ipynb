{
 "cells": [
  {
   "cell_type": "code",
   "execution_count": 1,
   "id": "8b5b4634-0e79-40ba-b3c4-ac24ed395688",
   "metadata": {},
   "outputs": [],
   "source": [
    "def numberFactor(n):\n",
    "    if n in (0,1,2):\n",
    "        return 1\n",
    "    elif n == 3:\n",
    "        return 2\n",
    "    else:\n",
    "        subP1 = numberFactor(n-1)\n",
    "        subP2 = numberFactor(n-3)\n",
    "        subP3 = numberFactor(n-4)\n",
    "        return subP1+subP2+subP3"
   ]
  },
  {
   "cell_type": "code",
   "execution_count": 4,
   "id": "cf8196c7-1ab3-4440-b910-bfb373b4de28",
   "metadata": {},
   "outputs": [
    {
     "name": "stdout",
     "output_type": "stream",
     "text": [
      "6\n"
     ]
    }
   ],
   "source": [
    "print(numberFactor(5))"
   ]
  },
  {
   "cell_type": "code",
   "execution_count": null,
   "id": "b5ff7b43-7bad-4fab-9d1d-6c8b4a41b3a0",
   "metadata": {},
   "outputs": [],
   "source": []
  }
 ],
 "metadata": {
  "kernelspec": {
   "display_name": "Python 3 (ipykernel)",
   "language": "python",
   "name": "python3"
  },
  "language_info": {
   "codemirror_mode": {
    "name": "ipython",
    "version": 3
   },
   "file_extension": ".py",
   "mimetype": "text/x-python",
   "name": "python",
   "nbconvert_exporter": "python",
   "pygments_lexer": "ipython3",
   "version": "3.10.7"
  }
 },
 "nbformat": 4,
 "nbformat_minor": 5
}
