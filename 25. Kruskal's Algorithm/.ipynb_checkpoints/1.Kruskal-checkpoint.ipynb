{
 "cells": [
  {
   "cell_type": "code",
   "execution_count": 1,
   "id": "1f5afa14-a8d7-4dab-ae8f-a3d190551a39",
   "metadata": {},
   "outputs": [],
   "source": [
    "class DisjointSet:\n",
    "    def __init__(self, vertices):\n",
    "        self.vertices = vertices\n",
    "        self.parent = {}\n",
    "        for v in vertices:\n",
    "            self.parent[v] = v\n",
    "        self.rank = dict.fromkeys(vertices, 0)\n",
    "    \n",
    "    def find(self, item):\n",
    "        if item not in self.parent:\n",
    "            return f\"Item '{item}' is not present in the disjoint set.\"\n",
    "        \n",
    "        if self.parent[item] == item:\n",
    "            return item\n",
    "        else:\n",
    "            return self.find(self.parent[item])\n",
    "    \n",
    "    def union(self, x, y):\n",
    "        xroot = self.find(x)\n",
    "        yroot = self.find(y)\n",
    "        \n",
    "        if xroot == yroot:\n",
    "            return  # They are already in the same set\n",
    "        \n",
    "        if self.rank[xroot] < self.rank[yroot]:\n",
    "            self.parent[xroot] = yroot\n",
    "        elif self.rank[xroot] > self.rank[yroot]:\n",
    "            self.parent[yroot] = xroot\n",
    "        else:\n",
    "            self.parent[yroot] = xroot\n",
    "            self.rank[xroot] += 1"
   ]
  },
  {
   "cell_type": "code",
   "execution_count": 2,
   "id": "4a765b6c-ea83-4a3b-ae6c-27a18bb1bde6",
   "metadata": {},
   "outputs": [],
   "source": [
    "class Graph:\n",
    "    def __init__(self, vertices):\n",
    "        self.V = vertices\n",
    "        self.graph = []\n",
    "        self.nodes = []\n",
    "        self.MST = []\n",
    "\n",
    "    def addEdge(self, s, d, w): # s= source, d= destination, w= weight\n",
    "        self.graph.append([s, d, w])\n",
    "    \n",
    "    def addNode(self, value):\n",
    "        self.nodes.append(value)\n",
    "    \n",
    "    def printSolution(self,s,d,w):\n",
    "        for s, d, w in self.MST:\n",
    "            print(\"%s - %s: %s\" % (s, d, w))\n",
    "    \n",
    "    def kruskalAlgo(self):\n",
    "        i, e = 0, 0\n",
    "        ds = DisjointSet(self.nodes)\n",
    "        self.graph = sorted(self.graph, key=lambda item: item[2])\n",
    "        while e < self.V - 1:\n",
    "            s, d, w = self.graph[i]\n",
    "            i += 1\n",
    "            x = ds.find(s)\n",
    "            y = ds.find(d)\n",
    "            if x != y:\n",
    "                e += 1\n",
    "                self.MST.append([s,d,w])\n",
    "                ds.union(x,y)\n",
    "        self.printSolution(s,d,w)"
   ]
  },
  {
   "cell_type": "code",
   "execution_count": 3,
   "id": "6463a5ba-9296-44f9-9921-751f2259052f",
   "metadata": {},
   "outputs": [],
   "source": [
    "g = Graph(5)\n",
    "g.addNode(\"A\")\n",
    "g.addNode(\"B\")\n",
    "g.addNode(\"C\")\n",
    "g.addNode(\"D\")\n",
    "g.addNode(\"E\")\n",
    "g.addEdge(\"A\", \"B\", 5)\n",
    "g.addEdge(\"A\", \"C\", 13)\n",
    "g.addEdge(\"A\", \"E\", 15)\n",
    "g.addEdge(\"B\", \"A\", 5)\n",
    "g.addEdge(\"B\", \"C\", 10)\n",
    "g.addEdge(\"B\", \"D\", 8)\n",
    "g.addEdge(\"C\", \"A\", 13)\n",
    "g.addEdge(\"C\", \"B\", 10)\n",
    "g.addEdge(\"C\", \"E\", 20)\n",
    "g.addEdge(\"C\", \"D\", 6)\n",
    "g.addEdge(\"D\", \"B\", 8)\n",
    "g.addEdge(\"D\", \"C\", 6)\n",
    "g.addEdge(\"E\", \"A\", 15)\n",
    "g.addEdge(\"E\", \"C\", 20)"
   ]
  },
  {
   "cell_type": "code",
   "execution_count": 4,
   "id": "fd3165c3-4524-4ba7-9d4e-e674e1fe01ba",
   "metadata": {},
   "outputs": [
    {
     "name": "stdout",
     "output_type": "stream",
     "text": [
      "A - B: 5\n",
      "C - D: 6\n",
      "B - D: 8\n",
      "A - E: 15\n"
     ]
    }
   ],
   "source": [
    "g.kruskalAlgo()"
   ]
  },
  {
   "cell_type": "code",
   "execution_count": null,
   "id": "7cb54405-f39f-4e6f-8d16-6687e23c89db",
   "metadata": {},
   "outputs": [],
   "source": []
  }
 ],
 "metadata": {
  "kernelspec": {
   "display_name": "Python 3 (ipykernel)",
   "language": "python",
   "name": "python3"
  },
  "language_info": {
   "codemirror_mode": {
    "name": "ipython",
    "version": 3
   },
   "file_extension": ".py",
   "mimetype": "text/x-python",
   "name": "python",
   "nbconvert_exporter": "python",
   "pygments_lexer": "ipython3",
   "version": "3.10.7"
  }
 },
 "nbformat": 4,
 "nbformat_minor": 5
}
