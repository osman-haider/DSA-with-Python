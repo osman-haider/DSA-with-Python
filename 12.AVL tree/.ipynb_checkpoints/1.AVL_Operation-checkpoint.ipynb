{
 "cells": [
  {
   "cell_type": "code",
   "execution_count": 1,
   "id": "5fe47f8b-b307-41f2-8772-e95b1928f762",
   "metadata": {},
   "outputs": [],
   "source": [
    "class Node:\n",
    "    def __init__(self, value=None):\n",
    "        self.value = value\n",
    "        self.next = None\n",
    "    \n",
    "    def __str__(self):\n",
    "        return str(self.value)\n",
    "\n",
    "class LinkedList:\n",
    "    def __init__(self):\n",
    "        self.head = None\n",
    "        self.tail = None\n",
    "    \n",
    "    \n",
    "\n",
    "class Queue:\n",
    "    def __init__(self):\n",
    "        self.linkedList = LinkedList()\n",
    "    \n",
    "    def __str__(self):\n",
    "        values = [str(x) for x in self.linkedList]\n",
    "        return ' '.join(values)\n",
    "    \n",
    "    def enqueue(self, value):\n",
    "        newNode = Node(value)\n",
    "        if self.linkedList.head == None:\n",
    "            self.linkedList.head = newNode\n",
    "            self.linkedList.tail = newNode\n",
    "        else:\n",
    "            self.linkedList.tail.next = newNode\n",
    "            self.linkedList.tail = newNode\n",
    "    \n",
    "    def isEmpty(self):\n",
    "        if self.linkedList.head == None:\n",
    "            return True\n",
    "        else:\n",
    "            return False\n",
    "    \n",
    "    def dequeue(self):\n",
    "        if self.isEmpty():\n",
    "            return \"There is not any node in the Queue\"\n",
    "        else:\n",
    "            tempNode = self.linkedList.head\n",
    "            if self.linkedList.head == self.linkedList.tail:\n",
    "                self.linkedList.head = None\n",
    "                self.linkedList.tail = None\n",
    "            else:\n",
    "                self.linkedList.head = self.linkedList.head.next\n",
    "            return tempNode\n",
    "    \n",
    "    def peek(self):\n",
    "        if self.isEmpty():\n",
    "            return \"There is not any node in the Queue\"\n",
    "        else:\n",
    "            return self.linkedList.head\n",
    "    \n",
    "    def delete(self):\n",
    "        self.linkedList.head = None\n",
    "        self.linkedList.tail = None"
   ]
  },
  {
   "cell_type": "code",
   "execution_count": 2,
   "id": "a0b5735b-fbaf-441c-8554-31724c5c62d6",
   "metadata": {},
   "outputs": [],
   "source": [
    "class AVLNode:\n",
    "    def __init__(self, data):\n",
    "        self.data = data\n",
    "        self.leftChild = None\n",
    "        self.rightChild = None\n",
    "        self.height = 1"
   ]
  },
  {
   "cell_type": "code",
   "execution_count": 3,
   "id": "12ba0d89-cecc-4521-8ac8-74fcff4d2e1e",
   "metadata": {},
   "outputs": [],
   "source": [
    "def preOrderTraversal(rootNode):\n",
    "    if not rootNode:\n",
    "        return\n",
    "    print(rootNode.data)\n",
    "    preOrderTraversal(rootNode.leftChild)\n",
    "    preOrderTraversal(rootNode.rightChild)"
   ]
  },
  {
   "cell_type": "code",
   "execution_count": 4,
   "id": "1377211f-1711-436f-9285-3e335d538ad7",
   "metadata": {},
   "outputs": [],
   "source": [
    "def inOrderTraversal(rootNode):\n",
    "    if not rootNode:\n",
    "        return\n",
    "    inOrderTraversal(rootNode.leftChild)\n",
    "    print(rootNode.data)\n",
    "    inOrderTraversal(rootNode.rightChild)"
   ]
  },
  {
   "cell_type": "code",
   "execution_count": 5,
   "id": "b8614635-9e48-4cd2-9110-8259f0d01b35",
   "metadata": {},
   "outputs": [],
   "source": [
    "def postOrderTraversal(rootNode):\n",
    "    if not rootNode:\n",
    "        return\n",
    "    postOrderTraversal(rootNode.leftChild)\n",
    "    postOrderTraversal(rootNode.rightChild)\n",
    "    print(rootNode.data)"
   ]
  },
  {
   "cell_type": "code",
   "execution_count": 6,
   "id": "b88a9a12-01a1-42e6-8367-2ec318807428",
   "metadata": {},
   "outputs": [],
   "source": [
    "def levelOrderTraversal(rootNode):\n",
    "    if not rootNode:\n",
    "        return\n",
    "    else:\n",
    "        customQueue = Queue()\n",
    "        customQueue.enqueue(rootNode)\n",
    "        while not(customQueue.isEmpty()):\n",
    "            root = customQueue.dequeue()\n",
    "            print(root.value.data)\n",
    "            if root.value.leftChild is not None:\n",
    "                customQueue.enqueue(root.value.leftChild)\n",
    "            if root.value.rightChild is not None:\n",
    "                customQueue.enqueue(root.value.rightChild)\n"
   ]
  },
  {
   "cell_type": "code",
   "execution_count": 7,
   "id": "9692f272-df7a-43c1-b516-84cea04ca8f7",
   "metadata": {},
   "outputs": [],
   "source": [
    "def searchNode(rootNode, nodeValue): # time complexity is O(logN) and space complexity is O(logN)\n",
    "    if rootNode is None:\n",
    "        return \"Value not found\"\n",
    "    \n",
    "    if rootNode.data == nodeValue:\n",
    "        return \"The value is found\"\n",
    "    elif nodeValue < rootNode.data:\n",
    "        if rootNode.leftChild is not None:\n",
    "            return searchNode(rootNode.leftChild, nodeValue)\n",
    "        else:\n",
    "            return \"Value not found\"\n",
    "    else:\n",
    "        if rootNode.rightChild is not None:\n",
    "            return searchNode(rootNode.rightChild, nodeValue)\n",
    "        else:\n",
    "            return \"Value not found\""
   ]
  },
  {
   "cell_type": "code",
   "execution_count": 8,
   "id": "78557802-282c-4fca-98d5-d4d1e01d2f8e",
   "metadata": {},
   "outputs": [],
   "source": [
    "def getHeight(rootNode):\n",
    "    if not rootNode:\n",
    "        return 0\n",
    "    return rootNode.height"
   ]
  },
  {
   "cell_type": "code",
   "execution_count": 9,
   "id": "e11a0d4f-41be-4185-9b11-6a5c66d1b3f9",
   "metadata": {},
   "outputs": [],
   "source": [
    "def rightRotate(disbalanceNode):\n",
    "    newRoot = disbalanceNode.leftChild\n",
    "    disbalanceNode.leftChild = disbalanceNode.leftChild.rightChild\n",
    "    newRoot.rightChild = disbalanceNode\n",
    "    disbalanceNode.height = 1 + max(getHeight(disbalanceNode.leftChild), getHeight(disbalanceNode.rightChild))\n",
    "    newRoot.height = 1 + max(getHeight(newRoot.leftChild), getHeight(newRoot.rightChild))\n",
    "    return newRoot"
   ]
  },
  {
   "cell_type": "code",
   "execution_count": 10,
   "id": "8f6b71fd-01de-4618-9acf-83cd9a7900d4",
   "metadata": {},
   "outputs": [],
   "source": [
    "def leftRotate(disbalanceNode):\n",
    "    newRoot = disbalanceNode.rightChild\n",
    "    disbalanceNode.rightChild = disbalanceNode.rightChild.leftChild\n",
    "    newRoot.leftChild = disbalanceNode\n",
    "    disbalanceNode.height = 1 + max(getHeight(disbalanceNode.leftChild), getHeight(disbalanceNode.rightChild))\n",
    "    newRoot.height = 1 + max(getHeight(newRoot.leftChild), getHeight(newRoot.rightChild))\n",
    "    return newRoot"
   ]
  },
  {
   "cell_type": "code",
   "execution_count": 11,
   "id": "9bfc02a3-5496-42c7-ac71-8c984373f36d",
   "metadata": {},
   "outputs": [],
   "source": [
    "def getBalance(rootNode):\n",
    "    if not rootNode:\n",
    "        return 0\n",
    "    return getHeight(rootNode.leftChild) - getHeight(rootNode.rightChild)"
   ]
  },
  {
   "cell_type": "code",
   "execution_count": 12,
   "id": "47707655-9ef3-4f13-ba3a-052830451896",
   "metadata": {},
   "outputs": [],
   "source": [
    "def insertNode(rootNode, nodeValue):\n",
    "    if not rootNode:\n",
    "        return AVLNode(nodeValue)\n",
    "    elif nodeValue < rootNode.data:\n",
    "        rootNode.leftChild = insertNode(rootNode.leftChild, nodeValue)\n",
    "    else:\n",
    "        rootNode.rightChild = insertNode(rootNode.rightChild, nodeValue)\n",
    "    \n",
    "    rootNode.height = 1 + max(getHeight(rootNode.leftChild), getHeight(rootNode.rightChild))\n",
    "    balance = getBalance(rootNode)\n",
    "    if balance > 1 and nodeValue < rootNode.leftChild.data:\n",
    "        return rightRotate(rootNode)\n",
    "    if balance > 1 and nodeValue > rootNode.leftChild.data:\n",
    "        rootNode.leftChild = leftRotate(rootNode.leftChild)\n",
    "        return rightRotate(rootNode)\n",
    "    if balance < -1 and nodeValue > rootNode.rightChild.data:\n",
    "        return leftRotate(rootNode)\n",
    "    if balance < -1 and nodeValue < rootNode.rightChild.data:\n",
    "        rootNode.rightChild = rightRotate(rootNode.rightChild)\n",
    "        return leftRotate(rootNode)\n",
    "    return rootNode"
   ]
  },
  {
   "cell_type": "code",
   "execution_count": 13,
   "id": "59ae118d-4dcd-4fc6-b54f-587b142ed3e5",
   "metadata": {},
   "outputs": [],
   "source": [
    "def getMinValueNode(rootNode):\n",
    "    if rootNode is None or rootNode.leftChild is None:\n",
    "        return rootNode\n",
    "    return getMinValueNode(rootNode.leftChild)"
   ]
  },
  {
   "cell_type": "code",
   "execution_count": 14,
   "id": "1f51d0fd-eb6c-451f-9c18-1982d2b4bc1d",
   "metadata": {},
   "outputs": [],
   "source": [
    "def deleteNode(rootNode, nodeValue):\n",
    "    if not rootNode:\n",
    "        return rootNode\n",
    "    elif nodeValue < rootNode.data:\n",
    "        rootNode.leftChild = deleteNode(rootNode.leftChild, nodeValue)\n",
    "    elif nodeValue > rootNode.data:\n",
    "        rootNode.rightChild = deleteNode(rootNode.rightChild, nodeValue)\n",
    "    else:\n",
    "        if rootNode.leftChild is None:\n",
    "            temp = rootNode.rightChild\n",
    "            rootNode = None\n",
    "            return temp\n",
    "        elif rootNode.rightChild is None:\n",
    "            temp = rootNode.leftChild\n",
    "            rootNode = None\n",
    "            return temp\n",
    "        temp = getMinValueNode(rootNode.rightChild)\n",
    "        rootNode.data = temp.data\n",
    "        rootNode.rightChild = deleteNode(rootNode.rightChild, temp.data)\n",
    "    balance = getBalance(rootNode)\n",
    "    if balance > 1 and getBalance(rootNode.leftChild) >= 0:\n",
    "        return rightRotate(rootNode)\n",
    "    if balance < -1 and getBalance(rootNode.rightChild) <= 0:\n",
    "        return leftRotate(rootNode)\n",
    "    if balance > 1 and getBalance(rootNode.leftChild) < 0:\n",
    "        rootNode.leftChild = leftRotate(rootNode.leftChild)\n",
    "        return rightRotate(rootNode)\n",
    "    if balance < -1 and getBalance(rootNode.rightChild) > 0:\n",
    "        rootNode.rightChild = rightRotate(rootNode.rightChild)\n",
    "        return leftRotate(rootNode)\n",
    "    \n",
    "    return rootNode"
   ]
  },
  {
   "cell_type": "code",
   "execution_count": 15,
   "id": "f55d37e7-0bc0-4f08-b3f8-71c3f366afea",
   "metadata": {},
   "outputs": [],
   "source": [
    "def deleteAVL(rootNode):\n",
    "    rootNode.data = None\n",
    "    rootNode.leftChild = None\n",
    "    rootNode.rightChild = None\n",
    "    return \"The AVL has been successfully deleted\""
   ]
  },
  {
   "cell_type": "code",
   "execution_count": 16,
   "id": "705a8c82-6dce-4675-86c2-89d9bed5513c",
   "metadata": {},
   "outputs": [],
   "source": [
    "newAVL = AVLNode(5)\n",
    "newAVL = insertNode(newAVL, 30)\n",
    "newAVL = insertNode(newAVL, 25)\n",
    "newAVL = insertNode(newAVL, 35)\n",
    "newAVL = insertNode(newAVL, 20)\n",
    "newAVL = insertNode(newAVL, 15)\n",
    "newAVL = insertNode(newAVL, 5)\n",
    "newAVL = insertNode(newAVL, 10)\n",
    "newAVL = insertNode(newAVL, 50)\n",
    "newAVL = insertNode(newAVL, 60)\n",
    "newAVL = insertNode(newAVL, 70)\n",
    "newAVL = insertNode(newAVL, 65)"
   ]
  },
  {
   "cell_type": "code",
   "execution_count": 17,
   "id": "a050ffa9-1bd3-4021-8ddd-bb16fb12a1fe",
   "metadata": {},
   "outputs": [
    {
     "data": {
      "text/plain": [
       "4"
      ]
     },
     "execution_count": 17,
     "metadata": {},
     "output_type": "execute_result"
    }
   ],
   "source": [
    "getHeight(newAVL)"
   ]
  },
  {
   "cell_type": "code",
   "execution_count": null,
   "id": "c9d387ff-a6dc-4c08-b469-0b6f74df0275",
   "metadata": {},
   "outputs": [],
   "source": []
  }
 ],
 "metadata": {
  "kernelspec": {
   "display_name": "Python 3 (ipykernel)",
   "language": "python",
   "name": "python3"
  },
  "language_info": {
   "codemirror_mode": {
    "name": "ipython",
    "version": 3
   },
   "file_extension": ".py",
   "mimetype": "text/x-python",
   "name": "python",
   "nbconvert_exporter": "python",
   "pygments_lexer": "ipython3",
   "version": "3.10.7"
  }
 },
 "nbformat": 4,
 "nbformat_minor": 5
}
