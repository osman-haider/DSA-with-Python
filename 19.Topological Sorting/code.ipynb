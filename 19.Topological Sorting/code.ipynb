{
 "cells": [
  {
   "cell_type": "code",
   "execution_count": 1,
   "id": "ac1017ac-7d36-4862-9724-bb5c5b0ddb23",
   "metadata": {},
   "outputs": [],
   "source": [
    "from collections import defaultdict"
   ]
  },
  {
   "cell_type": "code",
   "execution_count": 14,
   "id": "270652c4-b541-43be-9b0e-9484bc2065d7",
   "metadata": {},
   "outputs": [
    {
     "name": "stdout",
     "output_type": "stream",
     "text": [
      "defaultdict(<class 'list'>, {'a': ['b', 'c'], 'b': ['d'], 'c': ['e'], 'd': ['e']})\n"
     ]
    }
   ],
   "source": [
    "l = [3, 5, 1, 7, 4]\n",
    "g = defaultdict(list)\n",
    "\n",
    "g['a'].append('b')\n",
    "g['a'].append('c')\n",
    "g['b'].append('d')\n",
    "g['c'].append('e')\n",
    "g['d'].append('e')\n",
    "print(g)"
   ]
  },
  {
   "cell_type": "code",
   "execution_count": 15,
   "id": "e536f49b-580c-48ff-a8ba-b32908591d44",
   "metadata": {},
   "outputs": [],
   "source": [
    "class Graph:\n",
    "    def __init__(self, numberofVertices):\n",
    "        self.graph = defaultdict(list)\n",
    "        self.numberofVertices = numberofVertices\n",
    "    \n",
    "    def addEdge(self, vertex, edge):\n",
    "        self.graph[vertex].append(edge)\n",
    "    \n",
    "    def topogologicalSortUtil(self, v, visited, stack):\n",
    "        visited.append(v)\n",
    "\n",
    "        for i in self.graph[v]:\n",
    "            if i not in visited:\n",
    "                self.topogologicalSortUtil(i, visited, stack)\n",
    "        \n",
    "        stack.insert(0, v)\n",
    "    \n",
    "    def topologicalSort(self):\n",
    "\n",
    "        visited = []\n",
    "        stack = []\n",
    "\n",
    "        for k in list(self.graph):\n",
    "            if k not in visited:\n",
    "                self.topogologicalSortUtil(k, visited, stack)\n",
    "        \n",
    "        print(stack)"
   ]
  },
  {
   "cell_type": "code",
   "execution_count": 20,
   "id": "6b46ce72-c569-4ed0-9f3b-90350e1210ae",
   "metadata": {},
   "outputs": [],
   "source": [
    "customGraph = Graph(8)\n",
    "customGraph.addEdge(\"A\", \"C\")\n",
    "customGraph.addEdge(\"C\", \"E\")\n",
    "customGraph.addEdge(\"E\", \"H\")\n",
    "customGraph.addEdge(\"E\", \"F\")\n",
    "customGraph.addEdge(\"F\", \"G\")\n",
    "customGraph.addEdge(\"B\", \"D\")\n",
    "customGraph.addEdge(\"B\", \"C\")\n",
    "customGraph.addEdge(\"D\", \"F\")"
   ]
  },
  {
   "cell_type": "code",
   "execution_count": 21,
   "id": "32559298-a33c-4ab5-887b-9fa333ce8a0e",
   "metadata": {},
   "outputs": [
    {
     "name": "stdout",
     "output_type": "stream",
     "text": [
      "['B', 'D', 'A', 'C', 'E', 'F', 'G', 'H']\n"
     ]
    }
   ],
   "source": [
    "customGraph.topologicalSort()"
   ]
  },
  {
   "cell_type": "code",
   "execution_count": null,
   "id": "8fa773f8-1bbc-479c-8780-8ad1ae4af2d3",
   "metadata": {},
   "outputs": [],
   "source": []
  }
 ],
 "metadata": {
  "kernelspec": {
   "display_name": "Python 3 (ipykernel)",
   "language": "python",
   "name": "python3"
  },
  "language_info": {
   "codemirror_mode": {
    "name": "ipython",
    "version": 3
   },
   "file_extension": ".py",
   "mimetype": "text/x-python",
   "name": "python",
   "nbconvert_exporter": "python",
   "pygments_lexer": "ipython3",
   "version": "3.10.7"
  }
 },
 "nbformat": 4,
 "nbformat_minor": 5
}
