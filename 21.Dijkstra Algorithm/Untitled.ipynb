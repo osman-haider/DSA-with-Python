{
 "cells": [
  {
   "cell_type": "code",
   "execution_count": 1,
   "id": "af739e9d-8c56-4313-8620-0d8b55cab84c",
   "metadata": {},
   "outputs": [],
   "source": [
    "from collections import defaultdict"
   ]
  },
  {
   "cell_type": "code",
   "execution_count": 2,
   "id": "23667310-37dc-4ceb-865f-9b65e4a21bd1",
   "metadata": {},
   "outputs": [],
   "source": [
    "class Graph:\n",
    "    def __init__(self):\n",
    "        self.nodes = set()\n",
    "        self.edges = defaultdict(list)\n",
    "        self.distances = {}\n",
    "\n",
    "    def addNode(self,value):\n",
    "        self.nodes.add(value)\n",
    "\n",
    "    def addEdge(self, fromNode, toNode, distance):\n",
    "        self.edges[fromNode].append(toNode)\n",
    "        self.distances[(fromNode, toNode)] = distance"
   ]
  },
  {
   "cell_type": "code",
   "execution_count": 6,
   "id": "3add67b9-c0da-4aca-af7a-a52e4e412b92",
   "metadata": {},
   "outputs": [],
   "source": [
    "def dijkstra(graph, initial): # time complexity is O(v^2) and space complexity is O(E)\n",
    "    visited = {initial : 0}\n",
    "    path = defaultdict(list)\n",
    "\n",
    "    nodes = set(graph.nodes)\n",
    "\n",
    "    while nodes:\n",
    "        minNode = None\n",
    "        for node in nodes:\n",
    "            if node in visited:\n",
    "                if minNode is None:\n",
    "                    minNode = node\n",
    "                elif visited[node] < visited[minNode]:\n",
    "                    minNode = node\n",
    "        if minNode is None:\n",
    "            break\n",
    "\n",
    "        nodes.remove(minNode)\n",
    "        currentWeight = visited[minNode]\n",
    "\n",
    "        for edge in graph.edges[minNode]:\n",
    "            weight = currentWeight + graph.distances[(minNode, edge)]\n",
    "            if edge not in visited or weight < visited[edge]:\n",
    "                visited[edge] = weight\n",
    "                path[edge].append(minNode)\n",
    "    \n",
    "    return visited, path"
   ]
  },
  {
   "cell_type": "code",
   "execution_count": 4,
   "id": "d43491f7-1aeb-49ee-9bb0-a5adb49525f3",
   "metadata": {},
   "outputs": [],
   "source": [
    "customGraph = Graph()\n",
    "customGraph.addNode(\"A\")\n",
    "customGraph.addNode(\"B\")\n",
    "customGraph.addNode(\"C\")\n",
    "customGraph.addNode(\"D\")\n",
    "customGraph.addNode(\"E\")\n",
    "customGraph.addNode(\"F\")\n",
    "customGraph.addNode(\"G\")\n",
    "customGraph.addEdge(\"A\", \"B\", 2)\n",
    "customGraph.addEdge(\"A\", \"C\", 5)\n",
    "customGraph.addEdge(\"B\", \"C\", 6)\n",
    "customGraph.addEdge(\"B\", \"D\", 1)\n",
    "customGraph.addEdge(\"B\", \"E\", 3)\n",
    "customGraph.addEdge(\"C\", \"F\", 8)\n",
    "customGraph.addEdge(\"D\", \"E\", 4)\n",
    "customGraph.addEdge(\"E\", \"G\", 9)\n",
    "customGraph.addEdge(\"F\", \"G\", 7)"
   ]
  },
  {
   "cell_type": "code",
   "execution_count": 5,
   "id": "2d2cc65c-3d34-47bf-bf7d-6b227651faf5",
   "metadata": {},
   "outputs": [
    {
     "name": "stdout",
     "output_type": "stream",
     "text": [
      "({'A': 0, 'B': 2, 'C': 5, 'D': 3, 'E': 5, 'F': 13, 'G': 14}, defaultdict(<class 'list'>, {'B': ['A'], 'C': ['A'], 'D': ['B'], 'E': ['B'], 'F': ['C'], 'G': ['E']}))\n"
     ]
    }
   ],
   "source": [
    "print(dijkstra(customGraph, \"A\"))"
   ]
  },
  {
   "cell_type": "code",
   "execution_count": null,
   "id": "762228c4-4b0c-4915-920e-92085105f8fd",
   "metadata": {},
   "outputs": [],
   "source": []
  }
 ],
 "metadata": {
  "kernelspec": {
   "display_name": "Python 3 (ipykernel)",
   "language": "python",
   "name": "python3"
  },
  "language_info": {
   "codemirror_mode": {
    "name": "ipython",
    "version": 3
   },
   "file_extension": ".py",
   "mimetype": "text/x-python",
   "name": "python",
   "nbconvert_exporter": "python",
   "pygments_lexer": "ipython3",
   "version": "3.10.7"
  }
 },
 "nbformat": 4,
 "nbformat_minor": 5
}
