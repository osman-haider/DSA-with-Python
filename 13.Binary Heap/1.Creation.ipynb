{
 "cells": [
  {
   "cell_type": "code",
   "execution_count": 2,
   "id": "017f6396-91ee-4541-89da-0742df78453a",
   "metadata": {},
   "outputs": [],
   "source": [
    "class Heap:\n",
    "    def __init__(self, size): # time complexity is O(1) and space complexity is O(n)\n",
    "        self.customList = (size+1) * [None]\n",
    "        self.heapSize = 0\n",
    "        self.maxSize = size + 1"
   ]
  },
  {
   "cell_type": "code",
   "execution_count": 3,
   "id": "6fe2f3fb-60ea-44fd-b198-6ed99e27d6e1",
   "metadata": {},
   "outputs": [],
   "source": [
    "def peekofHeap(rootNode): # time complexity is O(1) and space complexity is O(1)\n",
    "    if not rootNode:\n",
    "        return\n",
    "    else:\n",
    "        return rootNode.customList[1]"
   ]
  },
  {
   "cell_type": "code",
   "execution_count": 4,
   "id": "fccea80a-3778-46df-9612-7089a4901911",
   "metadata": {},
   "outputs": [],
   "source": [
    "def sizeofHeap(rootNode): # time complexity is O(1) and space complexity is O(1)\n",
    "    if not rootNode:\n",
    "        return\n",
    "    else:\n",
    "        return rootNode.heapSize"
   ]
  },
  {
   "cell_type": "code",
   "execution_count": 5,
   "id": "ddee4f77-bdcd-4b16-a754-7775776e0559",
   "metadata": {},
   "outputs": [],
   "source": [
    "def levelOrderTraversal(rootNode): # time complexity is O(n) and space complexity is O(1)\n",
    "    if not rootNode:\n",
    "        return\n",
    "    else:\n",
    "        for i in range(1, rootNode.heapSize+1):\n",
    "            print(rootNode.customList[i])"
   ]
  },
  {
   "cell_type": "code",
   "execution_count": 6,
   "id": "a4ffa9fb-ef6d-425c-813f-558f581e15e2",
   "metadata": {},
   "outputs": [],
   "source": [
    "def heapifyTreeInsert(rootNode, index, heapType):  # time complexity is O(logN) and space complexity is O(logN)\n",
    "    parentIndex = int(index/2)\n",
    "    if index <= 1:\n",
    "        return\n",
    "    if heapType == \"Min\":\n",
    "        if rootNode.customList[index] < rootNode.customList[parentIndex]:\n",
    "            temp = rootNode.customList[index]\n",
    "            rootNode.customList[index] = rootNode.customList[parentIndex]\n",
    "            rootNode.customList[parentIndex] = temp\n",
    "        heapifyTreeInsert(rootNode, parentIndex, heapType)\n",
    "    elif heapType == \"Max\":\n",
    "        if rootNode.customList[index] > rootNode.customList[parentIndex]:\n",
    "            temp = rootNode.customList[index]\n",
    "            rootNode.customList[index] = rootNode.customList[parentIndex]\n",
    "            rootNode.customList[parentIndex] = temp\n",
    "        heapifyTreeInsert(rootNode, parentIndex, heapType)"
   ]
  },
  {
   "cell_type": "code",
   "execution_count": 10,
   "id": "7fb09b3e-d0ee-4dee-a1d4-fc3cc8b94228",
   "metadata": {},
   "outputs": [],
   "source": [
    "def inserNode(rootNode, nodeValue, heapType): # time complexity is O(logN) and space complexity is O(logN)\n",
    "    if rootNode.heapSize + 1 == rootNode.maxSize:\n",
    "        return \"The Binary Heap is Full\"\n",
    "    rootNode.customList[rootNode.heapSize + 1] = nodeValue\n",
    "    rootNode.heapSize += 1\n",
    "    heapifyTreeInsert(rootNode, rootNode.heapSize, heapType)\n",
    "    return \"The value has been successfully inserted\""
   ]
  },
  {
   "cell_type": "code",
   "execution_count": 12,
   "id": "288c5d62-ad36-4ffc-b51c-885d4650a523",
   "metadata": {},
   "outputs": [],
   "source": [
    "def heapifyTreeExtract(rootNode, index, heapType): \n",
    "    leftIndex = index * 2\n",
    "    rightIndex = index * 2 + 1\n",
    "    swapChild = 0\n",
    "\n",
    "    if rootNode.heapSize < leftIndex:\n",
    "        return\n",
    "    elif rootNode.heapSize == leftIndex:\n",
    "        if heapType == \"Min\":\n",
    "            if rootNode.customList[index] > rootNode.customList[leftIndex]:\n",
    "                temp = rootNode.customList[index]\n",
    "                rootNode.customList[index] = rootNode.customList[leftIndex]\n",
    "                rootNode.customList[leftIndex] = temp\n",
    "            return\n",
    "        else:\n",
    "            if rootNode.customList[index] < rootNode.customList[leftIndex]:\n",
    "                temp = rootNode.customList[index]\n",
    "                rootNode.customList[index] = rootNode.customList[leftIndex]\n",
    "                rootNode.customList[leftIndex] = temp\n",
    "            return\n",
    "\n",
    "    else:\n",
    "        if heapType == \"Min\":\n",
    "            if rootNode.customList[leftIndex] < rootNode.customList[rightIndex]:\n",
    "                swapChild = leftIndex\n",
    "            else:\n",
    "                swapChild = rightIndex\n",
    "            if rootNode.customList[index] > rootNode.customList[swapChild]:\n",
    "                temp = rootNode.customList[index]\n",
    "                rootNode.customList[index] = rootNode.customList[swapChild]\n",
    "                rootNode.customList[swapChild] = temp\n",
    "        else:\n",
    "            if rootNode.customList[leftIndex] > rootNode.customList[rightIndex]:\n",
    "                swapChild = leftIndex\n",
    "            else:\n",
    "                swapChild = rightIndex\n",
    "            if rootNode.customList[index] < rootNode.customList[swapChild]:\n",
    "                temp = rootNode.customList[index]\n",
    "                rootNode.customList[index] = rootNode.customList[swapChild]\n",
    "                rootNode.customList[swapChild] = temp\n",
    "    heapifyTreeExtract(rootNode, swapChild, heapType)"
   ]
  },
  {
   "cell_type": "code",
   "execution_count": 18,
   "id": "8589de47-5acc-460e-8c86-bd930d9a42d9",
   "metadata": {},
   "outputs": [],
   "source": [
    "def extractNode(rootNode, heapType): # time complexity is O(logN) and space complexity is O(logN)\n",
    "    if rootNode.heapSize == 0:\n",
    "        return\n",
    "    else:\n",
    "        extractedNode = rootNode.customList[1]\n",
    "        rootNode.customList[1] = rootNode.customList[rootNode.heapSize]\n",
    "        rootNode.customList[rootNode.heapSize] = None\n",
    "        rootNode.heapSize -= 1\n",
    "        heapifyTreeExtract(rootNode, 1, heapType)\n",
    "        return extractedNode"
   ]
  },
  {
   "cell_type": "code",
   "execution_count": 27,
   "id": "3fce43f5-7df4-4f34-b293-db228b9e32d1",
   "metadata": {},
   "outputs": [],
   "source": [
    "def deleteEntireBP(rootNode): # time complexity is O(1) and space complexity is O(1)\n",
    "    rootNode.customList = None"
   ]
  },
  {
   "cell_type": "code",
   "execution_count": 20,
   "id": "8ef5a305-26fd-4403-a8ed-38a29cebe533",
   "metadata": {},
   "outputs": [
    {
     "data": {
      "text/plain": [
       "'The value has been successfully inserted'"
      ]
     },
     "execution_count": 20,
     "metadata": {},
     "output_type": "execute_result"
    }
   ],
   "source": [
    "newHeap = Heap(5)\n",
    "inserNode(newHeap, 4, \"Max\")\n",
    "inserNode(newHeap, 5, \"Max\")\n",
    "inserNode(newHeap, 2, \"Max\")\n",
    "inserNode(newHeap, 1, \"Max\")"
   ]
  },
  {
   "cell_type": "code",
   "execution_count": 21,
   "id": "61a784f9-2bf4-49ac-aabe-5332ecf248cc",
   "metadata": {},
   "outputs": [
    {
     "name": "stdout",
     "output_type": "stream",
     "text": [
      "5\n",
      "4\n",
      "2\n",
      "1\n"
     ]
    }
   ],
   "source": [
    "levelOrderTraversal(newHeap)"
   ]
  },
  {
   "cell_type": "code",
   "execution_count": 22,
   "id": "8405f385-bce2-40b9-a183-696cc01e38e5",
   "metadata": {},
   "outputs": [
    {
     "data": {
      "text/plain": [
       "5"
      ]
     },
     "execution_count": 22,
     "metadata": {},
     "output_type": "execute_result"
    }
   ],
   "source": [
    "extractNode(newHeap,\"Max\")"
   ]
  },
  {
   "cell_type": "code",
   "execution_count": 23,
   "id": "bc4c7416-63d6-4be6-a297-3dddfed4afe5",
   "metadata": {},
   "outputs": [
    {
     "name": "stdout",
     "output_type": "stream",
     "text": [
      "4\n",
      "1\n",
      "2\n"
     ]
    }
   ],
   "source": [
    "levelOrderTraversal(newHeap)"
   ]
  },
  {
   "cell_type": "code",
   "execution_count": 24,
   "id": "ada9e52b-e72d-4a2a-964a-25904271bc2e",
   "metadata": {},
   "outputs": [],
   "source": [
    "deleteEntireBP(newHeap)"
   ]
  },
  {
   "cell_type": "code",
   "execution_count": 26,
   "id": "4820cda1-41fc-4dd0-acb8-d1d2bbb66341",
   "metadata": {},
   "outputs": [
    {
     "ename": "TypeError",
     "evalue": "'NoneType' object is not subscriptable",
     "output_type": "error",
     "traceback": [
      "\u001b[1;31m---------------------------------------------------------------------------\u001b[0m",
      "\u001b[1;31mTypeError\u001b[0m                                 Traceback (most recent call last)",
      "Cell \u001b[1;32mIn[26], line 1\u001b[0m\n\u001b[1;32m----> 1\u001b[0m \u001b[43mlevelOrderTraversal\u001b[49m\u001b[43m(\u001b[49m\u001b[43mnewHeap\u001b[49m\u001b[43m)\u001b[49m\n",
      "Cell \u001b[1;32mIn[5], line 6\u001b[0m, in \u001b[0;36mlevelOrderTraversal\u001b[1;34m(rootNode)\u001b[0m\n\u001b[0;32m      4\u001b[0m \u001b[38;5;28;01melse\u001b[39;00m:\n\u001b[0;32m      5\u001b[0m     \u001b[38;5;28;01mfor\u001b[39;00m i \u001b[38;5;129;01min\u001b[39;00m \u001b[38;5;28mrange\u001b[39m(\u001b[38;5;241m1\u001b[39m, rootNode\u001b[38;5;241m.\u001b[39mheapSize\u001b[38;5;241m+\u001b[39m\u001b[38;5;241m1\u001b[39m):\n\u001b[1;32m----> 6\u001b[0m         \u001b[38;5;28mprint\u001b[39m(\u001b[43mrootNode\u001b[49m\u001b[38;5;241;43m.\u001b[39;49m\u001b[43mcustomList\u001b[49m\u001b[43m[\u001b[49m\u001b[43mi\u001b[49m\u001b[43m]\u001b[49m)\n",
      "\u001b[1;31mTypeError\u001b[0m: 'NoneType' object is not subscriptable"
     ]
    }
   ],
   "source": [
    "levelOrderTraversal(newHeap)"
   ]
  },
  {
   "cell_type": "code",
   "execution_count": null,
   "id": "3ee08b2a-99fe-4c91-8e66-e5c03498f08a",
   "metadata": {},
   "outputs": [],
   "source": []
  }
 ],
 "metadata": {
  "kernelspec": {
   "display_name": "Python 3 (ipykernel)",
   "language": "python",
   "name": "python3"
  },
  "language_info": {
   "codemirror_mode": {
    "name": "ipython",
    "version": 3
   },
   "file_extension": ".py",
   "mimetype": "text/x-python",
   "name": "python",
   "nbconvert_exporter": "python",
   "pygments_lexer": "ipython3",
   "version": "3.10.7"
  }
 },
 "nbformat": 4,
 "nbformat_minor": 5
}
