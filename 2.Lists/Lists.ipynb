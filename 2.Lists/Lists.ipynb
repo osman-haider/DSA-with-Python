{
 "cells": [
  {
   "cell_type": "markdown",
   "id": "0fa17c03-c528-41fa-8c31-a511b9a06a6c",
   "metadata": {},
   "source": [
    "### we can store multiple values in multiple variables "
   ]
  },
  {
   "cell_type": "code",
   "execution_count": 2,
   "id": "f7d50c4c-727b-48a1-8963-59cb632a738c",
   "metadata": {},
   "outputs": [
    {
     "name": "stdout",
     "output_type": "stream",
     "text": [
      "one\n",
      "two\n",
      "three\n"
     ]
    }
   ],
   "source": [
    "item1 = \"one\"\n",
    "item2 = \"two\"\n",
    "item3 = \"three\"\n",
    "print(item1)\n",
    "print(item2)\n",
    "print(item3)"
   ]
  },
  {
   "cell_type": "markdown",
   "id": "2b2567db-ace6-4c07-aef1-103bb5aedd25",
   "metadata": {},
   "source": [
    "## so what if i store these type of multiple values in single variable called list "
   ]
  },
  {
   "cell_type": "code",
   "execution_count": 3,
   "id": "ee21274b-2f90-4a69-986e-57453eb767b8",
   "metadata": {},
   "outputs": [],
   "source": [
    "items = [\"one\",\"two\",\"three\"]"
   ]
  },
  {
   "cell_type": "code",
   "execution_count": 4,
   "id": "97909c52-6421-4912-bbe6-104e40079173",
   "metadata": {},
   "outputs": [
    {
     "data": {
      "text/plain": [
       "'one'"
      ]
     },
     "execution_count": 4,
     "metadata": {},
     "output_type": "execute_result"
    }
   ],
   "source": [
    "items[0]"
   ]
  },
  {
   "cell_type": "code",
   "execution_count": 5,
   "id": "50a9a542-559c-4eb0-8329-0ac5f86246db",
   "metadata": {},
   "outputs": [
    {
     "data": {
      "text/plain": [
       "['one', 'two', 'three']"
      ]
     },
     "execution_count": 5,
     "metadata": {},
     "output_type": "execute_result"
    }
   ],
   "source": [
    "items"
   ]
  },
  {
   "cell_type": "markdown",
   "id": "f47fa6f5-0e48-4d67-bb18-24e60d74db0b",
   "metadata": {},
   "source": [
    "## good part about list is we can store multiple type values like int,str in single list variable"
   ]
  },
  {
   "cell_type": "code",
   "execution_count": 7,
   "id": "2414757d-0507-41b2-83c5-660e6f7a7dc9",
   "metadata": {},
   "outputs": [],
   "source": [
    "items = [\"one\",4,\"sec\",4.6]"
   ]
  },
  {
   "cell_type": "code",
   "execution_count": 8,
   "id": "7dfa0037-962e-472a-a3aa-afd81f1f7f3b",
   "metadata": {},
   "outputs": [
    {
     "data": {
      "text/plain": [
       "'one'"
      ]
     },
     "execution_count": 8,
     "metadata": {},
     "output_type": "execute_result"
    }
   ],
   "source": [
    "items[0]"
   ]
  },
  {
   "cell_type": "code",
   "execution_count": 9,
   "id": "07cd46d0-d4f8-491f-94a4-4cd335003193",
   "metadata": {},
   "outputs": [
    {
     "data": {
      "text/plain": [
       "4"
      ]
     },
     "execution_count": 9,
     "metadata": {},
     "output_type": "execute_result"
    }
   ],
   "source": [
    "items[1]"
   ]
  },
  {
   "cell_type": "code",
   "execution_count": 10,
   "id": "40fecae3-a419-4650-8da2-e14e1f801747",
   "metadata": {},
   "outputs": [
    {
     "data": {
      "text/plain": [
       "['one', 4, 'sec', 4.6]"
      ]
     },
     "execution_count": 10,
     "metadata": {},
     "output_type": "execute_result"
    }
   ],
   "source": [
    "items"
   ]
  },
  {
   "cell_type": "code",
   "execution_count": 11,
   "id": "68e290e8-9e02-44dc-8f8e-e4d4aaaa6655",
   "metadata": {},
   "outputs": [
    {
     "data": {
      "text/plain": [
       "4.6"
      ]
     },
     "execution_count": 11,
     "metadata": {},
     "output_type": "execute_result"
    }
   ],
   "source": [
    "items[-1]"
   ]
  },
  {
   "cell_type": "code",
   "execution_count": 12,
   "id": "f9780cc2-6678-458e-8ac3-d2471e73056f",
   "metadata": {},
   "outputs": [
    {
     "data": {
      "text/plain": [
       "['one', 4]"
      ]
     },
     "execution_count": 12,
     "metadata": {},
     "output_type": "execute_result"
    }
   ],
   "source": [
    "items[0:2]"
   ]
  },
  {
   "cell_type": "code",
   "execution_count": 13,
   "id": "7c115759-ec7a-4d36-9c87-3c5facc2fa9d",
   "metadata": {},
   "outputs": [],
   "source": [
    "items.insert(1,\"new\")"
   ]
  },
  {
   "cell_type": "code",
   "execution_count": 14,
   "id": "8bcd28c2-8519-48ee-a62f-5a3a323da107",
   "metadata": {},
   "outputs": [
    {
     "data": {
      "text/plain": [
       "['one', 'new', 4, 'sec', 4.6]"
      ]
     },
     "execution_count": 14,
     "metadata": {},
     "output_type": "execute_result"
    }
   ],
   "source": [
    "items"
   ]
  },
  {
   "cell_type": "code",
   "execution_count": 15,
   "id": "8e994a8d-4973-4f15-8cb4-fcb1eab8740a",
   "metadata": {},
   "outputs": [],
   "source": [
    "items.append(\"now its append\")"
   ]
  },
  {
   "cell_type": "code",
   "execution_count": 16,
   "id": "80629012-9b86-4fd5-8206-2837f76da676",
   "metadata": {},
   "outputs": [
    {
     "data": {
      "text/plain": [
       "['one', 'new', 4, 'sec', 4.6, 'now its append']"
      ]
     },
     "execution_count": 16,
     "metadata": {},
     "output_type": "execute_result"
    }
   ],
   "source": [
    "items"
   ]
  },
  {
   "cell_type": "code",
   "execution_count": 17,
   "id": "a5e4457e-8ebf-4cca-abc2-94f7b4b44da1",
   "metadata": {},
   "outputs": [],
   "source": [
    "new_item = [\"new1\",\"new2\"]"
   ]
  },
  {
   "cell_type": "code",
   "execution_count": 18,
   "id": "db1d34be-bdc3-40b1-a4b0-a8019e5a28d3",
   "metadata": {},
   "outputs": [
    {
     "data": {
      "text/plain": [
       "['one', 'new', 4, 'sec', 4.6, 'now its append', 'new1', 'new2']"
      ]
     },
     "execution_count": 18,
     "metadata": {},
     "output_type": "execute_result"
    }
   ],
   "source": [
    "items+new_item"
   ]
  },
  {
   "cell_type": "code",
   "execution_count": 37,
   "id": "1e5b130d-3d90-4156-acb0-f4bfcfd464d6",
   "metadata": {},
   "outputs": [
    {
     "name": "stdout",
     "output_type": "stream",
     "text": [
      "['one', 4, 'sec', 4.6]\n",
      "['one', 4, 'sec']\n"
     ]
    }
   ],
   "source": [
    "print(items)\n",
    "# Remove the last item\n",
    "items.pop()\n",
    "\n",
    "print(items)"
   ]
  },
  {
   "cell_type": "code",
   "execution_count": 38,
   "id": "53559ad1-4c07-4f02-aac0-4b6ab236b22e",
   "metadata": {},
   "outputs": [
    {
     "name": "stdout",
     "output_type": "stream",
     "text": [
      "['one', 4, 'sec']\n",
      "['one', 4]\n"
     ]
    }
   ],
   "source": [
    "print(items)\n",
    "# Remove the element at index 2\n",
    "items.pop(2)\n",
    "\n",
    "print(items)"
   ]
  },
  {
   "cell_type": "code",
   "execution_count": 25,
   "id": "9f6ebf12-14dc-4305-84fa-db229916a9f9",
   "metadata": {},
   "outputs": [
    {
     "name": "stdout",
     "output_type": "stream",
     "text": [
      "['one', 'new', 4.6, 'now its append']\n",
      "['one', 4.6, 'now its append']\n"
     ]
    }
   ],
   "source": [
    "print(items)\n",
    "# Remove the element at index 2\n",
    "items.remove('new')\n",
    "\n",
    "print(items)"
   ]
  },
  {
   "cell_type": "code",
   "execution_count": 26,
   "id": "b184743e-bcce-4385-aaa8-ad823e714a40",
   "metadata": {},
   "outputs": [
    {
     "data": {
      "text/plain": [
       "['one', 4.6, 'now its append']"
      ]
     },
     "execution_count": 26,
     "metadata": {},
     "output_type": "execute_result"
    }
   ],
   "source": [
    "items"
   ]
  },
  {
   "cell_type": "code",
   "execution_count": 29,
   "id": "a9f9feff-2a4b-4d81-aacc-229e42c22ce4",
   "metadata": {},
   "outputs": [],
   "source": [
    "items.clear() # empty list completly"
   ]
  },
  {
   "cell_type": "code",
   "execution_count": 30,
   "id": "d4c3244b-106f-41df-addd-f078459d4d53",
   "metadata": {},
   "outputs": [
    {
     "data": {
      "text/plain": [
       "[]"
      ]
     },
     "execution_count": 30,
     "metadata": {},
     "output_type": "execute_result"
    }
   ],
   "source": [
    "items"
   ]
  },
  {
   "cell_type": "code",
   "execution_count": 31,
   "id": "25bd6017-354a-4e81-af01-b76a6c69d1bd",
   "metadata": {},
   "outputs": [
    {
     "data": {
      "text/plain": [
       "['one', 4, 'sec', 4.6]"
      ]
     },
     "execution_count": 31,
     "metadata": {},
     "output_type": "execute_result"
    }
   ],
   "source": [
    "# copy\n",
    "\n",
    "items = [\"one\",4,\"sec\",4.6]\n",
    "new = items.copy()\n",
    "new"
   ]
  },
  {
   "cell_type": "code",
   "execution_count": 32,
   "id": "0e1753c4-81cf-440d-ace8-4421c5508039",
   "metadata": {},
   "outputs": [],
   "source": [
    "items.append(4)"
   ]
  },
  {
   "cell_type": "code",
   "execution_count": 33,
   "id": "70fd0dc3-bf4a-44bf-8fa9-5ac666e4b869",
   "metadata": {},
   "outputs": [
    {
     "data": {
      "text/plain": [
       "2"
      ]
     },
     "execution_count": 33,
     "metadata": {},
     "output_type": "execute_result"
    }
   ],
   "source": [
    "# count\n",
    "items.count(4)"
   ]
  },
  {
   "cell_type": "code",
   "execution_count": 34,
   "id": "0c34ffc1-9ad3-4156-9efb-cfa9fc25463d",
   "metadata": {},
   "outputs": [
    {
     "data": {
      "text/plain": [
       "['o', 'b', 'j', 'n']"
      ]
     },
     "execution_count": 34,
     "metadata": {},
     "output_type": "execute_result"
    }
   ],
   "source": [
    "# extents\n",
    "\n",
    "first_list = ['o','b','j']\n",
    "sec_list = ['n']\n",
    "first_list.extend(sec_list)\n",
    "first_list"
   ]
  },
  {
   "cell_type": "code",
   "execution_count": 35,
   "id": "91594864-b277-4e45-8536-b49ba8188408",
   "metadata": {},
   "outputs": [
    {
     "data": {
      "text/plain": [
       "['o', 'b', 'j', ['n']]"
      ]
     },
     "execution_count": 35,
     "metadata": {},
     "output_type": "execute_result"
    }
   ],
   "source": [
    "# extents\n",
    "\n",
    "first_list = ['o','b','j']\n",
    "sec_list = ['n']\n",
    "first_list.extend([sec_list])\n",
    "first_list"
   ]
  },
  {
   "cell_type": "code",
   "execution_count": 36,
   "id": "3e11991a-bea4-4759-ba40-f1d531759afb",
   "metadata": {},
   "outputs": [
    {
     "data": {
      "text/plain": [
       "2"
      ]
     },
     "execution_count": 36,
     "metadata": {},
     "output_type": "execute_result"
    }
   ],
   "source": [
    "# index\n",
    "items = [\"one\",4,\"sec\",4.6]\n",
    "items.index('sec')"
   ]
  },
  {
   "cell_type": "code",
   "execution_count": 50,
   "id": "5b5d6221-d99d-418c-86ac-40d7d4c7432b",
   "metadata": {},
   "outputs": [
    {
     "name": "stdout",
     "output_type": "stream",
     "text": [
      "['one', 4, 'n', 'i', 6]\n",
      "[6, 'i', 'n', 4, 'one']\n"
     ]
    }
   ],
   "source": [
    "# reverse list\n",
    "print(items)\n",
    "items.reverse()\n",
    "print(items)"
   ]
  },
  {
   "cell_type": "code",
   "execution_count": 52,
   "id": "e1ba2293-8763-4a8f-b6b6-8e782c8a0539",
   "metadata": {},
   "outputs": [
    {
     "name": "stdout",
     "output_type": "stream",
     "text": [
      "['ohf', 'hdfghd', 'yreghd', 'zjhf', 'abfhd']\n",
      "['abfhd', 'hdfghd', 'ohf', 'yreghd', 'zjhf']\n"
     ]
    }
   ],
   "source": [
    "# sort list\n",
    "items = ['ohf','hdfghd','yreghd','zjhf','abfhd']\n",
    "print(items)\n",
    "items.sort()\n",
    "print(items)"
   ]
  },
  {
   "cell_type": "code",
   "execution_count": 54,
   "id": "5e10050a-95bc-4974-b4dc-cfc9ff3a071f",
   "metadata": {},
   "outputs": [
    {
     "name": "stdout",
     "output_type": "stream",
     "text": [
      "['Ohf', 'hdfghd', 'Yreghd', 'zjhf', 'Abfhd']\n",
      "['Abfhd', 'hdfghd', 'Ohf', 'Yreghd', 'zjhf']\n"
     ]
    }
   ],
   "source": [
    "items = ['Ohf','hdfghd','Yreghd','zjhf','Abfhd']\n",
    "print(items)\n",
    "items.sort(key=lambda name: name.lower())\n",
    "print(items)"
   ]
  },
  {
   "cell_type": "code",
   "execution_count": 55,
   "id": "4c80f845-44d4-4499-8cd8-1fc2b7273f23",
   "metadata": {},
   "outputs": [
    {
     "name": "stdout",
     "output_type": "stream",
     "text": [
      "['Ohf', 'hdfghd', 'Yreghd', 'zjhf', 'Abfhd']\n",
      "['Ohf', 'zjhf', 'Abfhd', 'hdfghd', 'Yreghd']\n"
     ]
    }
   ],
   "source": [
    "items = ['Ohf','hdfghd','Yreghd','zjhf','Abfhd']\n",
    "print(items)\n",
    "items.sort(key=lambda name: len(name))\n",
    "print(items)"
   ]
  },
  {
   "cell_type": "code",
   "execution_count": 56,
   "id": "662746ac-cc95-42ff-8b09-d407e7cfbe99",
   "metadata": {},
   "outputs": [
    {
     "name": "stdout",
     "output_type": "stream",
     "text": [
      "['Ohf', 'hdfghd', 'Yreghd', 'zjhf', 'Abfhd']\n",
      "['hdfghd', 'Yreghd', 'Abfhd', 'zjhf', 'Ohf']\n"
     ]
    }
   ],
   "source": [
    "items = ['Ohf','hdfghd','Yreghd','zjhf','Abfhd']\n",
    "print(items)\n",
    "items.sort(key=lambda name: len(name),reverse=True)\n",
    "print(items)"
   ]
  },
  {
   "cell_type": "markdown",
   "id": "4dec6ac2-d502-4cf0-82dd-20cb9a3ab4d8",
   "metadata": {},
   "source": [
    "## slice delete"
   ]
  },
  {
   "cell_type": "code",
   "execution_count": 1,
   "id": "4ec876f7-5fb3-407f-9e3e-a11804ca4b01",
   "metadata": {},
   "outputs": [],
   "source": [
    "items = ['Ohf','hdfghd','Yreghd','zjhf','Abfhd']"
   ]
  },
  {
   "cell_type": "code",
   "execution_count": 2,
   "id": "bc6de901-372a-406f-9b12-6e3f460b9a06",
   "metadata": {},
   "outputs": [
    {
     "data": {
      "text/plain": [
       "['Ohf', 'hdfghd']"
      ]
     },
     "execution_count": 2,
     "metadata": {},
     "output_type": "execute_result"
    }
   ],
   "source": [
    "items[0:2]"
   ]
  },
  {
   "cell_type": "code",
   "execution_count": 3,
   "id": "8bcee28f-d0aa-4544-91ff-e426c2fdcb85",
   "metadata": {},
   "outputs": [
    {
     "data": {
      "text/plain": [
       "['x', 'y', 'Yreghd', 'zjhf', 'Abfhd']"
      ]
     },
     "execution_count": 3,
     "metadata": {},
     "output_type": "execute_result"
    }
   ],
   "source": [
    "## update useing slice\n",
    "items[0:2] = ['x','y']\n",
    "items"
   ]
  },
  {
   "cell_type": "code",
   "execution_count": 4,
   "id": "aff6db38-e7c8-4b68-a0f5-0734475aa608",
   "metadata": {},
   "outputs": [
    {
     "data": {
      "text/plain": [
       "'y'"
      ]
     },
     "execution_count": 4,
     "metadata": {},
     "output_type": "execute_result"
    }
   ],
   "source": [
    "## pop()\n",
    "items.pop(1)"
   ]
  },
  {
   "cell_type": "code",
   "execution_count": 5,
   "id": "354328d9-5516-4b99-8324-178e4f5dda74",
   "metadata": {},
   "outputs": [
    {
     "data": {
      "text/plain": [
       "['x', 'Yreghd', 'zjhf', 'Abfhd']"
      ]
     },
     "execution_count": 5,
     "metadata": {},
     "output_type": "execute_result"
    }
   ],
   "source": [
    "items"
   ]
  },
  {
   "cell_type": "markdown",
   "id": "2c5d3985-0970-4d13-9e2e-66a77caa8431",
   "metadata": {},
   "source": [
    "## searching element from list"
   ]
  },
  {
   "cell_type": "code",
   "execution_count": 8,
   "id": "7f066606-b21d-481f-aa32-16c64ce5e994",
   "metadata": {},
   "outputs": [
    {
     "name": "stdout",
     "output_type": "stream",
     "text": [
      "0\n"
     ]
    }
   ],
   "source": [
    "if 'x' in items:\n",
    "    print(items.index('x'))\n",
    "else:\n",
    "    print(\"item isn't present\")"
   ]
  },
  {
   "cell_type": "code",
   "execution_count": 9,
   "id": "c57726fa-9ae3-4b3f-a716-b7f332d16955",
   "metadata": {},
   "outputs": [],
   "source": [
    "def searchinlist(list,value):\n",
    "    for x in list:\n",
    "        if x== value:\n",
    "            return list.index(value)\n",
    "    return \"value isn't present\""
   ]
  },
  {
   "cell_type": "code",
   "execution_count": 11,
   "id": "52e0cacf-0d78-49b7-81da-0d5ac1febf73",
   "metadata": {},
   "outputs": [
    {
     "data": {
      "text/plain": [
       "0"
      ]
     },
     "execution_count": 11,
     "metadata": {},
     "output_type": "execute_result"
    }
   ],
   "source": [
    "searchinlist(items,'x')"
   ]
  },
  {
   "cell_type": "markdown",
   "id": "6602bb3f-f870-4eef-9948-4be0aa6e4de1",
   "metadata": {},
   "source": [
    "## list operator functions"
   ]
  },
  {
   "cell_type": "code",
   "execution_count": 12,
   "id": "3556b272-d5c1-443a-8e94-8d1b82cee85f",
   "metadata": {},
   "outputs": [
    {
     "name": "stdout",
     "output_type": "stream",
     "text": [
      "[1, 3, 4, 3, 5, 2]\n"
     ]
    }
   ],
   "source": [
    "a = [1,3,4]\n",
    "b = [3,5,2]\n",
    "c = a+b\n",
    "print(c)"
   ]
  },
  {
   "cell_type": "code",
   "execution_count": 14,
   "id": "2da74ece-d07b-4eb6-9a30-2053cf14bfd5",
   "metadata": {},
   "outputs": [
    {
     "name": "stdout",
     "output_type": "stream",
     "text": [
      "[1, 3, 4, 1, 3, 4, 1, 3, 4, 1, 3, 4]\n"
     ]
    }
   ],
   "source": [
    "a = [1,3,4]\n",
    "a = a * 4\n",
    "print(a)"
   ]
  },
  {
   "cell_type": "code",
   "execution_count": 15,
   "id": "2ab80343-47c2-4c73-a06f-2d0bd9b2475f",
   "metadata": {},
   "outputs": [
    {
     "data": {
      "text/plain": [
       "4"
      ]
     },
     "execution_count": 15,
     "metadata": {},
     "output_type": "execute_result"
    }
   ],
   "source": [
    "max(a)"
   ]
  },
  {
   "cell_type": "code",
   "execution_count": 16,
   "id": "de9cb72f-2337-4d04-8ede-8a692e57911d",
   "metadata": {},
   "outputs": [
    {
     "data": {
      "text/plain": [
       "1"
      ]
     },
     "execution_count": 16,
     "metadata": {},
     "output_type": "execute_result"
    }
   ],
   "source": [
    "min(a)"
   ]
  },
  {
   "cell_type": "markdown",
   "id": "d459339b-ae75-4bd7-bd2c-dfbfee4369f7",
   "metadata": {},
   "source": [
    "## sum()"
   ]
  },
  {
   "cell_type": "code",
   "execution_count": 18,
   "id": "fe2ee6b8-a4ee-4a2c-9833-3262b2642f1a",
   "metadata": {},
   "outputs": [
    {
     "data": {
      "text/plain": [
       "[1, 3, 4, 1, 3, 4, 1, 3, 4, 1, 3, 4]"
      ]
     },
     "execution_count": 18,
     "metadata": {},
     "output_type": "execute_result"
    }
   ],
   "source": [
    "a"
   ]
  },
  {
   "cell_type": "code",
   "execution_count": 19,
   "id": "6673aed7-7d06-440c-81a6-6171b0421247",
   "metadata": {},
   "outputs": [
    {
     "data": {
      "text/plain": [
       "32"
      ]
     },
     "execution_count": 19,
     "metadata": {},
     "output_type": "execute_result"
    }
   ],
   "source": [
    "sum(a)"
   ]
  },
  {
   "cell_type": "code",
   "execution_count": 20,
   "id": "c5da2e45-d635-4530-851d-568a4c55d6f8",
   "metadata": {},
   "outputs": [
    {
     "data": {
      "text/plain": [
       "2.6666666666666665"
      ]
     },
     "execution_count": 20,
     "metadata": {},
     "output_type": "execute_result"
    }
   ],
   "source": [
    "# avg\n",
    "sum(a)/len(a)"
   ]
  },
  {
   "cell_type": "code",
   "execution_count": 21,
   "id": "06b54250-c297-4dc6-a7ac-51eed96a8bbd",
   "metadata": {},
   "outputs": [],
   "source": [
    "a.sort()"
   ]
  },
  {
   "cell_type": "code",
   "execution_count": 22,
   "id": "bba66a2e-541e-4061-ba07-ec1970487683",
   "metadata": {},
   "outputs": [
    {
     "data": {
      "text/plain": [
       "[1, 1, 1, 1, 3, 3, 3, 3, 4, 4, 4, 4]"
      ]
     },
     "execution_count": 22,
     "metadata": {},
     "output_type": "execute_result"
    }
   ],
   "source": [
    "a"
   ]
  },
  {
   "cell_type": "code",
   "execution_count": null,
   "id": "fd1940fe-4e39-41c7-ad97-a0c24e07ce42",
   "metadata": {},
   "outputs": [],
   "source": []
  }
 ],
 "metadata": {
  "kernelspec": {
   "display_name": "Python 3 (ipykernel)",
   "language": "python",
   "name": "python3"
  },
  "language_info": {
   "codemirror_mode": {
    "name": "ipython",
    "version": 3
   },
   "file_extension": ".py",
   "mimetype": "text/x-python",
   "name": "python",
   "nbconvert_exporter": "python",
   "pygments_lexer": "ipython3",
   "version": "3.10.7"
  }
 },
 "nbformat": 4,
 "nbformat_minor": 5
}
