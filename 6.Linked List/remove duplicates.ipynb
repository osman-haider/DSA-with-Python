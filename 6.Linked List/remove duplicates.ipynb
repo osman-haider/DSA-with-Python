{
 "cells": [
  {
   "cell_type": "code",
   "execution_count": 84,
   "id": "77c5e6c4-0af2-431a-88e5-eb402f08fe1a",
   "metadata": {},
   "outputs": [],
   "source": [
    "class Node:\n",
    "    def __init__(self, value):\n",
    "        self.value = value\n",
    "        self.next = None\n",
    "\n",
    "class SlinkedList:\n",
    "    def __init__(self):\n",
    "        self.head = None\n",
    "        self.tail = None\n",
    "\n",
    "    def __iter__(self):\n",
    "        node = self.head\n",
    "        while node:\n",
    "            yield node\n",
    "            node = node.next\n",
    "\n",
    "    def insertSLL(self, value, location):\n",
    "        newNode = Node(value)\n",
    "        if self.head is None:\n",
    "            self.head = newNode\n",
    "            self.tail = newNode\n",
    "        else:\n",
    "            if location == 0:\n",
    "                newNode.next = self.head\n",
    "                self.head = newNode\n",
    "            elif location == -1:\n",
    "                newNode.next = None\n",
    "                self.tail.next = newNode\n",
    "                self.tail = newNode\n",
    "            else:\n",
    "                tempNode = self.head\n",
    "                index = 0\n",
    "                while index < location - 1:\n",
    "                    tempNode = tempNode.next\n",
    "                    index += 1\n",
    "                nextnode = tempNode.next\n",
    "                tempNode.next = newNode\n",
    "                newNode.next = nextnode\n",
    "\n",
    "    def removedup(self):\n",
    "        if self.head is None:\n",
    "            return \"There is no Linked list exist\"\n",
    "        else:\n",
    "            currentNode = self.head\n",
    "            visited = [currentNode.value]\n",
    "            while currentNode.next:\n",
    "                if currentNode.next.value in visited:\n",
    "                    currentNode = currentNode.next\n",
    "                else:\n",
    "                    visited.append(currentNode.next.value)\n",
    "                    currentNode = currentNode.next\n",
    "            return visited\n",
    "\n",
    "    def removeduptwo(self):\n",
    "        if self.head is None:\n",
    "            return \"There is no Linked list exist\"\n",
    "        else:\n",
    "            currentNode = self.head\n",
    "            while currentNode:\n",
    "                runner = currentNode\n",
    "                while runner.next:\n",
    "                    if currentNode.value == runner.next.value:\n",
    "                        runner.next = runner.next.next\n",
    "                    else:\n",
    "                        runner = runner.next\n",
    "                currentNode = currentNode.next\n",
    "            return \"Duplicates are removed\"\n"
   ]
  },
  {
   "cell_type": "code",
   "execution_count": 96,
   "id": "5c0b1564-cf8a-4f22-841b-30418946c0bf",
   "metadata": {},
   "outputs": [],
   "source": [
    "SLL =SlinkedList()"
   ]
  },
  {
   "cell_type": "code",
   "execution_count": 97,
   "id": "b98e78c6-556b-43f5-ac2d-2bb096e94d5d",
   "metadata": {},
   "outputs": [],
   "source": [
    "SLL.insertSLL(5,0)\n",
    "SLL.insertSLL(2,-1)\n",
    "SLL.insertSLL(1,0)\n",
    "SLL.insertSLL(6,0)\n",
    "SLL.insertSLL(9,0)\n",
    "SLL.insertSLL(3,-1)"
   ]
  },
  {
   "cell_type": "code",
   "execution_count": 98,
   "id": "b7dc4a7f-99c2-44b1-9cdf-692cb806895d",
   "metadata": {},
   "outputs": [],
   "source": [
    "print([node.value for node in SLL])"
   ]
  },
  {
   "cell_type": "code",
   "execution_count": 99,
   "id": "b753c1d3-3221-4e5d-a57a-34280786999e",
   "metadata": {},
   "outputs": [
    {
     "data": {
      "text/plain": [
       "[9, 6, 1, 5, 2, 3]"
      ]
     },
     "execution_count": 99,
     "metadata": {},
     "output_type": "execute_result"
    }
   ],
   "source": [
    "l"
   ]
  },
  {
   "cell_type": "code",
   "execution_count": 100,
   "id": "d1e6a1b8-e02e-4082-915f-5d6c02e221d5",
   "metadata": {},
   "outputs": [],
   "source": [
    "SLL.insertSLL(2,0)"
   ]
  },
  {
   "cell_type": "code",
   "execution_count": 101,
   "id": "51fa8e75-b3b2-4d9d-ae09-9d15cb6a97aa",
   "metadata": {},
   "outputs": [],
   "source": [
    "SLL.insertSLL(3,0)"
   ]
  },
  {
   "cell_type": "code",
   "execution_count": 102,
   "id": "ecd3e864-fe42-49d0-bedc-da5992042e44",
   "metadata": {},
   "outputs": [
    {
     "name": "stdout",
     "output_type": "stream",
     "text": [
      "[3, 2, 9, 6, 1, 5, 2, 3]\n"
     ]
    }
   ],
   "source": [
    "print([node.value for node in SLL])"
   ]
  },
  {
   "cell_type": "code",
   "execution_count": null,
   "id": "041d3b4f-0450-4852-85df-30e4961fbe7b",
   "metadata": {},
   "outputs": [],
   "source": []
  },
  {
   "cell_type": "code",
   "execution_count": 103,
   "id": "be6a08c5-1040-4b06-b6fc-fb8a6e7ef4e8",
   "metadata": {},
   "outputs": [
    {
     "data": {
      "text/plain": [
       "[3, 2, 9, 6, 1, 5]"
      ]
     },
     "execution_count": 103,
     "metadata": {},
     "output_type": "execute_result"
    }
   ],
   "source": [
    "SLL.removedup() # time complexity is O(n) and space complexity is O(n)"
   ]
  },
  {
   "cell_type": "code",
   "execution_count": 104,
   "id": "427ea5a7-cf00-4398-9c3d-34ab4bef164a",
   "metadata": {},
   "outputs": [
    {
     "name": "stdout",
     "output_type": "stream",
     "text": [
      "[3, 2, 9, 6, 1, 5, 2, 3]\n"
     ]
    }
   ],
   "source": [
    "print([node.value for node in SLL])"
   ]
  },
  {
   "cell_type": "code",
   "execution_count": 109,
   "id": "8919d4f9-88e9-4669-ac9e-bec9348d8ae4",
   "metadata": {},
   "outputs": [
    {
     "data": {
      "text/plain": [
       "'Duplicates are removed'"
      ]
     },
     "execution_count": 109,
     "metadata": {},
     "output_type": "execute_result"
    }
   ],
   "source": [
    "SLL.removeduptwo() # time complexity is O(n^2) and space complexity is O(1)"
   ]
  },
  {
   "cell_type": "code",
   "execution_count": 110,
   "id": "f1f37391-2542-4a45-afa3-f7bb15b5df94",
   "metadata": {},
   "outputs": [
    {
     "name": "stdout",
     "output_type": "stream",
     "text": [
      "[3, 2, 9, 6, 1, 5]\n"
     ]
    }
   ],
   "source": [
    "print([node.value for node in SLL])"
   ]
  },
  {
   "cell_type": "code",
   "execution_count": 111,
   "id": "4884d161-4d71-4c66-9ace-fe49c2897dee",
   "metadata": {},
   "outputs": [
    {
     "name": "stdout",
     "output_type": "stream",
     "text": [
      "0\n",
      "1\n",
      "2\n"
     ]
    }
   ],
   "source": [
    "for x in range(3):\n",
    "    print(x)"
   ]
  },
  {
   "cell_type": "code",
   "execution_count": null,
   "id": "62aad2f6-b790-4491-9ff3-bc7be44c3872",
   "metadata": {},
   "outputs": [],
   "source": []
  }
 ],
 "metadata": {
  "kernelspec": {
   "display_name": "Python 3 (ipykernel)",
   "language": "python",
   "name": "python3"
  },
  "language_info": {
   "codemirror_mode": {
    "name": "ipython",
    "version": 3
   },
   "file_extension": ".py",
   "mimetype": "text/x-python",
   "name": "python",
   "nbconvert_exporter": "python",
   "pygments_lexer": "ipython3",
   "version": "3.10.7"
  }
 },
 "nbformat": 4,
 "nbformat_minor": 5
}
