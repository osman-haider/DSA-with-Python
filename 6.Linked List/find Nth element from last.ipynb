{
 "cells": [
  {
   "cell_type": "code",
   "execution_count": null,
   "id": "34a5f1f6-d20c-49dc-9e05-9874c68183ed",
   "metadata": {},
   "outputs": [],
   "source": []
  },
  {
   "cell_type": "code",
   "execution_count": 14,
   "id": "38d53890-36b6-465d-afa1-70fb6b481cd8",
   "metadata": {},
   "outputs": [],
   "source": [
    "class Node:\n",
    "    def __init__(self, value):\n",
    "        self.value = value\n",
    "        self.next = None\n",
    "\n",
    "class SlinkedList:\n",
    "    def __init__(self):\n",
    "        self.head = None\n",
    "        self.tail = None\n",
    "\n",
    "    def __iter__(self):\n",
    "        node = self.head\n",
    "        while node:\n",
    "            yield node\n",
    "            node = node.next\n",
    "\n",
    "    def insertSLL(self, value, location):\n",
    "        newNode = Node(value)\n",
    "        if self.head is None:\n",
    "            self.head = newNode\n",
    "            self.tail = newNode\n",
    "        else:\n",
    "            if location == 0:\n",
    "                newNode.next = self.head\n",
    "                self.head = newNode\n",
    "            elif location == -1:\n",
    "                newNode.next = None\n",
    "                self.tail.next = newNode\n",
    "                self.tail = newNode\n",
    "            else:\n",
    "                tempNode = self.head\n",
    "                index = 0\n",
    "                while index < location - 1:\n",
    "                    tempNode = tempNode.next\n",
    "                    index += 1\n",
    "                nextnode = tempNode.next\n",
    "                tempNode.next = newNode\n",
    "                newNode.next = nextnode\n",
    "\n",
    "    # find nth from last\n",
    "    def findnth(self,n):\n",
    "        pointer1 = self.head\n",
    "        pointer2 = self.head\n",
    "\n",
    "        for i in range(n):\n",
    "            if pointer2.next is None:\n",
    "                return \"there is just one head element\"\n",
    "            else:\n",
    "                pointer2 = pointer2.next\n",
    "        while pointer2:\n",
    "            pointer1 = pointer1.next\n",
    "            pointer2 = pointer2.next\n",
    "        return pointer1.value"
   ]
  },
  {
   "cell_type": "code",
   "execution_count": 15,
   "id": "3cae1860-fa2c-401d-9011-e4d0ad308f21",
   "metadata": {},
   "outputs": [
    {
     "name": "stdout",
     "output_type": "stream",
     "text": [
      "[9, 6, 1, 5, 2, 3]\n"
     ]
    }
   ],
   "source": [
    "SLL =SlinkedList()\n",
    "SLL.insertSLL(5,0)\n",
    "SLL.insertSLL(2,-1)\n",
    "SLL.insertSLL(1,0)\n",
    "SLL.insertSLL(6,0)\n",
    "SLL.insertSLL(9,0)\n",
    "SLL.insertSLL(3,-1)\n",
    "print([node.value for node in SLL])"
   ]
  },
  {
   "cell_type": "code",
   "execution_count": 23,
   "id": "96cf13fd-9ecf-4831-86ab-6fb20869edb8",
   "metadata": {},
   "outputs": [
    {
     "data": {
      "text/plain": [
       "5"
      ]
     },
     "execution_count": 23,
     "metadata": {},
     "output_type": "execute_result"
    }
   ],
   "source": [
    "SLL.findnth(3) # time complexity is O(n) and space complexity is O(1)"
   ]
  },
  {
   "cell_type": "code",
   "execution_count": null,
   "id": "678457d1-4c4a-4064-af7e-7f811d17643a",
   "metadata": {},
   "outputs": [],
   "source": []
  },
  {
   "cell_type": "code",
   "execution_count": null,
   "id": "6bfcb9bc-2f24-454c-ab1e-dba1c2634637",
   "metadata": {},
   "outputs": [],
   "source": []
  }
 ],
 "metadata": {
  "kernelspec": {
   "display_name": "Python 3 (ipykernel)",
   "language": "python",
   "name": "python3"
  },
  "language_info": {
   "codemirror_mode": {
    "name": "ipython",
    "version": 3
   },
   "file_extension": ".py",
   "mimetype": "text/x-python",
   "name": "python",
   "nbconvert_exporter": "python",
   "pygments_lexer": "ipython3",
   "version": "3.10.7"
  }
 },
 "nbformat": 4,
 "nbformat_minor": 5
}
