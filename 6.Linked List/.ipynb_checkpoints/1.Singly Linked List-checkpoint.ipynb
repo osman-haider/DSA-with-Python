{
 "cells": [
  {
   "cell_type": "code",
   "execution_count": 1,
   "id": "f64fc4fd-c95a-4e24-b4b0-41d14e435327",
   "metadata": {},
   "outputs": [],
   "source": [
    "class Node:\n",
    "    def __init__(self,value):\n",
    "        self.value = value\n",
    "        self.next = None\n",
    "\n",
    "class SlinkedList:\n",
    "    def __init__(self):\n",
    "        self.head = None\n",
    "        self.tail = None\n",
    "\n",
    "    def __iter__(self):\n",
    "        node = self.head\n",
    "        while node:\n",
    "            yield node\n",
    "            node = node.next\n",
    "\n",
    "    # insert single linked list\n",
    "    def insertSLL(self,value,location):\n",
    "        newNode = Node(value)\n",
    "        if self.head is None:\n",
    "            self.head = newNode\n",
    "            self.tail = newNode\n",
    "        else:\n",
    "            if location == 0:\n",
    "                newNode.next = self.head\n",
    "                self.head = newNode\n",
    "            elif location == -1:\n",
    "                newNode.next = None\n",
    "                self.tail.next = newNode\n",
    "                self.tail = newNode\n",
    "            else:\n",
    "                tempNode = self.head\n",
    "                index = 0\n",
    "                while index < location - 1:\n",
    "                    tempNode = tempNode.next\n",
    "                    index +=1\n",
    "                nextnode = tempNode.next\n",
    "                tempNode.next = newNode\n",
    "                newNode.next = nextnode\n",
    "\n",
    "    # traverse singly linked list\n",
    "    def traversal(self):\n",
    "        if self.head is None:\n",
    "            print(\"Single linked does't exsist\")\n",
    "        else:\n",
    "            node = self.head\n",
    "            while node is not None:\n",
    "                print(node.value)\n",
    "                node = node.next\n",
    "\n",
    "    # find value from singly linked list\n",
    "    def findvalue(self,value):\n",
    "        if self.head is None:\n",
    "            return \"Singly linked list does't exsist\"\n",
    "        else:\n",
    "            node = self.head\n",
    "            while node is not None:\n",
    "                if node.value == value:\n",
    "                    return f'yes this value {node.value} is exsist.'\n",
    "                node = node.next\n",
    "            return \"values does not exsist\"\n",
    "\n",
    "    # delete node \n",
    "    def deletenode(self,location):\n",
    "        if self.head is None:\n",
    "            print(\"Singly linked list does't exsist\")\n",
    "        else:\n",
    "            if location == 0:\n",
    "                if self.head == self.tail:\n",
    "                    self.head = None\n",
    "                    self.tail = None\n",
    "                else:\n",
    "                    self.head = self.head.next\n",
    "            elif location == -1:\n",
    "                if self.head == self.tail:\n",
    "                    self.head = None\n",
    "                    self.tail = None\n",
    "                else:\n",
    "                    node = self.head\n",
    "                    while node is not None:\n",
    "                        if node.next == self.tail:\n",
    "                            break\n",
    "                        node = node.next\n",
    "                    node.next = None\n",
    "                    self.tail = node\n",
    "            else:\n",
    "                tempNode = self.head\n",
    "                index = 0\n",
    "                while index < location -1:\n",
    "                    tempNode = tempNode.next\n",
    "                    index +=1\n",
    "                nextnode = tempNode.next\n",
    "                tempNode.next = nextnode.next"
   ]
  },
  {
   "cell_type": "code",
   "execution_count": 2,
   "id": "78d205bf-09b5-4255-97e8-860c21dbbcea",
   "metadata": {},
   "outputs": [],
   "source": [
    "singlylinkedlist = SlinkedList()"
   ]
  },
  {
   "cell_type": "code",
   "execution_count": 3,
   "id": "074c7a8b-0b2e-4fd1-967f-3df406f3d42c",
   "metadata": {},
   "outputs": [],
   "source": [
    "singlylinkedlist.insertSLL(1,1)\n",
    "singlylinkedlist.insertSLL(6,-1)\n",
    "singlylinkedlist.insertSLL(1,-1)"
   ]
  },
  {
   "cell_type": "code",
   "execution_count": 4,
   "id": "36207959-31c5-411a-a0a3-7a8fb323bb61",
   "metadata": {},
   "outputs": [],
   "source": [
    "singlylinkedlist.insertSLL(67,1)"
   ]
  },
  {
   "cell_type": "code",
   "execution_count": 5,
   "id": "0352bdbb-c454-4c75-b5ef-f6d3d081a9d8",
   "metadata": {},
   "outputs": [],
   "source": [
    "singlylinkedlist.insertSLL(90,2)"
   ]
  },
  {
   "cell_type": "code",
   "execution_count": 6,
   "id": "f0206250-5557-4ec1-9ef5-8537628b5ab1",
   "metadata": {},
   "outputs": [],
   "source": [
    "singlylinkedlist.insertSLL(23,0)"
   ]
  },
  {
   "cell_type": "code",
   "execution_count": 7,
   "id": "ec738b45-806c-408a-9851-4182b3559d9c",
   "metadata": {},
   "outputs": [
    {
     "name": "stdout",
     "output_type": "stream",
     "text": [
      "[23, 1, 67, 90, 6, 1]\n"
     ]
    }
   ],
   "source": [
    "print([node.value for node in singlylinkedlist])"
   ]
  },
  {
   "cell_type": "code",
   "execution_count": 8,
   "id": "aa2b14f9-eda7-4dfd-80f9-588c25649ae0",
   "metadata": {},
   "outputs": [
    {
     "name": "stdout",
     "output_type": "stream",
     "text": [
      "23\n",
      "1\n",
      "67\n",
      "90\n",
      "6\n",
      "1\n"
     ]
    }
   ],
   "source": [
    "singlylinkedlist.traversal() # time complexity is O(n)"
   ]
  },
  {
   "cell_type": "code",
   "execution_count": 9,
   "id": "97f9865d-8348-422d-a8c6-378a06e9dfad",
   "metadata": {},
   "outputs": [
    {
     "data": {
      "text/plain": [
       "'yes this value 6 is exsist.'"
      ]
     },
     "execution_count": 9,
     "metadata": {},
     "output_type": "execute_result"
    }
   ],
   "source": [
    "singlylinkedlist.findvalue(6) # O(n) time complexity"
   ]
  },
  {
   "cell_type": "code",
   "execution_count": 10,
   "id": "2b755307-a571-4d46-9fc2-b852f7623938",
   "metadata": {},
   "outputs": [
    {
     "name": "stdout",
     "output_type": "stream",
     "text": [
      "[23, 1, 67, 90, 6, 1]\n"
     ]
    }
   ],
   "source": [
    "print([node.value for node in singlylinkedlist])"
   ]
  },
  {
   "cell_type": "code",
   "execution_count": 11,
   "id": "e36998c7-ccca-44ed-bcdd-6543746cf166",
   "metadata": {},
   "outputs": [],
   "source": [
    "singlylinkedlist.deletenode(0) # deleting first node of linked list"
   ]
  },
  {
   "cell_type": "code",
   "execution_count": 12,
   "id": "eb6893e9-ac9a-4eb9-b4cf-b85f4ff445db",
   "metadata": {},
   "outputs": [
    {
     "name": "stdout",
     "output_type": "stream",
     "text": [
      "[1, 67, 90, 6, 1]\n"
     ]
    }
   ],
   "source": [
    "print([node.value for node in singlylinkedlist])"
   ]
  },
  {
   "cell_type": "code",
   "execution_count": 13,
   "id": "1226ec8e-7c81-4306-bc54-e6df61389727",
   "metadata": {},
   "outputs": [],
   "source": [
    "singlylinkedlist.deletenode(-1) # deleting last node of linked list"
   ]
  },
  {
   "cell_type": "code",
   "execution_count": 14,
   "id": "61320714-2c12-48d1-b4be-7ad22c841a1b",
   "metadata": {},
   "outputs": [
    {
     "name": "stdout",
     "output_type": "stream",
     "text": [
      "[1, 67, 90, 6]\n"
     ]
    }
   ],
   "source": [
    "print([node.value for node in singlylinkedlist])"
   ]
  },
  {
   "cell_type": "code",
   "execution_count": 15,
   "id": "42b6b0e9-4b2b-4b2b-9a20-b22fe9100f43",
   "metadata": {},
   "outputs": [],
   "source": [
    "singlylinkedlist.deletenode(2) # deleting 2nd index node of linked list"
   ]
  },
  {
   "cell_type": "code",
   "execution_count": 16,
   "id": "ef5c1848-b54e-4329-ade6-b1bff00e1c3e",
   "metadata": {},
   "outputs": [
    {
     "name": "stdout",
     "output_type": "stream",
     "text": [
      "[1, 67, 6]\n"
     ]
    }
   ],
   "source": [
    "print([node.value for node in singlylinkedlist])"
   ]
  },
  {
   "cell_type": "markdown",
   "id": "1f97f5be-fba8-41dc-8284-9859b211c137",
   "metadata": {},
   "source": [
    "### Time complexity is O(n)\n",
    "### Space Complexity is O(1)"
   ]
  },
  {
   "cell_type": "code",
   "execution_count": null,
   "id": "f9093a6f-f7ae-44d4-a77a-e3d208c84430",
   "metadata": {},
   "outputs": [],
   "source": []
  }
 ],
 "metadata": {
  "kernelspec": {
   "display_name": "Python 3 (ipykernel)",
   "language": "python",
   "name": "python3"
  },
  "language_info": {
   "codemirror_mode": {
    "name": "ipython",
    "version": 3
   },
   "file_extension": ".py",
   "mimetype": "text/x-python",
   "name": "python",
   "nbconvert_exporter": "python",
   "pygments_lexer": "ipython3",
   "version": "3.10.7"
  }
 },
 "nbformat": 4,
 "nbformat_minor": 5
}
