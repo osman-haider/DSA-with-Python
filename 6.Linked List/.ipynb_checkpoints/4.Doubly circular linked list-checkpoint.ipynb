{
 "cells": [
  {
   "cell_type": "code",
   "execution_count": 49,
   "id": "bc50d496-e7cb-49bb-b768-2164f9e6c0e9",
   "metadata": {},
   "outputs": [],
   "source": [
    "class Node:\n",
    "    def __init__(self,value=None):\n",
    "        self.value = value\n",
    "        self.next = None\n",
    "        self.prev = None\n",
    "\n",
    "class CircularDounblyLinkedList:\n",
    "    def __init__(self):\n",
    "        self.head = None\n",
    "        self.tail = None\n",
    "\n",
    "    def __iter__(self):\n",
    "        node = self.head\n",
    "        while node:\n",
    "            yield node\n",
    "            node = node.next\n",
    "            if node == self.tail.next:\n",
    "                break\n",
    "\n",
    "    # create doubly linked list\n",
    "    def create(self,value):\n",
    "        node = Node(value)\n",
    "        self.head = node\n",
    "        self.tail = node\n",
    "        node.prev = node\n",
    "        node.next = node\n",
    "        return \"Linked list is created\"\n",
    "\n",
    "    #insert node in DLL\n",
    "    def insert(self,value,location):\n",
    "        newNode = Node(value)\n",
    "        if self.head is None:\n",
    "            self.head = newNode\n",
    "            self.tail = newNode\n",
    "            self.next = newNode\n",
    "            self.prev = newNode\n",
    "        else:\n",
    "            if location == 0:\n",
    "                self.head.prev = newNode\n",
    "                newNode.next = self.head\n",
    "                self.head = newNode\n",
    "                self.tail.next = newNode\n",
    "                newNode.prev = self.tail\n",
    "                \n",
    "            elif location == -1:\n",
    "                newNode.prev = self.tail\n",
    "                newNode.next = self.head\n",
    "                self.head.prev = newNode\n",
    "                self.tail.next = newNode\n",
    "                self.tail = newNode\n",
    "            else:\n",
    "                tempNode = self.head\n",
    "                index = 0\n",
    "                while index < location - 1:\n",
    "                    tempNode = tempNode.next\n",
    "                    index +=1\n",
    "                newNode.next = tempNode.next\n",
    "                newNode.next.prev = newNode\n",
    "                tempNode.next = newNode\n",
    "                newNode.prev = tempNode\n",
    "        return \"value is inserted\"\n",
    "\n",
    "    # traverse Doubly linked list\n",
    "    def traversal(self):\n",
    "        if self.head is None:\n",
    "            print(\"Doubly linked does't exsist\")\n",
    "        else:\n",
    "            node = self.head\n",
    "            while node:\n",
    "                print(node.value)\n",
    "                node = node.next\n",
    "                if node == self.tail.next:\n",
    "                    break\n",
    "\n",
    "    # Reverse traverse Doubly linked list\n",
    "    def Reversetraversal(self):\n",
    "        if self.head is None:\n",
    "            print(\"Doubly linked does't exsist\")\n",
    "        else:\n",
    "            node = self.tail\n",
    "            while node:\n",
    "                print(node.value)\n",
    "                node = node.prev\n",
    "                if node == self.head.prev:\n",
    "                    break\n",
    "\n",
    "    # find value from Doubly linked list\n",
    "    def findvalue(self,value):\n",
    "        if self.head is None:\n",
    "            return \"Circular Singly linked list does't exsist\"\n",
    "        else:\n",
    "            node = self.head\n",
    "            while node:\n",
    "                if node.value == value:\n",
    "                    return f'yes this value {node.value} is exsist.'\n",
    "                node = node.next\n",
    "                if node == self.tail.next:\n",
    "                    break\n",
    "            return \"values does not exsist\"\n",
    "\n",
    "    # delete node \n",
    "    def deletenode(self,location):\n",
    "        if self.head is None:\n",
    "            print(\"Singly linked list does't exsist\")\n",
    "        else:\n",
    "            if location == 0:\n",
    "                if self.head == self.tail:\n",
    "                    self.head = None\n",
    "                    self.tail = None\n",
    "                else:\n",
    "                    self.head.next.prev = None\n",
    "                    self.head = self.head.next\n",
    "            elif location == -1:\n",
    "                if self.head == self.tail:\n",
    "                    self.head = None\n",
    "                    self.tail = None\n",
    "                else:\n",
    "                    self.tail.prev.next = None\n",
    "                    self.tail = self.tail.prev\n",
    "            else:\n",
    "                tempNode = self.head\n",
    "                index = 0\n",
    "                while index < location -1:\n",
    "                    tempNode = tempNode.next\n",
    "                    index +=1\n",
    "                tempNode.next.next.prev = tempNode\n",
    "                tempNode.next = tempNode.next.next\n",
    "\n",
    "        return \"Element is deleted\"\n",
    "\n",
    "    #delete entire DLL\n",
    "    def deleteentireLL(self):\n",
    "        if self.head is None:\n",
    "            print(\"SLL does't exsist\")\n",
    "        else:\n",
    "            self.head = None\n",
    "            self.tail = None\n",
    "\n",
    "        return \"Linked List is deleted\""
   ]
  },
  {
   "cell_type": "code",
   "execution_count": 50,
   "id": "17f025d2-2439-4088-91b3-eb0e8a929ee2",
   "metadata": {},
   "outputs": [],
   "source": [
    "CDLL = CircularDounblyLinkedList()"
   ]
  },
  {
   "cell_type": "code",
   "execution_count": 51,
   "id": "46662b26-e4a0-4798-944a-b3fde2f50420",
   "metadata": {},
   "outputs": [
    {
     "data": {
      "text/plain": [
       "'Linked list is created'"
      ]
     },
     "execution_count": 51,
     "metadata": {},
     "output_type": "execute_result"
    }
   ],
   "source": [
    "CDLL.create(4) # time and space complexity is O(1)"
   ]
  },
  {
   "cell_type": "code",
   "execution_count": 52,
   "id": "6e7a61a4-b403-45b6-a1e5-376ff41313a5",
   "metadata": {},
   "outputs": [
    {
     "name": "stdout",
     "output_type": "stream",
     "text": [
      "[4]\n"
     ]
    }
   ],
   "source": [
    "print([node.value for node in CDLL])"
   ]
  },
  {
   "cell_type": "code",
   "execution_count": 53,
   "id": "a3fe7424-42c4-46b7-9533-ea8421ef58b7",
   "metadata": {},
   "outputs": [
    {
     "data": {
      "text/plain": [
       "'value is inserted'"
      ]
     },
     "execution_count": 53,
     "metadata": {},
     "output_type": "execute_result"
    }
   ],
   "source": [
    "CDLL.insert(8,0) # time and space complexity is O(1)"
   ]
  },
  {
   "cell_type": "code",
   "execution_count": 54,
   "id": "2f23d5fb-5ace-4dd4-a8f5-2ca186b574b0",
   "metadata": {},
   "outputs": [
    {
     "name": "stdout",
     "output_type": "stream",
     "text": [
      "[8, 4]\n"
     ]
    }
   ],
   "source": [
    "print([node.value for node in CDLL])"
   ]
  },
  {
   "cell_type": "code",
   "execution_count": 55,
   "id": "9a8a7289-5688-46e7-b1c7-474a9be5e864",
   "metadata": {},
   "outputs": [
    {
     "data": {
      "text/plain": [
       "'value is inserted'"
      ]
     },
     "execution_count": 55,
     "metadata": {},
     "output_type": "execute_result"
    }
   ],
   "source": [
    "CDLL.insert(5,-1) # time and space complexity is O(1)"
   ]
  },
  {
   "cell_type": "code",
   "execution_count": 56,
   "id": "81c43d8c-8abf-4df4-9c22-6a075d304624",
   "metadata": {},
   "outputs": [
    {
     "name": "stdout",
     "output_type": "stream",
     "text": [
      "[8, 4, 5]\n"
     ]
    }
   ],
   "source": [
    "print([node.value for node in CDLL])"
   ]
  },
  {
   "cell_type": "code",
   "execution_count": 57,
   "id": "50a534da-035f-44e4-bf86-20a0cbb24c2e",
   "metadata": {},
   "outputs": [
    {
     "data": {
      "text/plain": [
       "'value is inserted'"
      ]
     },
     "execution_count": 57,
     "metadata": {},
     "output_type": "execute_result"
    }
   ],
   "source": [
    "CDLL.insert(9,2) # Time complexity is O(n) and space complexity is O(1)"
   ]
  },
  {
   "cell_type": "code",
   "execution_count": 58,
   "id": "7a4f30b6-84a5-4cf9-9225-6f58951d0eec",
   "metadata": {},
   "outputs": [
    {
     "name": "stdout",
     "output_type": "stream",
     "text": [
      "[8, 4, 9, 5]\n"
     ]
    }
   ],
   "source": [
    "print([node.value for node in CDLL])"
   ]
  },
  {
   "cell_type": "code",
   "execution_count": 59,
   "id": "df786b80-a8f2-4a45-9737-bb3132d5a7f4",
   "metadata": {},
   "outputs": [
    {
     "name": "stdout",
     "output_type": "stream",
     "text": [
      "8\n",
      "4\n",
      "9\n",
      "5\n"
     ]
    }
   ],
   "source": [
    "CDLL.traversal() # time complexity is O(n)"
   ]
  },
  {
   "cell_type": "code",
   "execution_count": 60,
   "id": "f04f0b8e-e182-4c85-9abf-ee728783022b",
   "metadata": {},
   "outputs": [
    {
     "name": "stdout",
     "output_type": "stream",
     "text": [
      "5\n",
      "9\n",
      "4\n",
      "8\n"
     ]
    }
   ],
   "source": [
    "CDLL.Reversetraversal() # time complexity is O(n)"
   ]
  },
  {
   "cell_type": "code",
   "execution_count": 62,
   "id": "d72b2edd-4319-44b8-9ffd-60f0f840be17",
   "metadata": {},
   "outputs": [
    {
     "data": {
      "text/plain": [
       "'yes this value 4 is exsist.'"
      ]
     },
     "execution_count": 62,
     "metadata": {},
     "output_type": "execute_result"
    }
   ],
   "source": [
    "CDLL.findvalue(4) # time complexity is O(n)"
   ]
  },
  {
   "cell_type": "code",
   "execution_count": 63,
   "id": "90847d56-7a47-4865-a380-d68ab5b8d5db",
   "metadata": {},
   "outputs": [
    {
     "data": {
      "text/plain": [
       "'values does not exsist'"
      ]
     },
     "execution_count": 63,
     "metadata": {},
     "output_type": "execute_result"
    }
   ],
   "source": [
    "CDLL.findvalue(7)"
   ]
  },
  {
   "cell_type": "code",
   "execution_count": null,
   "id": "de762d91-5314-4036-b4b5-43009ee5ecc4",
   "metadata": {},
   "outputs": [],
   "source": []
  }
 ],
 "metadata": {
  "kernelspec": {
   "display_name": "Python 3 (ipykernel)",
   "language": "python",
   "name": "python3"
  },
  "language_info": {
   "codemirror_mode": {
    "name": "ipython",
    "version": 3
   },
   "file_extension": ".py",
   "mimetype": "text/x-python",
   "name": "python",
   "nbconvert_exporter": "python",
   "pygments_lexer": "ipython3",
   "version": "3.10.7"
  }
 },
 "nbformat": 4,
 "nbformat_minor": 5
}
