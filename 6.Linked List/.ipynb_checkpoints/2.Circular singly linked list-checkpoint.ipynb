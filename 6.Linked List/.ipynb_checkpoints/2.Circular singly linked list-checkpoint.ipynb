{
 "cells": [
  {
   "cell_type": "code",
   "execution_count": 174,
   "id": "6c6e65b1-3715-4b56-80f8-23683164a984",
   "metadata": {},
   "outputs": [],
   "source": [
    "class Node:\n",
    "    def __init__(self,value):\n",
    "        self.value = value\n",
    "        self.next = None\n",
    "\n",
    "class CircularSlinkedList:\n",
    "    def __init__(self):\n",
    "        self.head = None\n",
    "        self.tail = None\n",
    "\n",
    "    def __iter__(self):\n",
    "        node = self.head\n",
    "        while node:\n",
    "            yield node\n",
    "            if node.next  == self.head:\n",
    "                break\n",
    "            node = node.next\n",
    "\n",
    "    def CreateCircularLL(self,value):\n",
    "        node = Node(value)\n",
    "        self.head = node\n",
    "        self.tail = node\n",
    "        return \"CLL is created\"\n",
    "        \n",
    "    # insert in circular single linked list\n",
    "    def insertCSLL(self,value,location):\n",
    "        newNode = Node(value)\n",
    "        if self.head is None:\n",
    "            return \"head reference is None\"\n",
    "        else:\n",
    "            if location == 0:\n",
    "                newNode.next = self.head\n",
    "                self.head = newNode\n",
    "                self.tail.next = newNode\n",
    "            elif location == -1:\n",
    "                newNode.next = self.tail.next\n",
    "                self.tail.next = newNode\n",
    "                self.tail = newNode\n",
    "            else:\n",
    "                tempNode = self.head\n",
    "                index = 0\n",
    "                while index < location - 1:\n",
    "                    tempNode = tempNode.next\n",
    "                    index +=1\n",
    "                nextnode = tempNode.next\n",
    "                tempNode.next = newNode\n",
    "                newNode.next = nextnode\n",
    "            return \"Insertion is successfully completed\"\n",
    "\n",
    "    # traverse circular singly linked list\n",
    "    def traversal(self):\n",
    "        if self.head is None:\n",
    "            print(\"Single linked does't exsist\")\n",
    "        else:\n",
    "            node = self.head\n",
    "            while node:\n",
    "                print(node.value)\n",
    "                node = node.next\n",
    "                if node == self.tail.next:\n",
    "                    break\n",
    "\n",
    "    # find value from circular singly linked list\n",
    "    def findvalue(self,value):\n",
    "        if self.head is None:\n",
    "            return \"Circular Singly linked list does't exsist\"\n",
    "        else:\n",
    "            node = self.head\n",
    "            while node:\n",
    "                if node.value == value:\n",
    "                    return f'yes this value {node.value} is exsist.'\n",
    "                node = node.next\n",
    "                if node == self.tail.next:\n",
    "                    break\n",
    "            return \"values does not exsist\"\n",
    "\n",
    "    # delete node \n",
    "    def deletenode(self,location):\n",
    "        if self.head is None:\n",
    "            print(\"Singly linked list does't exsist\")\n",
    "        else:\n",
    "            if location == 0:\n",
    "                if self.head == self.tail:\n",
    "                    self.head = None\n",
    "                    self.tail = None\n",
    "                else:\n",
    "                    self.head = self.head.next\n",
    "                    self.tail.next = self.head\n",
    "            elif location == -1:\n",
    "                if self.head == self.tail:\n",
    "                    self.head = None\n",
    "                    self.tail = None\n",
    "                else:\n",
    "                    node = self.head\n",
    "                    while node:\n",
    "                        if node.next == self.tail:\n",
    "                            break\n",
    "                        node = node.next\n",
    "                    node.next = self.head\n",
    "                    self.tail = node\n",
    "            else:\n",
    "                tempNode = self.head\n",
    "                index = 0\n",
    "                while index < location -1:\n",
    "                    tempNode = tempNode.next\n",
    "                    index +=1\n",
    "                nextnode = tempNode.next\n",
    "                tempNode.next = nextnode.next\n",
    "\n",
    "    #delete entire CSLL\n",
    "    def deleteentireCSSL(self):\n",
    "        if self.head is None:\n",
    "            print(\"SLL does't exsist\")\n",
    "        else:\n",
    "            self.head = None\n",
    "            self.tail.next = None\n",
    "            self.tail = None"
   ]
  },
  {
   "cell_type": "code",
   "execution_count": 175,
   "id": "90718d96-26d7-49c4-9e0c-0aa270d56c88",
   "metadata": {},
   "outputs": [],
   "source": [
    "cirLL = CircularSlinkedList()"
   ]
  },
  {
   "cell_type": "code",
   "execution_count": 176,
   "id": "a32bd064-77fa-423c-9a38-05ae1fbbcbf0",
   "metadata": {},
   "outputs": [
    {
     "data": {
      "text/plain": [
       "'CLL is created'"
      ]
     },
     "execution_count": 176,
     "metadata": {},
     "output_type": "execute_result"
    }
   ],
   "source": [
    "cirLL.CreateCircularLL(1)"
   ]
  },
  {
   "cell_type": "code",
   "execution_count": 177,
   "id": "f4dfaed0-6951-464b-a22c-0c0994db59a1",
   "metadata": {},
   "outputs": [
    {
     "name": "stdout",
     "output_type": "stream",
     "text": [
      "[1]\n"
     ]
    }
   ],
   "source": [
    "print([node.value for node in cirLL])"
   ]
  },
  {
   "cell_type": "code",
   "execution_count": 178,
   "id": "a6ba529b-c667-49e3-ad14-e7ac7b190d15",
   "metadata": {},
   "outputs": [
    {
     "data": {
      "text/plain": [
       "'CLL is created'"
      ]
     },
     "execution_count": 178,
     "metadata": {},
     "output_type": "execute_result"
    }
   ],
   "source": [
    "cirLL.CreateCircularLL(5) # O(1) is time and space complexity"
   ]
  },
  {
   "cell_type": "code",
   "execution_count": 179,
   "id": "a6306efb-bb14-41c2-9e4f-751e76d803af",
   "metadata": {},
   "outputs": [
    {
     "name": "stdout",
     "output_type": "stream",
     "text": [
      "[5]\n"
     ]
    }
   ],
   "source": [
    "print([node.value for node in cirLL])"
   ]
  },
  {
   "cell_type": "code",
   "execution_count": 180,
   "id": "b84554f9-4c40-4e1c-b6fc-c1d4522a7036",
   "metadata": {},
   "outputs": [
    {
     "data": {
      "text/plain": [
       "'Insertion is successfully completed'"
      ]
     },
     "execution_count": 180,
     "metadata": {},
     "output_type": "execute_result"
    }
   ],
   "source": [
    "cirLL.insertCSLL(1,1)\n",
    "cirLL.insertCSLL(6,-1)\n",
    "cirLL.insertCSLL(1,-1)"
   ]
  },
  {
   "cell_type": "code",
   "execution_count": 181,
   "id": "6b252e55-86a7-4ae2-b94a-5cd2dd3d9069",
   "metadata": {},
   "outputs": [
    {
     "name": "stdout",
     "output_type": "stream",
     "text": [
      "[5, 6, 1, 1]\n"
     ]
    }
   ],
   "source": [
    "print([node.value for node in cirLL])"
   ]
  },
  {
   "cell_type": "code",
   "execution_count": 182,
   "id": "8daea7f9-c666-47ab-9da3-d9e43f458195",
   "metadata": {},
   "outputs": [
    {
     "data": {
      "text/plain": [
       "'Insertion is successfully completed'"
      ]
     },
     "execution_count": 182,
     "metadata": {},
     "output_type": "execute_result"
    }
   ],
   "source": [
    "cirLL.insertCSLL(0,0)"
   ]
  },
  {
   "cell_type": "code",
   "execution_count": 183,
   "id": "be60196c-e927-42f9-8c0b-a229c188b2ad",
   "metadata": {},
   "outputs": [
    {
     "name": "stdout",
     "output_type": "stream",
     "text": [
      "[0, 5, 6, 1]\n"
     ]
    }
   ],
   "source": [
    "print([node.value for node in cirLL])"
   ]
  },
  {
   "cell_type": "code",
   "execution_count": 184,
   "id": "cff13e44-7c00-4200-8aaa-55f88b6daf87",
   "metadata": {},
   "outputs": [
    {
     "data": {
      "text/plain": [
       "'Insertion is successfully completed'"
      ]
     },
     "execution_count": 184,
     "metadata": {},
     "output_type": "execute_result"
    }
   ],
   "source": [
    "cirLL.insertCSLL(56,2) # time complexity is O(n) but space complexity is O(1)"
   ]
  },
  {
   "cell_type": "code",
   "execution_count": 185,
   "id": "4eadd4b2-f80e-4acb-ae28-7000d62b3de6",
   "metadata": {},
   "outputs": [
    {
     "name": "stdout",
     "output_type": "stream",
     "text": [
      "[0, 5, 56, 6, 1]\n"
     ]
    }
   ],
   "source": [
    "print([node.value for node in cirLL])"
   ]
  },
  {
   "cell_type": "code",
   "execution_count": 186,
   "id": "ccdcec9b-c207-4f74-810f-24c269d17af0",
   "metadata": {},
   "outputs": [
    {
     "name": "stdout",
     "output_type": "stream",
     "text": [
      "0\n",
      "5\n",
      "56\n",
      "6\n",
      "1\n"
     ]
    }
   ],
   "source": [
    "cirLL.traversal() # time complexity is O(n) and space complexity is O(1)"
   ]
  },
  {
   "cell_type": "code",
   "execution_count": 187,
   "id": "cf60f4e5-8a72-4d56-96f9-0328a18cd684",
   "metadata": {},
   "outputs": [
    {
     "data": {
      "text/plain": [
       "'yes this value 1 is exsist.'"
      ]
     },
     "execution_count": 187,
     "metadata": {},
     "output_type": "execute_result"
    }
   ],
   "source": [
    "cirLL.findvalue(1) # time complexity is O(n) and space complexity is O(1)"
   ]
  },
  {
   "cell_type": "code",
   "execution_count": 188,
   "id": "434cb468-1c43-4305-bb0b-d7e74bd06b35",
   "metadata": {},
   "outputs": [
    {
     "name": "stdout",
     "output_type": "stream",
     "text": [
      "[0, 5, 56, 6, 1]\n"
     ]
    }
   ],
   "source": [
    "print([node.value for node in cirLL])"
   ]
  },
  {
   "cell_type": "code",
   "execution_count": 189,
   "id": "c7da6d2f-252c-4752-b200-d9953cdcc22b",
   "metadata": {},
   "outputs": [],
   "source": [
    "cirLL.deletenode(0) # time complexity is O(1)"
   ]
  },
  {
   "cell_type": "code",
   "execution_count": 190,
   "id": "1094efcc-ff2a-45b2-b887-e4d684c187dc",
   "metadata": {},
   "outputs": [
    {
     "name": "stdout",
     "output_type": "stream",
     "text": [
      "[5, 56, 6, 1]\n"
     ]
    }
   ],
   "source": [
    "print([node.value for node in cirLL])"
   ]
  },
  {
   "cell_type": "code",
   "execution_count": 191,
   "id": "3e1e1dc2-e326-490c-ad54-1d2bae7c1bac",
   "metadata": {},
   "outputs": [],
   "source": [
    "cirLL.deletenode(-1) # time complexity is O(1)"
   ]
  },
  {
   "cell_type": "code",
   "execution_count": 192,
   "id": "b0ded3b3-0972-4743-a76f-2a8fe8b9bba0",
   "metadata": {},
   "outputs": [
    {
     "name": "stdout",
     "output_type": "stream",
     "text": [
      "[5, 56, 6]\n"
     ]
    }
   ],
   "source": [
    "print([node.value for node in cirLL])"
   ]
  },
  {
   "cell_type": "code",
   "execution_count": 193,
   "id": "b0f17067-ef8a-48e0-85d1-a35509c28504",
   "metadata": {},
   "outputs": [],
   "source": [
    "cirLL.deletenode(1) # time complexity if this O(n)"
   ]
  },
  {
   "cell_type": "code",
   "execution_count": 194,
   "id": "17452dc8-04f0-485c-af6e-cc2a6c76adc8",
   "metadata": {},
   "outputs": [
    {
     "name": "stdout",
     "output_type": "stream",
     "text": [
      "[5, 6]\n"
     ]
    }
   ],
   "source": [
    "print([node.value for node in cirLL])"
   ]
  },
  {
   "cell_type": "code",
   "execution_count": 197,
   "id": "e34c49e5-9a2f-434c-a79a-0cc3cc17140f",
   "metadata": {},
   "outputs": [
    {
     "name": "stdout",
     "output_type": "stream",
     "text": [
      "SLL does't exsist\n"
     ]
    }
   ],
   "source": [
    "cirLL.deleteentireCSSL() # time complexity is O(1)"
   ]
  },
  {
   "cell_type": "code",
   "execution_count": 198,
   "id": "4536877c-0278-4010-bae1-65937a6cf399",
   "metadata": {},
   "outputs": [
    {
     "name": "stdout",
     "output_type": "stream",
     "text": [
      "[]\n"
     ]
    }
   ],
   "source": [
    "print([node.value for node in cirLL])"
   ]
  },
  {
   "cell_type": "code",
   "execution_count": null,
   "id": "044c645c-6113-41a8-a914-8d93d95e781c",
   "metadata": {},
   "outputs": [],
   "source": []
  },
  {
   "cell_type": "code",
   "execution_count": null,
   "id": "34b58296-8281-4f38-9bde-a777c5280dc8",
   "metadata": {},
   "outputs": [],
   "source": []
  }
 ],
 "metadata": {
  "kernelspec": {
   "display_name": "Python 3 (ipykernel)",
   "language": "python",
   "name": "python3"
  },
  "language_info": {
   "codemirror_mode": {
    "name": "ipython",
    "version": 3
   },
   "file_extension": ".py",
   "mimetype": "text/x-python",
   "name": "python",
   "nbconvert_exporter": "python",
   "pygments_lexer": "ipython3",
   "version": "3.10.7"
  }
 },
 "nbformat": 4,
 "nbformat_minor": 5
}
