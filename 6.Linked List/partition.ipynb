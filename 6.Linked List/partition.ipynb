{
 "cells": [
  {
   "cell_type": "markdown",
   "id": "d4d516ca-2602-4464-869f-4d4067ff31ec",
   "metadata": {},
   "source": [
    "## write code to partition a linked list around a value x, such that all nodes less then x come before all nodes greater then or qeual to x."
   ]
  },
  {
   "cell_type": "code",
   "execution_count": 25,
   "id": "0206a918-081b-4c1c-a3bc-8f0c1551cc7b",
   "metadata": {},
   "outputs": [],
   "source": [
    "class Node:\n",
    "    def __init__(self, value):\n",
    "        self.value = value\n",
    "        self.next = None\n",
    "\n",
    "class SlinkedList:\n",
    "    def __init__(self):\n",
    "        self.head = None\n",
    "        self.tail = None\n",
    "\n",
    "    def __iter__(self):\n",
    "        node = self.head\n",
    "        while node:\n",
    "            yield node\n",
    "            node = node.next\n",
    "\n",
    "    def insertSLL(self, value, location):\n",
    "        newNode = Node(value)\n",
    "        if self.head is None:\n",
    "            self.head = newNode\n",
    "            self.tail = newNode\n",
    "        else:\n",
    "            if location == 0:\n",
    "                newNode.next = self.head\n",
    "                self.head = newNode\n",
    "            elif location == -1:\n",
    "                newNode.next = None\n",
    "                self.tail.next = newNode\n",
    "                self.tail = newNode\n",
    "            else:\n",
    "                tempNode = self.head\n",
    "                index = 0\n",
    "                while index < location - 1:\n",
    "                    tempNode = tempNode.next\n",
    "                    index += 1\n",
    "                nextnode = tempNode.next\n",
    "                tempNode.next = newNode\n",
    "                newNode.next = nextnode\n",
    "\n",
    "    # find nth from last\n",
    "    def partitaion(self,x):\n",
    "        curNode = self.head\n",
    "        self.tail = self.head\n",
    "\n",
    "        while curNode:\n",
    "            nextNode = curNode.next\n",
    "            curNode.next = None\n",
    "            if x > curNode.value:\n",
    "                curNode.next = self.head\n",
    "                self.head = curNode\n",
    "            else:\n",
    "                self.tail.next = curNode\n",
    "                self.tail = curNode\n",
    "\n",
    "            curNode = nextNode\n",
    "            \n",
    "        if self.tail.next is not None:\n",
    "            self.tail = None\n",
    "\n",
    "        return \"partitaion is completed\""
   ]
  },
  {
   "cell_type": "code",
   "execution_count": 26,
   "id": "490d858a-e3e9-4023-8337-356655a69807",
   "metadata": {},
   "outputs": [
    {
     "name": "stdout",
     "output_type": "stream",
     "text": [
      "[9, 6, 1, 5, 2, 3]\n"
     ]
    }
   ],
   "source": [
    "SLL =SlinkedList()\n",
    "SLL.insertSLL(5,0)\n",
    "SLL.insertSLL(2,-1)\n",
    "SLL.insertSLL(1,0)\n",
    "SLL.insertSLL(6,0)\n",
    "SLL.insertSLL(9,0)\n",
    "SLL.insertSLL(3,-1)\n",
    "print([node.value for node in SLL])"
   ]
  },
  {
   "cell_type": "code",
   "execution_count": 31,
   "id": "0f879a6c-7a09-4ceb-8971-079a57eefb46",
   "metadata": {},
   "outputs": [
    {
     "data": {
      "text/plain": [
       "'partitaion is completed'"
      ]
     },
     "execution_count": 31,
     "metadata": {},
     "output_type": "execute_result"
    }
   ],
   "source": [
    "SLL.partitaion(5) # time complexity is O(n) and space complexity is O(1)"
   ]
  },
  {
   "cell_type": "code",
   "execution_count": 32,
   "id": "984c32b1-b271-4bdc-bca3-af17c12158ae",
   "metadata": {},
   "outputs": [
    {
     "name": "stdout",
     "output_type": "stream",
     "text": [
      "[2, 1, 3, 9, 6, 5]\n"
     ]
    }
   ],
   "source": [
    "print([node.value for node in SLL])"
   ]
  },
  {
   "cell_type": "code",
   "execution_count": 35,
   "id": "bbb83b91-220e-4e45-8761-fd6b8804494a",
   "metadata": {},
   "outputs": [
    {
     "name": "stdout",
     "output_type": "stream",
     "text": [
      "7\n",
      "7\n",
      "7\n"
     ]
    }
   ],
   "source": [
    "for _ in range(3):\n",
    "    print(7)"
   ]
  },
  {
   "cell_type": "code",
   "execution_count": 39,
   "id": "4305df4f-7447-46cc-96e5-c30f19ee7a55",
   "metadata": {},
   "outputs": [
    {
     "name": "stdout",
     "output_type": "stream",
     "text": [
      "6\n"
     ]
    }
   ],
   "source": [
    "import math\n",
    "\n",
    "result = 11/2\n",
    "rounded_up = math.ceil(result)\n",
    "\n",
    "print(rounded_up)"
   ]
  },
  {
   "cell_type": "code",
   "execution_count": 49,
   "id": "23103db0-f3cf-4dbd-9f4f-70fd55a226cd",
   "metadata": {},
   "outputs": [],
   "source": [
    "def findMid(head):\n",
    "    # Code here\n",
    "    result = 5/2\n",
    "    rounded_up = math.ceil(result)\n",
    "    i = 0\n",
    "    for _ in range(rounded_up):\n",
    "        i +=1\n",
    "        print(i)\n",
    "    return head[i]"
   ]
  },
  {
   "cell_type": "code",
   "execution_count": 50,
   "id": "4338b944-2281-4fba-9b8d-e2f0a3becad5",
   "metadata": {},
   "outputs": [
    {
     "name": "stdout",
     "output_type": "stream",
     "text": [
      "1\n",
      "2\n",
      "3\n"
     ]
    },
    {
     "data": {
      "text/plain": [
       "5"
      ]
     },
     "execution_count": 50,
     "metadata": {},
     "output_type": "execute_result"
    }
   ],
   "source": [
    "findMid([3,4,2,5,2])"
   ]
  },
  {
   "cell_type": "code",
   "execution_count": null,
   "id": "7460de78-bbf2-42b6-b0da-23e715089fce",
   "metadata": {},
   "outputs": [],
   "source": []
  }
 ],
 "metadata": {
  "kernelspec": {
   "display_name": "Python 3 (ipykernel)",
   "language": "python",
   "name": "python3"
  },
  "language_info": {
   "codemirror_mode": {
    "name": "ipython",
    "version": 3
   },
   "file_extension": ".py",
   "mimetype": "text/x-python",
   "name": "python",
   "nbconvert_exporter": "python",
   "pygments_lexer": "ipython3",
   "version": "3.10.7"
  }
 },
 "nbformat": 4,
 "nbformat_minor": 5
}
