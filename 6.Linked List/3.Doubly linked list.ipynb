{
 "cells": [
  {
   "cell_type": "code",
   "execution_count": 112,
   "id": "d8f33017-a02b-40e0-aeb4-e49432299b69",
   "metadata": {},
   "outputs": [],
   "source": [
    "class Node:\n",
    "    def __init__(self,value=None):\n",
    "        self.value = value\n",
    "        self.next = None\n",
    "        self.prev = None\n",
    "\n",
    "class DounblyLinkedList:\n",
    "    def __init__(self):\n",
    "        self.head = None\n",
    "        self.tail = None\n",
    "\n",
    "    def __iter__(self):\n",
    "        node = self.head\n",
    "        while node:\n",
    "            yield node\n",
    "            node = node.next\n",
    "\n",
    "    # create doubly linked list\n",
    "    def createdoublyLL(self,value):\n",
    "        node = Node(value)\n",
    "        node.prev = None\n",
    "        node.next = None\n",
    "        self.head = node\n",
    "        self.tail = node\n",
    "        return \"Linked list is created\"\n",
    "\n",
    "    #insert node in DLL\n",
    "    def insert(self,value,location):\n",
    "        newNode = Node(value)\n",
    "        if self.head is None:\n",
    "            self.head = newNode\n",
    "            self.tail = newNode\n",
    "            self.next = None\n",
    "            self.prev = None\n",
    "        else:\n",
    "            if location == 0:\n",
    "                newNode.prev = None\n",
    "                newNode.next = self.head\n",
    "                self.head.prev = newNode\n",
    "                self.head = newNode\n",
    "                \n",
    "            elif location == -1:\n",
    "                newNode.next = None\n",
    "                newNode.prev = self.tail\n",
    "                self.tail.next = newNode\n",
    "                self.tail = newNode\n",
    "            else:\n",
    "                tempNode = self.head\n",
    "                index = 0\n",
    "                while index < location - 1:\n",
    "                    tempNode = tempNode.next\n",
    "                    index +=1\n",
    "                newNode.next = tempNode.next\n",
    "                newNode.next.prev = newNode\n",
    "                tempNode.next = newNode\n",
    "                newNode.prev = tempNode\n",
    "        return \"value is inserted\"\n",
    "\n",
    "    # traverse Doubly linked list\n",
    "    def traversal(self):\n",
    "        if self.head is None:\n",
    "            print(\"Doubly linked does't exsist\")\n",
    "        else:\n",
    "            node = self.head\n",
    "            while node:\n",
    "                print(node.value)\n",
    "                node = node.next\n",
    "\n",
    "    # Reverse traverse Doubly linked list\n",
    "    def Reversetraversal(self):\n",
    "        if self.head is None:\n",
    "            print(\"Doubly linked does't exsist\")\n",
    "        else:\n",
    "            node = self.tail\n",
    "            while node:\n",
    "                print(node.value)\n",
    "                node = node.prev\n",
    "\n",
    "    # find value from Doubly linked list\n",
    "    def findvalue(self,value):\n",
    "        if self.head is None:\n",
    "            return \"Circular Singly linked list does't exsist\"\n",
    "        else:\n",
    "            node = self.head\n",
    "            while node:\n",
    "                if node.value == value:\n",
    "                    return f'yes this value {node.value} is exsist.'\n",
    "                node = node.next\n",
    "            return \"values does not exsist\"\n",
    "\n",
    "    # delete node \n",
    "    def deletenode(self,location):\n",
    "        if self.head is None:\n",
    "            print(\"Singly linked list does't exsist\")\n",
    "        else:\n",
    "            if location == 0:\n",
    "                if self.head == self.tail:\n",
    "                    self.head = None\n",
    "                    self.tail = None\n",
    "                else:\n",
    "                    self.head.next.prev = None\n",
    "                    self.head = self.head.next\n",
    "            elif location == -1:\n",
    "                if self.head == self.tail:\n",
    "                    self.head = None\n",
    "                    self.tail = None\n",
    "                else:\n",
    "                    self.tail.prev.next = None\n",
    "                    self.tail = self.tail.prev\n",
    "            else:\n",
    "                tempNode = self.head\n",
    "                index = 0\n",
    "                while index < location -1:\n",
    "                    tempNode = tempNode.next\n",
    "                    index +=1\n",
    "                tempNode.next.next.prev = tempNode\n",
    "                tempNode.next = tempNode.next.next\n",
    "\n",
    "        return \"Element is deleted\"\n",
    "\n",
    "    #delete entire DLL\n",
    "    def deleteentireLL(self):\n",
    "        if self.head is None:\n",
    "            print(\"SLL does't exsist\")\n",
    "        else:\n",
    "            self.head = None\n",
    "            self.tail = None\n",
    "\n",
    "        return \"Linked List is deleted\""
   ]
  },
  {
   "cell_type": "code",
   "execution_count": 113,
   "id": "696fb829-1a8b-4062-9c4c-efd150e14b91",
   "metadata": {},
   "outputs": [],
   "source": [
    "DLL = DounblyLinkedList()"
   ]
  },
  {
   "cell_type": "code",
   "execution_count": 114,
   "id": "eacfaf2c-ffd8-45a2-8c57-7bd52aff6a70",
   "metadata": {},
   "outputs": [
    {
     "data": {
      "text/plain": [
       "'Linked list is created'"
      ]
     },
     "execution_count": 114,
     "metadata": {},
     "output_type": "execute_result"
    }
   ],
   "source": [
    "DLL.createdoublyLL(5) # Time and space complexity is O(1)"
   ]
  },
  {
   "cell_type": "code",
   "execution_count": 115,
   "id": "b98b94dd-4497-454c-8168-9b624d2c7bfd",
   "metadata": {},
   "outputs": [
    {
     "name": "stdout",
     "output_type": "stream",
     "text": [
      "[5]\n"
     ]
    }
   ],
   "source": [
    "print([node.value for node in DLL])"
   ]
  },
  {
   "cell_type": "code",
   "execution_count": 116,
   "id": "1a52de56-bee2-4ff5-980b-57df5c8bc120",
   "metadata": {},
   "outputs": [
    {
     "data": {
      "text/plain": [
       "'value is inserted'"
      ]
     },
     "execution_count": 116,
     "metadata": {},
     "output_type": "execute_result"
    }
   ],
   "source": [
    "DLL.insert(7,0) # time and space complexity is O(1)"
   ]
  },
  {
   "cell_type": "code",
   "execution_count": 117,
   "id": "063284a9-f133-4be4-8870-35c1121b1b35",
   "metadata": {},
   "outputs": [
    {
     "name": "stdout",
     "output_type": "stream",
     "text": [
      "[7, 5]\n"
     ]
    }
   ],
   "source": [
    "print([node.value for node in DLL])"
   ]
  },
  {
   "cell_type": "code",
   "execution_count": 118,
   "id": "a09bc46c-d173-4362-b3f0-977f59102ca2",
   "metadata": {},
   "outputs": [
    {
     "data": {
      "text/plain": [
       "'value is inserted'"
      ]
     },
     "execution_count": 118,
     "metadata": {},
     "output_type": "execute_result"
    }
   ],
   "source": [
    "DLL.insert(2,-1) # time and space complexity is O(1)"
   ]
  },
  {
   "cell_type": "code",
   "execution_count": 119,
   "id": "a1bae556-9cca-4fdb-a9d9-6abaec400caf",
   "metadata": {},
   "outputs": [
    {
     "name": "stdout",
     "output_type": "stream",
     "text": [
      "[7, 5, 2]\n"
     ]
    }
   ],
   "source": [
    "print([node.value for node in DLL])"
   ]
  },
  {
   "cell_type": "code",
   "execution_count": 120,
   "id": "7f275c7f-db86-4549-8584-db8d2335dd0f",
   "metadata": {},
   "outputs": [
    {
     "data": {
      "text/plain": [
       "'value is inserted'"
      ]
     },
     "execution_count": 120,
     "metadata": {},
     "output_type": "execute_result"
    }
   ],
   "source": [
    "DLL.insert(9,2) # time and space complexity is O(n)"
   ]
  },
  {
   "cell_type": "code",
   "execution_count": 121,
   "id": "38ca9b0b-e4db-4900-b991-4cbd1463353d",
   "metadata": {},
   "outputs": [
    {
     "name": "stdout",
     "output_type": "stream",
     "text": [
      "[7, 5, 9, 2]\n"
     ]
    }
   ],
   "source": [
    "print([node.value for node in DLL])"
   ]
  },
  {
   "cell_type": "code",
   "execution_count": 122,
   "id": "7d6e591f-9797-4d79-913a-57305e90ead2",
   "metadata": {},
   "outputs": [
    {
     "name": "stdout",
     "output_type": "stream",
     "text": [
      "7\n",
      "5\n",
      "9\n",
      "2\n"
     ]
    }
   ],
   "source": [
    "DLL.traversal() # time complexity is O(n)"
   ]
  },
  {
   "cell_type": "code",
   "execution_count": 123,
   "id": "14fb27bd-5c80-4735-b133-8ace99e417be",
   "metadata": {},
   "outputs": [
    {
     "name": "stdout",
     "output_type": "stream",
     "text": [
      "2\n",
      "9\n",
      "5\n",
      "7\n"
     ]
    }
   ],
   "source": [
    "DLL.Reversetraversal() # time complezity is O(n)"
   ]
  },
  {
   "cell_type": "code",
   "execution_count": 124,
   "id": "3f0b700d-66e0-46f4-b590-7b7be662f72f",
   "metadata": {},
   "outputs": [
    {
     "data": {
      "text/plain": [
       "'yes this value 7 is exsist.'"
      ]
     },
     "execution_count": 124,
     "metadata": {},
     "output_type": "execute_result"
    }
   ],
   "source": [
    "DLL.findvalue(7) # time complexity is O(n)"
   ]
  },
  {
   "cell_type": "code",
   "execution_count": 125,
   "id": "5d2a4005-6241-4d01-926c-8a4a276b2cb6",
   "metadata": {},
   "outputs": [
    {
     "data": {
      "text/plain": [
       "'values does not exsist'"
      ]
     },
     "execution_count": 125,
     "metadata": {},
     "output_type": "execute_result"
    }
   ],
   "source": [
    "DLL.findvalue(10)"
   ]
  },
  {
   "cell_type": "code",
   "execution_count": 126,
   "id": "b6ab1363-062d-4c44-a4d3-7aecc8c8d521",
   "metadata": {},
   "outputs": [
    {
     "name": "stdout",
     "output_type": "stream",
     "text": [
      "[7, 5, 8, 3, 4, 9, 2]\n"
     ]
    }
   ],
   "source": [
    "DLL.insert(4,2)\n",
    "DLL.insert(3,2)\n",
    "DLL.insert(8,2)\n",
    "print([node.value for node in DLL])"
   ]
  },
  {
   "cell_type": "code",
   "execution_count": null,
   "id": "be7a3de8-1df0-4c1b-bcf3-c16891ada177",
   "metadata": {},
   "outputs": [],
   "source": []
  },
  {
   "cell_type": "code",
   "execution_count": 127,
   "id": "0de9cf4f-bfe2-4ffb-9d43-f16b78e88ae4",
   "metadata": {},
   "outputs": [
    {
     "data": {
      "text/plain": [
       "'Element is deleted'"
      ]
     },
     "execution_count": 127,
     "metadata": {},
     "output_type": "execute_result"
    }
   ],
   "source": [
    "DLL.deletenode(0) # time complexity is O(1)"
   ]
  },
  {
   "cell_type": "code",
   "execution_count": 128,
   "id": "b96a5ab0-c27e-4f58-9ed8-f5b75214c5ef",
   "metadata": {},
   "outputs": [
    {
     "name": "stdout",
     "output_type": "stream",
     "text": [
      "[5, 8, 3, 4, 9, 2]\n"
     ]
    }
   ],
   "source": [
    "print([node.value for node in DLL])"
   ]
  },
  {
   "cell_type": "code",
   "execution_count": 129,
   "id": "c4450c7c-8226-4b6b-9958-f34cebb871f7",
   "metadata": {},
   "outputs": [
    {
     "data": {
      "text/plain": [
       "'Element is deleted'"
      ]
     },
     "execution_count": 129,
     "metadata": {},
     "output_type": "execute_result"
    }
   ],
   "source": [
    "DLL.deletenode(-1) # time complexity is O(1)"
   ]
  },
  {
   "cell_type": "code",
   "execution_count": 130,
   "id": "2dc960c2-bf7e-4c7a-b265-6a7ead488436",
   "metadata": {},
   "outputs": [
    {
     "name": "stdout",
     "output_type": "stream",
     "text": [
      "[5, 8, 3, 4, 9]\n"
     ]
    }
   ],
   "source": [
    "print([node.value for node in DLL])"
   ]
  },
  {
   "cell_type": "code",
   "execution_count": 131,
   "id": "c2ba40ac-46d2-4502-9e87-e3fcf43d4f1d",
   "metadata": {},
   "outputs": [
    {
     "data": {
      "text/plain": [
       "'Element is deleted'"
      ]
     },
     "execution_count": 131,
     "metadata": {},
     "output_type": "execute_result"
    }
   ],
   "source": [
    "DLL.deletenode(2) # time complexity is O(n)"
   ]
  },
  {
   "cell_type": "code",
   "execution_count": 132,
   "id": "d70040e0-7f7c-4d3e-ae00-44079fad7989",
   "metadata": {},
   "outputs": [
    {
     "name": "stdout",
     "output_type": "stream",
     "text": [
      "[5, 8, 4, 9]\n"
     ]
    }
   ],
   "source": [
    "print([node.value for node in DLL])"
   ]
  },
  {
   "cell_type": "code",
   "execution_count": 133,
   "id": "492250e7-0db2-4bfc-8f99-c7f7d86bc32b",
   "metadata": {},
   "outputs": [
    {
     "data": {
      "text/plain": [
       "'Linked List is deleted'"
      ]
     },
     "execution_count": 133,
     "metadata": {},
     "output_type": "execute_result"
    }
   ],
   "source": [
    "DLL.deleteentireLL() # time complexity is O(1)"
   ]
  },
  {
   "cell_type": "code",
   "execution_count": 134,
   "id": "682220ac-bcdc-4e9d-acfa-287d72ec69ef",
   "metadata": {},
   "outputs": [
    {
     "name": "stdout",
     "output_type": "stream",
     "text": [
      "[]\n"
     ]
    }
   ],
   "source": [
    "print([node.value for node in DLL])"
   ]
  },
  {
   "cell_type": "code",
   "execution_count": null,
   "id": "dfe276df-8807-4ed4-9c27-00a8dcf3c960",
   "metadata": {},
   "outputs": [],
   "source": []
  }
 ],
 "metadata": {
  "kernelspec": {
   "display_name": "Python 3 (ipykernel)",
   "language": "python",
   "name": "python3"
  },
  "language_info": {
   "codemirror_mode": {
    "name": "ipython",
    "version": 3
   },
   "file_extension": ".py",
   "mimetype": "text/x-python",
   "name": "python",
   "nbconvert_exporter": "python",
   "pygments_lexer": "ipython3",
   "version": "3.10.7"
  }
 },
 "nbformat": 4,
 "nbformat_minor": 5
}
