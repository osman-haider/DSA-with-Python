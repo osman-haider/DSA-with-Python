{
 "cells": [
  {
   "cell_type": "code",
   "execution_count": 1,
   "id": "17c4648e-028f-4725-816d-a61e921cc264",
   "metadata": {},
   "outputs": [],
   "source": [
    "def selectionSort(customList): # time complexity is O(n^2) and space complexity is O(1)\n",
    "    for i in range(len(customList)):\n",
    "        min_index = i\n",
    "        for j in range(i+1, len(customList)):\n",
    "            if customList[min_index] > customList[j]:\n",
    "                min_index = j\n",
    "        customList[i], customList[min_index] = customList[min_index], customList[i]\n",
    "    print(customList)"
   ]
  },
  {
   "cell_type": "code",
   "execution_count": 2,
   "id": "28f8af14-9b97-4aff-9a0c-e78dd2c2f264",
   "metadata": {},
   "outputs": [],
   "source": [
    "list = [9,5,2,6,3,4,1]"
   ]
  },
  {
   "cell_type": "code",
   "execution_count": 3,
   "id": "25c5668a-cd9b-4996-a1fd-31765b4cf892",
   "metadata": {},
   "outputs": [
    {
     "name": "stdout",
     "output_type": "stream",
     "text": [
      "[1, 2, 3, 4, 5, 6, 9]\n"
     ]
    }
   ],
   "source": [
    "selectionSort(list)"
   ]
  },
  {
   "cell_type": "code",
   "execution_count": null,
   "id": "a9cdc51a-a455-467e-ae4e-47975aedcd35",
   "metadata": {},
   "outputs": [],
   "source": []
  }
 ],
 "metadata": {
  "kernelspec": {
   "display_name": "Python 3 (ipykernel)",
   "language": "python",
   "name": "python3"
  },
  "language_info": {
   "codemirror_mode": {
    "name": "ipython",
    "version": 3
   },
   "file_extension": ".py",
   "mimetype": "text/x-python",
   "name": "python",
   "nbconvert_exporter": "python",
   "pygments_lexer": "ipython3",
   "version": "3.10.7"
  }
 },
 "nbformat": 4,
 "nbformat_minor": 5
}
