{
 "cells": [
  {
   "cell_type": "code",
   "execution_count": 2,
   "id": "ece2983c-300d-44b3-82c0-2143eb819eee",
   "metadata": {},
   "outputs": [],
   "source": [
    "def bubbleSort(customList): # time complexity is O(n^2) and space complexity is O(1)\n",
    "    for i in range(len(customList)-1):\n",
    "        for j in range(len(customList)-i-1):\n",
    "            if customList[j] > customList[j+1]:\n",
    "                customList[j], customList[j+1] = customList[j+1], customList[j]\n",
    "    print(customList)"
   ]
  },
  {
   "cell_type": "code",
   "execution_count": 3,
   "id": "6290201f-e7b7-45e2-a57e-144549c1850d",
   "metadata": {},
   "outputs": [],
   "source": [
    "list = [9,5,2,6,3,4,1]"
   ]
  },
  {
   "cell_type": "code",
   "execution_count": 4,
   "id": "536f378d-6af1-40a4-9c99-bdc571b9fa03",
   "metadata": {},
   "outputs": [
    {
     "name": "stdout",
     "output_type": "stream",
     "text": [
      "[1, 2, 3, 4, 5, 6, 9]\n"
     ]
    }
   ],
   "source": [
    "bubbleSort(list)"
   ]
  },
  {
   "cell_type": "code",
   "execution_count": null,
   "id": "3bf51c46-2072-40aa-8b2d-9443f62ef7c1",
   "metadata": {},
   "outputs": [],
   "source": []
  }
 ],
 "metadata": {
  "kernelspec": {
   "display_name": "Python 3 (ipykernel)",
   "language": "python",
   "name": "python3"
  },
  "language_info": {
   "codemirror_mode": {
    "name": "ipython",
    "version": 3
   },
   "file_extension": ".py",
   "mimetype": "text/x-python",
   "name": "python",
   "nbconvert_exporter": "python",
   "pygments_lexer": "ipython3",
   "version": "3.10.7"
  }
 },
 "nbformat": 4,
 "nbformat_minor": 5
}
