{
 "cells": [
  {
   "cell_type": "code",
   "execution_count": 1,
   "id": "76938a6a-58cd-40eb-ab4e-5c53ac5602a0",
   "metadata": {},
   "outputs": [],
   "source": [
    "import math"
   ]
  },
  {
   "cell_type": "code",
   "execution_count": 3,
   "id": "5110b104-a22a-42ae-9b02-d2ac791387e8",
   "metadata": {},
   "outputs": [],
   "source": [
    "def insertionSort(customList): # time complexity is O(n^2) and space complexity is O(1)\n",
    "    for i in range(1, len(customList)):\n",
    "        key = customList[i]\n",
    "        j = i-1\n",
    "        while j>=0 and key < customList[j]:\n",
    "            customList[j+1] = customList[j]\n",
    "            j -= 1\n",
    "        customList[j+1] = key\n",
    "    return customList"
   ]
  },
  {
   "cell_type": "code",
   "execution_count": 5,
   "id": "9ed2013c-c4a3-45ab-976e-1613f58f9e20",
   "metadata": {},
   "outputs": [],
   "source": [
    "def bucketSort(customList): # time complexity is O(n^2) and space complexity is O(N)\n",
    "    numberofBuckets = round(math.sqrt(len(customList)))\n",
    "    maxValue = max(customList)\n",
    "    arr = []\n",
    "\n",
    "    for i in range(numberofBuckets):\n",
    "        arr.append([])\n",
    "    for j in customList:\n",
    "        index_b = math.ceil(j*numberofBuckets/maxValue)\n",
    "        arr[index_b-1].append(j)\n",
    "    \n",
    "    for i in range(numberofBuckets):\n",
    "        arr[i] = insertionSort(arr[i])\n",
    "    \n",
    "    k = 0\n",
    "    for i in range(numberofBuckets):\n",
    "        for j in range(len(arr[i])):\n",
    "            customList[k] = arr[i][j]\n",
    "            k += 1\n",
    "    return customList"
   ]
  },
  {
   "cell_type": "code",
   "execution_count": 4,
   "id": "45a574af-53b7-4d55-838c-418451752f76",
   "metadata": {},
   "outputs": [
    {
     "data": {
      "text/plain": [
       "[1, 2, 3, 4, 5, 6, 9]"
      ]
     },
     "execution_count": 4,
     "metadata": {},
     "output_type": "execute_result"
    }
   ],
   "source": [
    "list = [9,5,2,6,3,4,1]\n",
    "bucketSort(list)"
   ]
  },
  {
   "cell_type": "code",
   "execution_count": null,
   "id": "d09a2a08-2bb4-444c-ae0e-1b77d07dd3aa",
   "metadata": {},
   "outputs": [],
   "source": []
  }
 ],
 "metadata": {
  "kernelspec": {
   "display_name": "Python 3 (ipykernel)",
   "language": "python",
   "name": "python3"
  },
  "language_info": {
   "codemirror_mode": {
    "name": "ipython",
    "version": 3
   },
   "file_extension": ".py",
   "mimetype": "text/x-python",
   "name": "python",
   "nbconvert_exporter": "python",
   "pygments_lexer": "ipython3",
   "version": "3.10.7"
  }
 },
 "nbformat": 4,
 "nbformat_minor": 5
}
