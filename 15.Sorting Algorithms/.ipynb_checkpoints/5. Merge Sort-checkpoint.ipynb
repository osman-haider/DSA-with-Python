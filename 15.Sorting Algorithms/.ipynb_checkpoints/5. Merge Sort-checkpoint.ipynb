{
 "cells": [
  {
   "cell_type": "code",
   "execution_count": 17,
   "id": "e1ec1f3e-712e-4488-8d2a-6c7a043ef516",
   "metadata": {},
   "outputs": [],
   "source": [
    "def merge_sort(arr): # time complexity is O(NlogN) and space complexity is O(N)\n",
    "    if len(arr) > 1:\n",
    "        left_arr = arr[:len(arr)//2]\n",
    "        right_arr = arr[len(arr)//2:]\n",
    "\n",
    "        # recursion \n",
    "        merge_sort(left_arr)\n",
    "        merge_sort(right_arr)\n",
    "\n",
    "        # merge\n",
    "        i = 0 # left index\n",
    "        j = 0 # right index\n",
    "        k = 0 # merge array index\n",
    "        while i < len(left_arr) and j < len(right_arr):\n",
    "            if left_arr[i] < right_arr[j]:\n",
    "                arr[k] = left_arr[i]\n",
    "                i +=1\n",
    "            else:\n",
    "                arr[k] = right_arr[j]\n",
    "                j +=1\n",
    "            k +=1\n",
    "\n",
    "        while i < len(left_arr):\n",
    "            arr[k] = left_arr[i]\n",
    "            i +=1\n",
    "            k +=1\n",
    "        while j < len(right_arr):\n",
    "            arr[k] = right_arr[j]\n",
    "            j +=1\n",
    "            k +=1\n",
    "\n",
    "        print(arr)"
   ]
  },
  {
   "cell_type": "code",
   "execution_count": 15,
   "id": "08804b70-284a-4296-b918-14d4fb3e7230",
   "metadata": {},
   "outputs": [
    {
     "name": "stdout",
     "output_type": "stream",
     "text": [
      "[5, 9]\n",
      "[3, 6]\n",
      "[2, 3, 6]\n",
      "[2, 3, 5, 6, 9]\n",
      "[1, 34]\n",
      "[1, 4, 34]\n",
      "[39, 44]\n",
      "[39, 44, 54]\n",
      "[1, 4, 34, 39, 44, 54]\n",
      "[1, 2, 3, 4, 5, 6, 9, 34, 39, 44, 54]\n"
     ]
    }
   ],
   "source": [
    "list = [9,5,2,6,3,4,1,34,54,44,39]\n",
    "merge_sort(list)"
   ]
  },
  {
   "cell_type": "code",
   "execution_count": 16,
   "id": "c3028a6c-3b81-4cfb-ae72-29c8b0f112bb",
   "metadata": {},
   "outputs": [
    {
     "name": "stdout",
     "output_type": "stream",
     "text": [
      "[1, 2, 3, 4, 5, 6, 9, 34, 39, 44, 54]\n"
     ]
    }
   ],
   "source": [
    "print(list)"
   ]
  },
  {
   "cell_type": "code",
   "execution_count": null,
   "id": "69959bda-2f44-4c41-a5f8-011daf474e51",
   "metadata": {},
   "outputs": [],
   "source": []
  }
 ],
 "metadata": {
  "kernelspec": {
   "display_name": "Python 3 (ipykernel)",
   "language": "python",
   "name": "python3"
  },
  "language_info": {
   "codemirror_mode": {
    "name": "ipython",
    "version": 3
   },
   "file_extension": ".py",
   "mimetype": "text/x-python",
   "name": "python",
   "nbconvert_exporter": "python",
   "pygments_lexer": "ipython3",
   "version": "3.10.7"
  }
 },
 "nbformat": 4,
 "nbformat_minor": 5
}
