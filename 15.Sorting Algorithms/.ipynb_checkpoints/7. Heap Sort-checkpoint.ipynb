{
 "cells": [
  {
   "cell_type": "code",
   "execution_count": 1,
   "id": "5146ef66-8709-4677-a287-89932384a12c",
   "metadata": {},
   "outputs": [],
   "source": [
    "def heapify(customList, n, i):\n",
    "    smallest = i\n",
    "    l = 2*i + 1\n",
    "    r = 2*i + 2\n",
    "    if l < n and customList[l] < customList[smallest]:\n",
    "        smallest = l\n",
    "    \n",
    "    if r < n and customList[r] < customList[smallest]:\n",
    "        smallest = r\n",
    "    \n",
    "    if smallest != i:\n",
    "        customList[i], customList[smallest] = customList[smallest], customList[i]\n",
    "        heapify(customList, n, smallest)"
   ]
  },
  {
   "cell_type": "code",
   "execution_count": 4,
   "id": "ba8f64d8-b4e2-4846-a259-1725eb4b3915",
   "metadata": {},
   "outputs": [],
   "source": [
    "def heapSort(customList):\n",
    "    n = len(customList)\n",
    "    for i in range(int(n/2)-1, -1, -1):\n",
    "        heapify(customList, n, i)\n",
    "    \n",
    "    for i in range(n-1,0,-1):\n",
    "        customList[i], customList[0] = customList[0], customList[i]\n",
    "        heapify(customList, i, 0)\n",
    "    customList.reverse()"
   ]
  },
  {
   "cell_type": "code",
   "execution_count": 5,
   "id": "f625a89d-2a9f-4195-941d-9fd13aca1223",
   "metadata": {},
   "outputs": [
    {
     "name": "stdout",
     "output_type": "stream",
     "text": [
      "[1, 2, 3, 4, 5, 6, 7, 8, 9]\n"
     ]
    }
   ],
   "source": [
    "cList = [2,1,7,6,5,3,4,9,8]\n",
    "heapSort(cList)\n",
    "print(cList)"
   ]
  },
  {
   "cell_type": "code",
   "execution_count": null,
   "id": "b7a6e0dd-b3da-4629-a27a-56649cf33e33",
   "metadata": {},
   "outputs": [],
   "source": []
  }
 ],
 "metadata": {
  "kernelspec": {
   "display_name": "Python 3 (ipykernel)",
   "language": "python",
   "name": "python3"
  },
  "language_info": {
   "codemirror_mode": {
    "name": "ipython",
    "version": 3
   },
   "file_extension": ".py",
   "mimetype": "text/x-python",
   "name": "python",
   "nbconvert_exporter": "python",
   "pygments_lexer": "ipython3",
   "version": "3.10.7"
  }
 },
 "nbformat": 4,
 "nbformat_minor": 5
}
