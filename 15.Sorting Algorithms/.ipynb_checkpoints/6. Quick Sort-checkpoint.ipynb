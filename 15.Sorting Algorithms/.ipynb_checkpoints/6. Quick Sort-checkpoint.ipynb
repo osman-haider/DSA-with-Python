{
 "cells": [
  {
   "cell_type": "code",
   "execution_count": 15,
   "id": "d7ed71f1-0778-4acd-9ccc-e27eef18b50b",
   "metadata": {},
   "outputs": [],
   "source": [
    "def quickSort(customList, left, right): # time complexity is O(NlogN) and space complexity is O(N)\n",
    "    if left < right:\n",
    "        partition_pos = partition(customList, left, right)\n",
    "        quickSort(customList, left, partition_pos - 1)\n",
    "        quickSort(customList, partition_pos + 1, right)\n",
    "\n",
    "    return customList"
   ]
  },
  {
   "cell_type": "code",
   "execution_count": 13,
   "id": "34929582-ce17-4443-b4d4-0190cf2f83af",
   "metadata": {},
   "outputs": [],
   "source": [
    "def partition(arr, left, right):\n",
    "    i = left\n",
    "    j = right - 1\n",
    "    pivot = arr[right]\n",
    "    while i < j:\n",
    "        while i < right and arr[i] < pivot:\n",
    "            i +=1\n",
    "        while j > left and arr[j] >= pivot:\n",
    "            j -=1\n",
    "        if i < j:\n",
    "            arr[i], arr[j] = arr[j], arr[i]\n",
    "\n",
    "    if arr[i] > pivot:\n",
    "        arr[i], arr[right] = arr[right], arr[i]\n",
    "\n",
    "    return i"
   ]
  },
  {
   "cell_type": "code",
   "execution_count": 14,
   "id": "aaa6a5cc-7e31-45d5-bdee-9b588c781c17",
   "metadata": {},
   "outputs": [
    {
     "name": "stdout",
     "output_type": "stream",
     "text": [
      "[1, 2, 3, 4, 5, 6, 9]\n"
     ]
    }
   ],
   "source": [
    "list = [9,5,2,6,3,4,1]\n",
    "print(quickSort(list, 0, len(list) - 1))"
   ]
  },
  {
   "cell_type": "code",
   "execution_count": null,
   "id": "8e50760b-d2e2-4100-8077-c17d1f1ddc41",
   "metadata": {},
   "outputs": [],
   "source": []
  }
 ],
 "metadata": {
  "kernelspec": {
   "display_name": "Python 3 (ipykernel)",
   "language": "python",
   "name": "python3"
  },
  "language_info": {
   "codemirror_mode": {
    "name": "ipython",
    "version": 3
   },
   "file_extension": ".py",
   "mimetype": "text/x-python",
   "name": "python",
   "nbconvert_exporter": "python",
   "pygments_lexer": "ipython3",
   "version": "3.10.7"
  }
 },
 "nbformat": 4,
 "nbformat_minor": 5
}
