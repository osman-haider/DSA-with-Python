{
 "cells": [
  {
   "cell_type": "code",
   "execution_count": 1,
   "id": "2b6710b3-3a98-403a-b6c8-93f327c7d2ef",
   "metadata": {},
   "outputs": [],
   "source": [
    "def insertionSort(customList): # time complexity is O(n^2) and space complexity is O(1)\n",
    "    for i in range(1, len(customList)):\n",
    "        key = customList[i]\n",
    "        j = i-1\n",
    "        while j>=0 and key < customList[j]:\n",
    "            customList[j+1] = customList[j]\n",
    "            j -= 1\n",
    "        customList[j+1] = key\n",
    "    return customList"
   ]
  },
  {
   "cell_type": "code",
   "execution_count": 2,
   "id": "b39c282d-e3ac-433f-b69f-2fe602dacd6a",
   "metadata": {},
   "outputs": [
    {
     "data": {
      "text/plain": [
       "[1, 2, 3, 4, 5, 6, 9]"
      ]
     },
     "execution_count": 2,
     "metadata": {},
     "output_type": "execute_result"
    }
   ],
   "source": [
    "list = [9,5,2,6,3,4,1]\n",
    "insertionSort(list)"
   ]
  },
  {
   "cell_type": "code",
   "execution_count": null,
   "id": "69167d11-ff8d-439f-a6ae-1b217dc5ee88",
   "metadata": {},
   "outputs": [],
   "source": []
  }
 ],
 "metadata": {
  "kernelspec": {
   "display_name": "Python 3 (ipykernel)",
   "language": "python",
   "name": "python3"
  },
  "language_info": {
   "codemirror_mode": {
    "name": "ipython",
    "version": 3
   },
   "file_extension": ".py",
   "mimetype": "text/x-python",
   "name": "python",
   "nbconvert_exporter": "python",
   "pygments_lexer": "ipython3",
   "version": "3.10.7"
  }
 },
 "nbformat": 4,
 "nbformat_minor": 5
}
