{
 "cells": [
  {
   "cell_type": "code",
   "execution_count": 1,
   "id": "3ef9def3-d88e-42c8-ab8c-7cb9f38ffa68",
   "metadata": {},
   "outputs": [],
   "source": [
    "class TreeNode:\n",
    "    def __init__(self,data):\n",
    "        self.data = data\n",
    "        self.leftchild = None\n",
    "        self.rightchild = None"
   ]
  },
  {
   "cell_type": "code",
   "execution_count": 5,
   "id": "b9bbe845-2005-4106-ab71-0848a7b64980",
   "metadata": {},
   "outputs": [],
   "source": [
    "newbt = TreeNode(\"Drinks\") # time and space complexity is O(1)"
   ]
  },
  {
   "cell_type": "code",
   "execution_count": 6,
   "id": "feeb659c-a476-475f-970e-7e0ba007926c",
   "metadata": {},
   "outputs": [],
   "source": [
    "leftchild = TreeNode(\"Hot\")\n",
    "rightchild = TreeNode(\"cold\")"
   ]
  },
  {
   "cell_type": "code",
   "execution_count": 7,
   "id": "04278f47-5167-41b6-bd76-2a8329d487a9",
   "metadata": {},
   "outputs": [],
   "source": [
    "newbt.leftchild = leftchild\n",
    "newbt.rightchild = rightchild"
   ]
  },
  {
   "cell_type": "code",
   "execution_count": 8,
   "id": "83926889-1b21-4a42-93aa-e8e82d3d0dc2",
   "metadata": {},
   "outputs": [],
   "source": [
    "def preordertraversal(rootNode):\n",
    "    if not rootNode:\n",
    "        return\n",
    "    print(rootNode.data)\n",
    "    preordertraversal(rootNode.leftchild)\n",
    "    preordertraversal(rootNode.rightchild)"
   ]
  },
  {
   "cell_type": "code",
   "execution_count": 10,
   "id": "8d2112ab-b5c4-4cb2-92e2-7f0df4fda508",
   "metadata": {},
   "outputs": [
    {
     "name": "stdout",
     "output_type": "stream",
     "text": [
      "Drinks\n",
      "Hot\n",
      "cold\n"
     ]
    }
   ],
   "source": [
    "preordertraversal(newbt) # time and space complexity is O(n)"
   ]
  },
  {
   "cell_type": "code",
   "execution_count": 11,
   "id": "92be21fa-0ca2-43ba-bd5c-bd76a3cc7604",
   "metadata": {},
   "outputs": [],
   "source": [
    "def inordertraversal(rootNode):\n",
    "    if not rootNode:\n",
    "        return\n",
    "    preordertraversal(rootNode.leftchild)\n",
    "    print(rootNode.data)\n",
    "    preordertraversal(rootNode.rightchild)"
   ]
  },
  {
   "cell_type": "code",
   "execution_count": 13,
   "id": "5873c2ea-f04c-404f-a623-dc461541eb64",
   "metadata": {},
   "outputs": [
    {
     "name": "stdout",
     "output_type": "stream",
     "text": [
      "Hot\n",
      "Drinks\n",
      "cold\n"
     ]
    }
   ],
   "source": [
    "inordertraversal(newbt) # time and space complexity is O(n)"
   ]
  },
  {
   "cell_type": "code",
   "execution_count": 14,
   "id": "99df1559-1427-4a5c-80a2-d6ac41a41ac9",
   "metadata": {},
   "outputs": [],
   "source": [
    "def postordertraversal(rootNode):\n",
    "    if not rootNode:\n",
    "        return\n",
    "    preordertraversal(rootNode.leftchild)\n",
    "    preordertraversal(rootNode.rightchild)\n",
    "    print(rootNode.data)\n",
    "    "
   ]
  },
  {
   "cell_type": "code",
   "execution_count": 15,
   "id": "5a5000ff-f39a-4bb7-9bd5-8e50747f53d4",
   "metadata": {},
   "outputs": [
    {
     "name": "stdout",
     "output_type": "stream",
     "text": [
      "Hot\n",
      "cold\n",
      "Drinks\n"
     ]
    }
   ],
   "source": [
    "postordertraversal(newbt)"
   ]
  },
  {
   "cell_type": "code",
   "execution_count": null,
   "id": "072ce9e0-95ae-433e-9ed4-5ea5b644ccad",
   "metadata": {},
   "outputs": [],
   "source": []
  }
 ],
 "metadata": {
  "kernelspec": {
   "display_name": "Python 3 (ipykernel)",
   "language": "python",
   "name": "python3"
  },
  "language_info": {
   "codemirror_mode": {
    "name": "ipython",
    "version": 3
   },
   "file_extension": ".py",
   "mimetype": "text/x-python",
   "name": "python",
   "nbconvert_exporter": "python",
   "pygments_lexer": "ipython3",
   "version": "3.10.7"
  }
 },
 "nbformat": 4,
 "nbformat_minor": 5
}
