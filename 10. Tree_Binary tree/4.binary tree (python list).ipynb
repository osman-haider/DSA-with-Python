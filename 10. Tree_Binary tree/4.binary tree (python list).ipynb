{
 "cells": [
  {
   "cell_type": "code",
   "execution_count": 34,
   "id": "cfaa9315-2bb4-4292-851d-690cd5efbc40",
   "metadata": {},
   "outputs": [],
   "source": [
    "class BinaryTree: # time complexity is O(1) and space complexity is O(n)\n",
    "    def __init__(self, size):\n",
    "        self.customList = size * [None]\n",
    "        self.lastUsedIndex = 0\n",
    "        self.maxSize = size\n",
    "\n",
    "    def insertNode(self, value): # time complexity is O(1) and space complexity is O(1)\n",
    "        if self.lastUsedIndex + 1 == self.maxSize:\n",
    "            return \"The Binary Tree is full\"\n",
    "        self.customList[self.lastUsedIndex+1] = value\n",
    "        self.lastUsedIndex += 1\n",
    "        return \"The value has been successfully inserted\"\\\n",
    "\n",
    "    def searchNode(self, nodeValue): # time complexity is O(n) and space complexity is O(1)\n",
    "        for i in range(len(self.customList)):\n",
    "            if self.customList[i] == nodeValue:\n",
    "                return \"Success\"\n",
    "        return \"Not found\"\n",
    "\n",
    "    def preOrderTraversal(self, index): # time complexity is O(1) and space complexity is O(n)\n",
    "        if index > self.lastUsedIndex:\n",
    "            return\n",
    "        print(self.customList[index])\n",
    "        self.preOrderTraversal(index*2)\n",
    "        self.preOrderTraversal(index*2 + 1)\n",
    "\n",
    "    def inOrderTraversal(self, index): # time complexity is O(n) and space complexity is O(n)\n",
    "        if index > self.lastUsedIndex:\n",
    "            return\n",
    "        self.inOrderTraversal(index*2)\n",
    "        print(self.customList[index])\n",
    "        self.inOrderTraversal(index*2+1)\n",
    "\n",
    "    def postOrderTraversal(self, index): # time complexity is O(n) and space complexity is O(n)\n",
    "        if index > self.lastUsedIndex:\n",
    "            return\n",
    "        self.postOrderTraversal(index*2)\n",
    "        self.postOrderTraversal(index*2+1)\n",
    "        print(self.customList[index])\n",
    "\n",
    "    def levelOrderTraversal(self, index): # time complexity is O(n) and space complexity is O(1)\n",
    "        for i in range(index, self.lastUsedIndex+1):\n",
    "            print(self.customList[i])\n",
    "    \n",
    "    def deleteNode(self, value): # time complexity is O(n) and space complexity is O(n)\n",
    "        if self.lastUsedIndex == 0:\n",
    "            return \"There is not any node to delete\"\n",
    "        for i in range(1, self.lastUsedIndex+1):\n",
    "            if self.customList[i] == value:\n",
    "                self.customList[i] = self.customList[self.lastUsedIndex]\n",
    "                self.customList[self.lastUsedIndex] = None\n",
    "                self.lastUsedIndex -= 1\n",
    "                return \"The node has been successfully deleted\"\n",
    "    \n",
    "    def deleteBT(self):\n",
    "       self.customList = None\n",
    "       return \"The BT has been successfully deleted\""
   ]
  },
  {
   "cell_type": "code",
   "execution_count": 35,
   "id": "4e6352ca-1e4d-4f64-bfcd-389025a8944a",
   "metadata": {},
   "outputs": [],
   "source": [
    "newBT = BinaryTree(8)"
   ]
  },
  {
   "cell_type": "code",
   "execution_count": 36,
   "id": "42a7be28-8734-43a1-8451-cde3b6586735",
   "metadata": {},
   "outputs": [
    {
     "data": {
      "text/plain": [
       "'The value has been successfully inserted'"
      ]
     },
     "execution_count": 36,
     "metadata": {},
     "output_type": "execute_result"
    }
   ],
   "source": [
    "newBT.insertNode(\"Drinks\")\n",
    "newBT.insertNode(\"Hot\")\n",
    "newBT.insertNode(\"Cold\")\n",
    "newBT.insertNode(\"Tea\")\n",
    "newBT.insertNode(\"Coffee\")"
   ]
  },
  {
   "cell_type": "code",
   "execution_count": 37,
   "id": "19bcf8ee-c13a-4475-afa3-e30e189a3fc9",
   "metadata": {},
   "outputs": [
    {
     "data": {
      "text/plain": [
       "'Success'"
      ]
     },
     "execution_count": 37,
     "metadata": {},
     "output_type": "execute_result"
    }
   ],
   "source": [
    "newBT.searchNode(\"Tea\")"
   ]
  },
  {
   "cell_type": "code",
   "execution_count": 38,
   "id": "957054cc-d6d9-42f8-b6b0-16e1d20d7cb4",
   "metadata": {},
   "outputs": [
    {
     "name": "stdout",
     "output_type": "stream",
     "text": [
      "Drinks\n",
      "Hot\n",
      "Tea\n",
      "Coffee\n",
      "Cold\n"
     ]
    }
   ],
   "source": [
    "newBT.preOrderTraversal(1)"
   ]
  },
  {
   "cell_type": "code",
   "execution_count": 39,
   "id": "b939af8a-10eb-431e-95c7-3739083cdca2",
   "metadata": {},
   "outputs": [
    {
     "name": "stdout",
     "output_type": "stream",
     "text": [
      "Tea\n",
      "Hot\n",
      "Coffee\n",
      "Drinks\n",
      "Cold\n"
     ]
    }
   ],
   "source": [
    "newBT.inOrderTraversal(1)"
   ]
  },
  {
   "cell_type": "code",
   "execution_count": 40,
   "id": "92953198-4cc9-4128-83f7-4547cf730679",
   "metadata": {},
   "outputs": [
    {
     "name": "stdout",
     "output_type": "stream",
     "text": [
      "Tea\n",
      "Coffee\n",
      "Hot\n",
      "Cold\n",
      "Drinks\n"
     ]
    }
   ],
   "source": [
    "newBT.postOrderTraversal(1)"
   ]
  },
  {
   "cell_type": "code",
   "execution_count": 41,
   "id": "3c857693-86b1-49ec-93d2-704c659c051d",
   "metadata": {},
   "outputs": [
    {
     "name": "stdout",
     "output_type": "stream",
     "text": [
      "Drinks\n",
      "Hot\n",
      "Cold\n",
      "Tea\n",
      "Coffee\n"
     ]
    }
   ],
   "source": [
    "newBT.levelOrderTraversal(1)"
   ]
  },
  {
   "cell_type": "code",
   "execution_count": null,
   "id": "7b612732-a0f0-4faf-a5c7-30c0b88ac753",
   "metadata": {},
   "outputs": [],
   "source": []
  }
 ],
 "metadata": {
  "kernelspec": {
   "display_name": "Python 3 (ipykernel)",
   "language": "python",
   "name": "python3"
  },
  "language_info": {
   "codemirror_mode": {
    "name": "ipython",
    "version": 3
   },
   "file_extension": ".py",
   "mimetype": "text/x-python",
   "name": "python",
   "nbconvert_exporter": "python",
   "pygments_lexer": "ipython3",
   "version": "3.10.7"
  }
 },
 "nbformat": 4,
 "nbformat_minor": 5
}
