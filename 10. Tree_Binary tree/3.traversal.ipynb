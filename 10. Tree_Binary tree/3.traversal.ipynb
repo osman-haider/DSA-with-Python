{
 "cells": [
  {
   "cell_type": "code",
   "execution_count": 1,
   "id": "f57bd0ae-e530-458f-9111-d75a4b246efe",
   "metadata": {},
   "outputs": [],
   "source": [
    "class Node:\n",
    "    def __init__(self, value=None):\n",
    "        self.value = value\n",
    "        self.next = None\n",
    "    \n",
    "    def __str__(self):\n",
    "        return str(self.value)"
   ]
  },
  {
   "cell_type": "code",
   "execution_count": 2,
   "id": "4e5176b2-191d-4dab-baaf-20262cd0e655",
   "metadata": {},
   "outputs": [],
   "source": [
    "class LinkedList:\n",
    "    def __init__(self):\n",
    "        self.head = None\n",
    "        self.tail = None\n",
    "\n",
    "    def __iter__(self):\n",
    "        current = self.head\n",
    "        while current:\n",
    "            yield current.value\n",
    "            current = current.next"
   ]
  },
  {
   "cell_type": "code",
   "execution_count": 3,
   "id": "29d24b6a-6c56-4627-b8df-a3926cc480c7",
   "metadata": {},
   "outputs": [],
   "source": [
    "class Queue:\n",
    "    def __init__(self):\n",
    "        self.linkedList = LinkedList()\n",
    "    \n",
    "    def __str__(self):\n",
    "        values = [str(x) for x in self.linkedList]\n",
    "        return ' '.join(values)\n",
    "    \n",
    "    def enqueue(self, value):\n",
    "        newNode = Node(value)\n",
    "        if self.linkedList.head == None:\n",
    "            self.linkedList.head = newNode\n",
    "            self.linkedList.tail = newNode\n",
    "        else:\n",
    "            self.linkedList.tail.next = newNode\n",
    "            self.linkedList.tail = newNode\n",
    "    \n",
    "    def isEmpty(self):\n",
    "        if self.linkedList.head == None:\n",
    "            return True\n",
    "        else:\n",
    "            return False\n",
    "    \n",
    "    def dequeue(self):\n",
    "        if self.isEmpty():\n",
    "            return \"There is not any node in the Queue\"\n",
    "        else:\n",
    "            tempNode = self.linkedList.head\n",
    "            if self.linkedList.head == self.linkedList.tail:\n",
    "                self.linkedList.head = None\n",
    "                self.linkedList.tail = None\n",
    "            else:\n",
    "                self.linkedList.head = self.linkedList.head.next\n",
    "            return tempNode\n",
    "    \n",
    "    def peek(self):\n",
    "        if self.isEmpty():\n",
    "            return \"There is not any node in the Queue\"\n",
    "        else:\n",
    "            return self.linkedList.head\n",
    "    \n",
    "    def delete(self):\n",
    "        self.linkedList.head = None\n",
    "        self.linkedList.tail = None"
   ]
  },
  {
   "cell_type": "code",
   "execution_count": 4,
   "id": "f0819b93-4f39-43de-88d7-268846ff1412",
   "metadata": {},
   "outputs": [],
   "source": [
    "class TreeNode:\n",
    "    def __init__(self, data):\n",
    "        self.data = data\n",
    "        self.leftChild = None\n",
    "        self.rightChild = None"
   ]
  },
  {
   "cell_type": "code",
   "execution_count": 5,
   "id": "720a2cf7-5d01-4c60-8733-28edf5cde75a",
   "metadata": {},
   "outputs": [],
   "source": [
    "newBT = TreeNode(\"Drinks\")\n",
    "leftChild = TreeNode(\"Hot\")\n",
    "tea = TreeNode(\"Tea\")\n",
    "coffee = TreeNode(\"Coffee\")\n",
    "leftChild.leftChild = tea\n",
    "leftChild.rightChild = coffee\n",
    "rightChild = TreeNode(\"Cold\")\n",
    "newBT.leftChild = leftChild\n",
    "newBT.rightChild = rightChild"
   ]
  },
  {
   "cell_type": "code",
   "execution_count": 6,
   "id": "81133862-7370-48ee-a4e9-9ee163b94e92",
   "metadata": {},
   "outputs": [],
   "source": [
    "def preOrderTraversal(rootNode):\n",
    "    if not rootNode:\n",
    "        return\n",
    "    print(rootNode.data)\n",
    "    preOrderTraversal(rootNode.leftChild)\n",
    "    preOrderTraversal(rootNode.rightChild)"
   ]
  },
  {
   "cell_type": "code",
   "execution_count": 7,
   "id": "485de1f8-415b-459f-8592-ee820a0b6a34",
   "metadata": {},
   "outputs": [
    {
     "name": "stdout",
     "output_type": "stream",
     "text": [
      "Drinks\n",
      "Hot\n",
      "Tea\n",
      "Coffee\n",
      "Cold\n"
     ]
    }
   ],
   "source": [
    "preOrderTraversal(newBT)"
   ]
  },
  {
   "cell_type": "code",
   "execution_count": 8,
   "id": "bdfec53e-7977-405e-9225-4f3ac82e50a3",
   "metadata": {},
   "outputs": [],
   "source": [
    "def inOrderTraversal(rootNode):\n",
    "    if not rootNode:\n",
    "        return\n",
    "    inOrderTraversal(rootNode.leftChild)\n",
    "    print(rootNode.data)\n",
    "    inOrderTraversal(rootNode.rightChild)"
   ]
  },
  {
   "cell_type": "code",
   "execution_count": 9,
   "id": "bbebc24e-9611-4924-88c9-a02a8c01ae17",
   "metadata": {},
   "outputs": [
    {
     "name": "stdout",
     "output_type": "stream",
     "text": [
      "Tea\n",
      "Hot\n",
      "Coffee\n",
      "Drinks\n",
      "Cold\n"
     ]
    }
   ],
   "source": [
    "inOrderTraversal(newBT)"
   ]
  },
  {
   "cell_type": "code",
   "execution_count": 10,
   "id": "67d90ff5-2d6e-407c-a26d-13ca85b81ceb",
   "metadata": {},
   "outputs": [],
   "source": [
    "def postOrderTraversal(rootNode):\n",
    "    if not rootNode:\n",
    "        return\n",
    "    postOrderTraversal(rootNode.leftChild)\n",
    "    postOrderTraversal(rootNode.rightChild)\n",
    "    print(rootNode.data)"
   ]
  },
  {
   "cell_type": "code",
   "execution_count": 11,
   "id": "6d778421-55f4-4c15-b90d-e49ac0dd2325",
   "metadata": {},
   "outputs": [
    {
     "name": "stdout",
     "output_type": "stream",
     "text": [
      "Tea\n",
      "Coffee\n",
      "Hot\n",
      "Cold\n",
      "Drinks\n"
     ]
    }
   ],
   "source": [
    "postOrderTraversal(newBT)"
   ]
  },
  {
   "cell_type": "code",
   "execution_count": 12,
   "id": "4d1a5ebd-fdaf-4076-a408-d33b1ca32eb5",
   "metadata": {},
   "outputs": [],
   "source": [
    "def levelOrderTraversal(rootNode):\n",
    "    if not rootNode:\n",
    "        return\n",
    "    else:\n",
    "        customQueue = Queue()\n",
    "        customQueue.enqueue(rootNode)\n",
    "        while not(customQueue.isEmpty()):\n",
    "            root = customQueue.dequeue()\n",
    "            print(root.value.data)\n",
    "            if (root.value.leftChild is not None):\n",
    "                customQueue.enqueue(root.value.leftChild)\n",
    "            \n",
    "            if (root.value.rightChild is not None):\n",
    "                customQueue.enqueue(root.value.rightChild)"
   ]
  },
  {
   "cell_type": "code",
   "execution_count": 13,
   "id": "b3bd4958-2f62-4a2e-b568-a7b7956a3cfb",
   "metadata": {},
   "outputs": [
    {
     "name": "stdout",
     "output_type": "stream",
     "text": [
      "Drinks\n",
      "Hot\n",
      "Cold\n",
      "Tea\n",
      "Coffee\n"
     ]
    }
   ],
   "source": [
    "levelOrderTraversal(newBT)"
   ]
  },
  {
   "cell_type": "code",
   "execution_count": 14,
   "id": "a45724d4-3b84-4c87-81c0-60962f2bbec5",
   "metadata": {},
   "outputs": [],
   "source": [
    "def searchBT(rootNode, nodeValue):\n",
    "    if not rootNode:\n",
    "        return \"The BT does not exist\"\n",
    "    else:\n",
    "        customQueue = Queue()\n",
    "        customQueue.enqueue(rootNode)\n",
    "        while not(customQueue.isEmpty()):\n",
    "            root = customQueue.dequeue()\n",
    "            if root.value.data == nodeValue:\n",
    "                return \"Success\"\n",
    "            if (root.value.leftChild is not None):\n",
    "                customQueue.enqueue(root.value.leftChild)\n",
    "            \n",
    "            if (root.value.rightChild is not None):\n",
    "                customQueue.enqueue(root.value.rightChild)\n",
    "        return \"Not found\""
   ]
  },
  {
   "cell_type": "code",
   "execution_count": 15,
   "id": "8c47433e-953c-4019-923d-0fb8f6c97f8d",
   "metadata": {},
   "outputs": [
    {
     "data": {
      "text/plain": [
       "'Success'"
      ]
     },
     "execution_count": 15,
     "metadata": {},
     "output_type": "execute_result"
    }
   ],
   "source": [
    "searchBT(newBT,'Tea')"
   ]
  },
  {
   "cell_type": "code",
   "execution_count": 16,
   "id": "150d07f6-f3a5-41ef-95f3-776af75be61d",
   "metadata": {},
   "outputs": [],
   "source": [
    "def insertNodeBT(rootNode, newNode):\n",
    "    if not rootNode:\n",
    "        rootNode = newNode\n",
    "    else:\n",
    "        customQueue = Queue()\n",
    "        customQueue.enqueue(rootNode)\n",
    "        while not(customQueue.isEmpty()):\n",
    "            root = customQueue.dequeue()\n",
    "            if root.value.leftChild is not None:\n",
    "                customQueue.enqueue(root.value.leftChild)\n",
    "            else:\n",
    "                root.value.leftChild = newNode\n",
    "                return \"Successfully Inserted\"\n",
    "            if root.value.rightChild is not None:\n",
    "                customQueue.enqueue(root.value.rightChild)\n",
    "            else:\n",
    "                root.value.rightChild = newNode\n",
    "                return \"Successfully Inserted\""
   ]
  },
  {
   "cell_type": "code",
   "execution_count": 17,
   "id": "9a390218-1e09-4c79-b089-43bfeb06b76f",
   "metadata": {},
   "outputs": [
    {
     "data": {
      "text/plain": [
       "'Successfully Inserted'"
      ]
     },
     "execution_count": 17,
     "metadata": {},
     "output_type": "execute_result"
    }
   ],
   "source": [
    "newnode = TreeNode('cola')\n",
    "insertNodeBT(newBT,newnode)"
   ]
  },
  {
   "cell_type": "code",
   "execution_count": 18,
   "id": "333b6918-844a-4f21-8e87-acdecc332f7b",
   "metadata": {},
   "outputs": [
    {
     "name": "stdout",
     "output_type": "stream",
     "text": [
      "Drinks\n",
      "Hot\n",
      "Cold\n",
      "Tea\n",
      "Coffee\n",
      "cola\n"
     ]
    }
   ],
   "source": [
    "levelOrderTraversal(newBT)"
   ]
  },
  {
   "cell_type": "code",
   "execution_count": 28,
   "id": "132c1f7a-ebe2-4e40-84f2-8bf3044d4c53",
   "metadata": {},
   "outputs": [],
   "source": [
    "def getDeepestNode(rootNode):\n",
    "    if not rootNode:\n",
    "        return\n",
    "    else:\n",
    "        customQueue = Queue()\n",
    "        customQueue.enqueue(rootNode)\n",
    "        while not(customQueue.isEmpty()):\n",
    "            root = customQueue.dequeue()\n",
    "            if (root.value.leftChild is not None):\n",
    "                customQueue.enqueue(root.value.leftChild)\n",
    "            \n",
    "            if (root.value.rightChild is not None):\n",
    "                customQueue.enqueue(root.value.rightChild)\n",
    "        deepestNode = root.value.data\n",
    "        return deepestNode"
   ]
  },
  {
   "cell_type": "code",
   "execution_count": 29,
   "id": "674904ca-b368-43cb-afe5-e829086d6297",
   "metadata": {},
   "outputs": [
    {
     "data": {
      "text/plain": [
       "'cola'"
      ]
     },
     "execution_count": 29,
     "metadata": {},
     "output_type": "execute_result"
    }
   ],
   "source": [
    "getDeepestNode(newBT)"
   ]
  },
  {
   "cell_type": "code",
   "execution_count": 30,
   "id": "7f1d2a5f-c46c-4e4d-ac56-092ed05a6b9e",
   "metadata": {},
   "outputs": [],
   "source": [
    "def deleteDeepestNode(rootNode, dNode):\n",
    "    if not rootNode:\n",
    "        return\n",
    "    else:\n",
    "        customQueue = Queue()\n",
    "        customQueue.enqueue(rootNode)\n",
    "        while not(customQueue.isEmpty()):\n",
    "            root = customQueue.dequeue()\n",
    "            if root.value is dNode:\n",
    "                root.value = None\n",
    "                return\n",
    "            if root.value.rightChild:\n",
    "                if root.value.rightChild is dNode:\n",
    "                    root.value.rightChild = None\n",
    "                    return\n",
    "                else:\n",
    "                    customQueue.enqueue(root.value.rightChild)\n",
    "            if root.value.leftChild:\n",
    "                if root.value.leftChild is dNode:\n",
    "                    root.value.leftChild = None\n",
    "                    return\n",
    "                else:\n",
    "                    customQueue.enqueue(root.value.leftChild)"
   ]
  },
  {
   "cell_type": "code",
   "execution_count": 40,
   "id": "2821eaba-2681-42c7-bbd2-2a6332770153",
   "metadata": {},
   "outputs": [],
   "source": [
    "dnode = getDeepestNode(newBT)\n",
    "deleteDeepestNode(newBT, dnode)"
   ]
  },
  {
   "cell_type": "code",
   "execution_count": 41,
   "id": "a64b7cc0-31b2-42d2-ba6d-7ba3ee1bfa9f",
   "metadata": {},
   "outputs": [
    {
     "name": "stdout",
     "output_type": "stream",
     "text": [
      "Drinks\n",
      "Hot\n",
      "Cold\n",
      "Tea\n",
      "Coffee\n",
      "cola\n"
     ]
    }
   ],
   "source": [
    "levelOrderTraversal(newBT)"
   ]
  },
  {
   "cell_type": "code",
   "execution_count": 44,
   "id": "a785d2d5-d069-46ae-9b61-60610c90689b",
   "metadata": {},
   "outputs": [],
   "source": [
    "def deleteNodeBT(rootNode, node):\n",
    "    if not rootNode:\n",
    "        return \"The BT does not exist\"\n",
    "    else:\n",
    "        customQueue = Queue()\n",
    "        customQueue.enqueue(rootNode)\n",
    "        while not(customQueue.isEmpty()):\n",
    "            root = customQueue.dequeue()\n",
    "            if root.value.data == node:\n",
    "                dNode = getDeepestNode(rootNode)\n",
    "                root.value.data = dNode.value.data\n",
    "                deleteDeepestNode(rootNode, dNode)\n",
    "                return \"The node has been successfully deleted\"\n",
    "            if (root.value.leftChild is not None):\n",
    "                customQueue.enqueue(root.value.leftChild)\n",
    "            \n",
    "            if (root.value.rightChild is not None):\n",
    "                customQueue.enqueue(root.value.rightChild)\n",
    "        return \"Failed to delete\""
   ]
  },
  {
   "cell_type": "code",
   "execution_count": 45,
   "id": "3a5389e4-dab9-4d0d-a724-ffd83aa6ca93",
   "metadata": {},
   "outputs": [
    {
     "ename": "AttributeError",
     "evalue": "'str' object has no attribute 'value'",
     "output_type": "error",
     "traceback": [
      "\u001b[1;31m---------------------------------------------------------------------------\u001b[0m",
      "\u001b[1;31mAttributeError\u001b[0m                            Traceback (most recent call last)",
      "Cell \u001b[1;32mIn[45], line 1\u001b[0m\n\u001b[1;32m----> 1\u001b[0m \u001b[43mdeleteNodeBT\u001b[49m\u001b[43m(\u001b[49m\u001b[43mnewBT\u001b[49m\u001b[43m,\u001b[49m\u001b[38;5;124;43m'\u001b[39;49m\u001b[38;5;124;43mTea\u001b[39;49m\u001b[38;5;124;43m'\u001b[39;49m\u001b[43m)\u001b[49m\n",
      "Cell \u001b[1;32mIn[44], line 11\u001b[0m, in \u001b[0;36mdeleteNodeBT\u001b[1;34m(rootNode, node)\u001b[0m\n\u001b[0;32m      9\u001b[0m \u001b[38;5;28;01mif\u001b[39;00m root\u001b[38;5;241m.\u001b[39mvalue\u001b[38;5;241m.\u001b[39mdata \u001b[38;5;241m==\u001b[39m node:\n\u001b[0;32m     10\u001b[0m     dNode \u001b[38;5;241m=\u001b[39m getDeepestNode(rootNode)\n\u001b[1;32m---> 11\u001b[0m     root\u001b[38;5;241m.\u001b[39mvalue\u001b[38;5;241m.\u001b[39mdata \u001b[38;5;241m=\u001b[39m \u001b[43mdNode\u001b[49m\u001b[38;5;241;43m.\u001b[39;49m\u001b[43mvalue\u001b[49m\u001b[38;5;241m.\u001b[39mdata\n\u001b[0;32m     12\u001b[0m     deleteDeepestNode(rootNode, dNode)\n\u001b[0;32m     13\u001b[0m     \u001b[38;5;28;01mreturn\u001b[39;00m \u001b[38;5;124m\"\u001b[39m\u001b[38;5;124mThe node has been successfully deleted\u001b[39m\u001b[38;5;124m\"\u001b[39m\n",
      "\u001b[1;31mAttributeError\u001b[0m: 'str' object has no attribute 'value'"
     ]
    }
   ],
   "source": [
    "deleteNodeBT(newBT,'Tea')"
   ]
  },
  {
   "cell_type": "code",
   "execution_count": 46,
   "id": "40be4615-fb94-4e2c-8228-7b807a3bda9b",
   "metadata": {},
   "outputs": [],
   "source": [
    "def deleteBT(rootNode):\n",
    "    rootNode.data = None\n",
    "    rootNode.leftChild = None\n",
    "    rootNode.rightChild = None\n",
    "    return \"The BT has been successfully deleted\" "
   ]
  },
  {
   "cell_type": "code",
   "execution_count": 47,
   "id": "36135c83-762a-4696-b8e7-2c6e4bfe95d0",
   "metadata": {},
   "outputs": [
    {
     "data": {
      "text/plain": [
       "'The BT has been successfully deleted'"
      ]
     },
     "execution_count": 47,
     "metadata": {},
     "output_type": "execute_result"
    }
   ],
   "source": [
    "deleteBT(newBT)"
   ]
  },
  {
   "cell_type": "code",
   "execution_count": 48,
   "id": "73f86f2a-6104-4b9f-86f8-e985cb0948dc",
   "metadata": {},
   "outputs": [
    {
     "name": "stdout",
     "output_type": "stream",
     "text": [
      "None\n"
     ]
    }
   ],
   "source": [
    "levelOrderTraversal(newBT)"
   ]
  },
  {
   "cell_type": "code",
   "execution_count": null,
   "id": "f9756c04-2763-4e1a-be3e-ff1bc0632890",
   "metadata": {},
   "outputs": [],
   "source": []
  }
 ],
 "metadata": {
  "kernelspec": {
   "display_name": "Python 3 (ipykernel)",
   "language": "python",
   "name": "python3"
  },
  "language_info": {
   "codemirror_mode": {
    "name": "ipython",
    "version": 3
   },
   "file_extension": ".py",
   "mimetype": "text/x-python",
   "name": "python",
   "nbconvert_exporter": "python",
   "pygments_lexer": "ipython3",
   "version": "3.10.7"
  }
 },
 "nbformat": 4,
 "nbformat_minor": 5
}
