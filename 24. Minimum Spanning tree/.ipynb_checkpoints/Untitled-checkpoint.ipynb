{
 "cells": [
  {
   "cell_type": "code",
   "execution_count": 5,
   "id": "2ad7b09f-01fb-4517-804a-cc9d35ddb857",
   "metadata": {},
   "outputs": [],
   "source": [
    "class DisjointSet:\n",
    "    def __init__(self, vertices):\n",
    "        self.vertices = vertices\n",
    "        self.parent = {}\n",
    "        for v in vertices:\n",
    "            self.parent[v] = v\n",
    "        self.rank = dict.fromkeys(vertices, 0)\n",
    "        print(self.rank)\n",
    "    \n",
    "    def find(self, item):\n",
    "        if self.parent[item] == item:\n",
    "            return item\n",
    "        else:\n",
    "            return self.find(self.parent[item])\n",
    "    \n",
    "    def union(self, x, y):\n",
    "        xroot = self.find(x)\n",
    "        yroot = self.find(y)\n",
    "        if self.rank[xroot] < self.rank[yroot]:\n",
    "            self.parent[xroot] = yroot\n",
    "        elif self.rank[xroot] > self.rank[yroot]:\n",
    "            self.parent[yroot] = xroot\n",
    "        else:\n",
    "            self.parent[yroot] = xroot\n",
    "            self.rank[xroot] += 1"
   ]
  },
  {
   "cell_type": "code",
   "execution_count": 6,
   "id": "45566f8c-fbbe-440a-9db8-acd5dafa6379",
   "metadata": {},
   "outputs": [],
   "source": [
    "vertices = [\"A\", \"B\", \"C\", \"D\", \"E\"]"
   ]
  },
  {
   "cell_type": "code",
   "execution_count": 7,
   "id": "7ad24442-46a8-4c71-b1e2-b68451f21c59",
   "metadata": {},
   "outputs": [
    {
     "name": "stdout",
     "output_type": "stream",
     "text": [
      "{'A': 0, 'B': 0, 'C': 0, 'D': 0, 'E': 0}\n"
     ]
    }
   ],
   "source": [
    "ds = DisjointSet(vertices)"
   ]
  },
  {
   "cell_type": "code",
   "execution_count": 10,
   "id": "e040b011-5d20-4a77-8db3-1e554562a180",
   "metadata": {},
   "outputs": [
    {
     "name": "stdout",
     "output_type": "stream",
     "text": [
      "E\n"
     ]
    }
   ],
   "source": [
    "ds.union(\"A\", \"B\")\n",
    "ds.union(\"A\", \"C\")\n",
    "print(ds.find(\"E\"))"
   ]
  },
  {
   "cell_type": "code",
   "execution_count": null,
   "id": "4ed64f15-36e6-4f6b-a182-5a02a825e73d",
   "metadata": {},
   "outputs": [],
   "source": []
  }
 ],
 "metadata": {
  "kernelspec": {
   "display_name": "Python 3 (ipykernel)",
   "language": "python",
   "name": "python3"
  },
  "language_info": {
   "codemirror_mode": {
    "name": "ipython",
    "version": 3
   },
   "file_extension": ".py",
   "mimetype": "text/x-python",
   "name": "python",
   "nbconvert_exporter": "python",
   "pygments_lexer": "ipython3",
   "version": "3.10.7"
  }
 },
 "nbformat": 4,
 "nbformat_minor": 5
}
