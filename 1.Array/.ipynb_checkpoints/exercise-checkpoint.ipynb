{
 "cells": [
  {
   "cell_type": "markdown",
   "id": "89a6b378-45ec-4807-856f-23326543271d",
   "metadata": {},
   "source": [
    "### Let us say your expense for every month are listed below,\n",
    "##### January - 2200\n",
    "##### February - 2350\n",
    "##### March - 2600\n",
    "##### April - 2130\n",
    "##### May - 2190\n",
    "##### Create a list to store these monthly expenses and using that find out,"
   ]
  },
  {
   "cell_type": "markdown",
   "id": "2c8f16b1-70f2-48d5-adf2-77574653fe0d",
   "metadata": {},
   "source": [
    "1. In Feb, how many dollars you spent extra compare to January?\n",
    "2. Find out your total expense in first quarter (first three months) of the year.\n",
    "3. Find out if you spent exactly 2000 dollars in any month\n",
    "4. June month just finished and your expense is 1980 dollar. Add this item to our monthly expense list\n",
    "5. You returned an item that you bought in a month of April and\n",
    "got a refund of 200$. Make a correction to your monthly expense list\n",
    "based on this"
   ]
  },
  {
   "cell_type": "code",
   "execution_count": 3,
   "id": "3bdc9769-013b-45da-a58b-2957cbc4fe3d",
   "metadata": {},
   "outputs": [
    {
     "name": "stdout",
     "output_type": "stream",
     "text": [
      "150\n",
      "7150\n"
     ]
    }
   ],
   "source": [
    "x = [2200,2350,2600,2130,2190]\n",
    "print(x[1]-x[0]) # answer of first point\n",
    "print(x[0]+x[1]+x[2]) # answer of second point"
   ]
  },
  {
   "cell_type": "code",
   "execution_count": 7,
   "id": "2d51ac62-f1ec-42d2-91fb-0e16e46df017",
   "metadata": {},
   "outputs": [],
   "source": [
    "for i in x:\n",
    "    if i == 2000:\n",
    "        print(i) # there is no value equal to 2000"
   ]
  },
  {
   "cell_type": "code",
   "execution_count": 8,
   "id": "a00abf81-4707-433c-b3bd-a91a278ae3cd",
   "metadata": {},
   "outputs": [],
   "source": [
    "x.append(1980)"
   ]
  },
  {
   "cell_type": "code",
   "execution_count": 10,
   "id": "f95554b5-39a7-41d8-804f-3f1ddf8e8cdb",
   "metadata": {},
   "outputs": [
    {
     "name": "stdout",
     "output_type": "stream",
     "text": [
      "1930\n"
     ]
    }
   ],
   "source": [
    "print(x[3] - 200)"
   ]
  },
  {
   "cell_type": "markdown",
   "id": "6f8a1594-df84-47e3-9ae1-f9d25581dd32",
   "metadata": {},
   "source": [
    "## You have a list of your favourite marvel super heros."
   ]
  },
  {
   "cell_type": "code",
   "execution_count": 21,
   "id": "3c0441fb-5cf0-4a61-a296-1ab955bdfd0e",
   "metadata": {},
   "outputs": [],
   "source": [
    "heros=['spider man','thor','hulk','iron man','captain america']"
   ]
  },
  {
   "cell_type": "markdown",
   "id": "7e2648e2-7f3c-4012-985f-f8b6181c9c42",
   "metadata": {},
   "source": [
    "##### Using this find out,\n",
    "\n",
    "1. Length of the list\n",
    "2. Add 'black panther' at the end of this list\n",
    "3. You realize that you need to add 'black panther' after 'hulk',\n",
    "   so remove it from the list first and then add it after 'hulk'\n",
    "4. Now you don't like thor and hulk because they get angry easily :)\n",
    "   So you want to remove thor and hulk from list and replace them with doctor strange (because he is cool).\n",
    "   Do that with one line of code.\n",
    "5. Sort the heros list in alphabetical order (Hint. Use dir() functions to list down all functions available in list)"
   ]
  },
  {
   "cell_type": "code",
   "execution_count": 22,
   "id": "5d38e8e9-fe0c-4ffb-8425-cc599405370f",
   "metadata": {},
   "outputs": [
    {
     "data": {
      "text/plain": [
       "5"
      ]
     },
     "execution_count": 22,
     "metadata": {},
     "output_type": "execute_result"
    }
   ],
   "source": [
    "len(heros)"
   ]
  },
  {
   "cell_type": "code",
   "execution_count": 23,
   "id": "c243d1e5-9c8a-4a7b-83f6-a8a22648d603",
   "metadata": {},
   "outputs": [],
   "source": [
    "heros.append('black panther')"
   ]
  },
  {
   "cell_type": "code",
   "execution_count": 24,
   "id": "b61e946b-6d68-42ae-ae64-33a2c491839f",
   "metadata": {},
   "outputs": [
    {
     "name": "stdout",
     "output_type": "stream",
     "text": [
      "['spider man', 'thor', 'hulk', 'iron man', 'captain america', 'black panther']\n"
     ]
    }
   ],
   "source": [
    "print(heros)"
   ]
  },
  {
   "cell_type": "code",
   "execution_count": 25,
   "id": "47ad1d38-c25f-494f-a0d6-581d3df3a686",
   "metadata": {},
   "outputs": [],
   "source": [
    "heros.remove('black panther')"
   ]
  },
  {
   "cell_type": "code",
   "execution_count": 26,
   "id": "7eaba3ba-1646-4385-9e50-0f0192e19a90",
   "metadata": {},
   "outputs": [],
   "source": [
    "heros.insert(3,'black panther')"
   ]
  },
  {
   "cell_type": "code",
   "execution_count": 27,
   "id": "0519daf8-9203-4803-a36a-2ef67d8c28f4",
   "metadata": {},
   "outputs": [
    {
     "data": {
      "text/plain": [
       "['spider man', 'thor', 'hulk', 'black panther', 'iron man', 'captain america']"
      ]
     },
     "execution_count": 27,
     "metadata": {},
     "output_type": "execute_result"
    }
   ],
   "source": [
    "heros"
   ]
  },
  {
   "cell_type": "code",
   "execution_count": 28,
   "id": "61f39667-6f41-436f-8eb5-d908a0687322",
   "metadata": {},
   "outputs": [],
   "source": [
    "heros[1:2] = ['doctor strange']"
   ]
  },
  {
   "cell_type": "code",
   "execution_count": 29,
   "id": "574e3787-d3be-47f7-870b-4d9411ada24d",
   "metadata": {},
   "outputs": [
    {
     "data": {
      "text/plain": [
       "['spider man',\n",
       " 'doctor strange',\n",
       " 'hulk',\n",
       " 'black panther',\n",
       " 'iron man',\n",
       " 'captain america']"
      ]
     },
     "execution_count": 29,
     "metadata": {},
     "output_type": "execute_result"
    }
   ],
   "source": [
    "heros"
   ]
  },
  {
   "cell_type": "code",
   "execution_count": 30,
   "id": "48580bca-220c-4945-9771-cb86a531eff0",
   "metadata": {},
   "outputs": [],
   "source": [
    "heros.sort()"
   ]
  },
  {
   "cell_type": "code",
   "execution_count": 31,
   "id": "8dd7b01c-c9f9-4590-843f-8fc135337eae",
   "metadata": {},
   "outputs": [
    {
     "data": {
      "text/plain": [
       "['black panther',\n",
       " 'captain america',\n",
       " 'doctor strange',\n",
       " 'hulk',\n",
       " 'iron man',\n",
       " 'spider man']"
      ]
     },
     "execution_count": 31,
     "metadata": {},
     "output_type": "execute_result"
    }
   ],
   "source": [
    "heros"
   ]
  },
  {
   "cell_type": "markdown",
   "id": "97103d13-5500-4b81-8f49-02a48edaf4f2",
   "metadata": {},
   "source": [
    "## Create a list of all odd numbers between 1 and a max number. Max number is something you need to take from a user using input() function"
   ]
  },
  {
   "cell_type": "code",
   "execution_count": 36,
   "id": "b373cc02-5c44-4ea9-9ba8-5b593be84bf5",
   "metadata": {},
   "outputs": [
    {
     "name": "stdin",
     "output_type": "stream",
     "text": [
      "enter number 10\n"
     ]
    }
   ],
   "source": [
    "max_number = int(input('enter number'))\n",
    "a = []\n",
    "for i in range(1,max_number):\n",
    "    if i % 2 != 0:\n",
    "        a.append(i)"
   ]
  },
  {
   "cell_type": "code",
   "execution_count": 37,
   "id": "d785ca0c-6c02-4dac-8a11-a62ce10cb782",
   "metadata": {},
   "outputs": [
    {
     "data": {
      "text/plain": [
       "[1, 3, 5, 7, 9]"
      ]
     },
     "execution_count": 37,
     "metadata": {},
     "output_type": "execute_result"
    }
   ],
   "source": [
    "a"
   ]
  },
  {
   "cell_type": "code",
   "execution_count": null,
   "id": "ba11d759-ca63-4565-971e-e807b440d01f",
   "metadata": {},
   "outputs": [],
   "source": []
  }
 ],
 "metadata": {
  "kernelspec": {
   "display_name": "Python 3 (ipykernel)",
   "language": "python",
   "name": "python3"
  },
  "language_info": {
   "codemirror_mode": {
    "name": "ipython",
    "version": 3
   },
   "file_extension": ".py",
   "mimetype": "text/x-python",
   "name": "python",
   "nbconvert_exporter": "python",
   "pygments_lexer": "ipython3",
   "version": "3.12.0"
  }
 },
 "nbformat": 4,
 "nbformat_minor": 5
}
