{
 "cells": [
  {
   "cell_type": "code",
   "execution_count": 1,
   "id": "b65513f2-d563-41df-b8d7-bfe2ca3ac63e",
   "metadata": {},
   "outputs": [],
   "source": [
    "import numpy as np"
   ]
  },
  {
   "cell_type": "code",
   "execution_count": 3,
   "id": "287f44dd-fe33-428d-8fd7-ad3267e2df13",
   "metadata": {},
   "outputs": [],
   "source": [
    "d2array = np.array([[1,3,5],[2,4,6],[6,4,2]])"
   ]
  },
  {
   "cell_type": "code",
   "execution_count": 4,
   "id": "509b8912-deca-4615-963d-fa8c9d299bab",
   "metadata": {},
   "outputs": [
    {
     "data": {
      "text/plain": [
       "array([[1, 3, 5],\n",
       "       [2, 4, 6],\n",
       "       [6, 4, 2]])"
      ]
     },
     "execution_count": 4,
     "metadata": {},
     "output_type": "execute_result"
    }
   ],
   "source": [
    "d2array"
   ]
  },
  {
   "cell_type": "markdown",
   "id": "33d9c179-bb35-4771-add0-b21aef9b680e",
   "metadata": {},
   "source": [
    "## insertion\n",
    "### time complexity O(mn) "
   ]
  },
  {
   "cell_type": "code",
   "execution_count": 5,
   "id": "32f40734-94ab-4c07-bdae-a176a49852f9",
   "metadata": {},
   "outputs": [],
   "source": [
    "## adding column in the start of array\n",
    "new2darray = np.insert(d2array,0,[[1,2,3]],axis=1)"
   ]
  },
  {
   "cell_type": "code",
   "execution_count": 6,
   "id": "5d13b943-92a8-435d-83e6-78cb009e2389",
   "metadata": {},
   "outputs": [
    {
     "data": {
      "text/plain": [
       "array([[1, 1, 3, 5],\n",
       "       [2, 2, 4, 6],\n",
       "       [3, 6, 4, 2]])"
      ]
     },
     "execution_count": 6,
     "metadata": {},
     "output_type": "execute_result"
    }
   ],
   "source": [
    "new2darray"
   ]
  },
  {
   "cell_type": "code",
   "execution_count": 7,
   "id": "e280667b-b06b-4eb3-998d-d68dfb165dff",
   "metadata": {},
   "outputs": [],
   "source": [
    "## adding new row\n",
    "new2darray = np.insert(d2array,0,[[1,2,3]],axis=0)"
   ]
  },
  {
   "cell_type": "code",
   "execution_count": 8,
   "id": "03f3f97e-0731-436b-bd49-040ffed0efc6",
   "metadata": {},
   "outputs": [
    {
     "data": {
      "text/plain": [
       "array([[1, 2, 3],\n",
       "       [1, 3, 5],\n",
       "       [2, 4, 6],\n",
       "       [6, 4, 2]])"
      ]
     },
     "execution_count": 8,
     "metadata": {},
     "output_type": "execute_result"
    }
   ],
   "source": [
    "new2darray"
   ]
  },
  {
   "cell_type": "code",
   "execution_count": null,
   "id": "ea155f91-3b8d-4f5b-95ff-a0d46137ff3f",
   "metadata": {},
   "outputs": [],
   "source": []
  }
 ],
 "metadata": {
  "kernelspec": {
   "display_name": "Python 3 (ipykernel)",
   "language": "python",
   "name": "python3"
  },
  "language_info": {
   "codemirror_mode": {
    "name": "ipython",
    "version": 3
   },
   "file_extension": ".py",
   "mimetype": "text/x-python",
   "name": "python",
   "nbconvert_exporter": "python",
   "pygments_lexer": "ipython3",
   "version": "3.10.7"
  }
 },
 "nbformat": 4,
 "nbformat_minor": 5
}
