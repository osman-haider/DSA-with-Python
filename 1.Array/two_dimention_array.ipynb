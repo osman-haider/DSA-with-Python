{
 "cells": [
  {
   "cell_type": "code",
   "execution_count": 1,
   "id": "b65513f2-d563-41df-b8d7-bfe2ca3ac63e",
   "metadata": {},
   "outputs": [],
   "source": [
    "import numpy as np"
   ]
  },
  {
   "cell_type": "code",
   "execution_count": 3,
   "id": "287f44dd-fe33-428d-8fd7-ad3267e2df13",
   "metadata": {},
   "outputs": [],
   "source": [
    "d2array = np.array([[1,3,5],[2,4,6],[6,4,2]])"
   ]
  },
  {
   "cell_type": "code",
   "execution_count": 4,
   "id": "509b8912-deca-4615-963d-fa8c9d299bab",
   "metadata": {},
   "outputs": [
    {
     "data": {
      "text/plain": [
       "array([[1, 3, 5],\n",
       "       [2, 4, 6],\n",
       "       [6, 4, 2]])"
      ]
     },
     "execution_count": 4,
     "metadata": {},
     "output_type": "execute_result"
    }
   ],
   "source": [
    "d2array"
   ]
  },
  {
   "cell_type": "markdown",
   "id": "33d9c179-bb35-4771-add0-b21aef9b680e",
   "metadata": {},
   "source": [
    "## insertion\n",
    "### time complexity O(mn) "
   ]
  },
  {
   "cell_type": "code",
   "execution_count": 5,
   "id": "32f40734-94ab-4c07-bdae-a176a49852f9",
   "metadata": {},
   "outputs": [],
   "source": [
    "## adding column in the start of array\n",
    "new2darray = np.insert(d2array,0,[[1,2,3]],axis=1)"
   ]
  },
  {
   "cell_type": "code",
   "execution_count": 6,
   "id": "5d13b943-92a8-435d-83e6-78cb009e2389",
   "metadata": {},
   "outputs": [
    {
     "data": {
      "text/plain": [
       "array([[1, 1, 3, 5],\n",
       "       [2, 2, 4, 6],\n",
       "       [3, 6, 4, 2]])"
      ]
     },
     "execution_count": 6,
     "metadata": {},
     "output_type": "execute_result"
    }
   ],
   "source": [
    "new2darray"
   ]
  },
  {
   "cell_type": "code",
   "execution_count": 7,
   "id": "e280667b-b06b-4eb3-998d-d68dfb165dff",
   "metadata": {},
   "outputs": [],
   "source": [
    "## adding new row\n",
    "new2darray = np.insert(d2array,0,[[1,2,3]],axis=0)"
   ]
  },
  {
   "cell_type": "code",
   "execution_count": 8,
   "id": "03f3f97e-0731-436b-bd49-040ffed0efc6",
   "metadata": {},
   "outputs": [
    {
     "data": {
      "text/plain": [
       "array([[1, 2, 3],\n",
       "       [1, 3, 5],\n",
       "       [2, 4, 6],\n",
       "       [6, 4, 2]])"
      ]
     },
     "execution_count": 8,
     "metadata": {},
     "output_type": "execute_result"
    }
   ],
   "source": [
    "new2darray"
   ]
  },
  {
   "cell_type": "code",
   "execution_count": 9,
   "id": "ea155f91-3b8d-4f5b-95ff-a0d46137ff3f",
   "metadata": {},
   "outputs": [],
   "source": [
    "## adding 2nd row\n",
    "new2darray = np.insert(d2array,1,[[1,2,3]],axis=0)"
   ]
  },
  {
   "cell_type": "code",
   "execution_count": 10,
   "id": "2318c35e-a777-492f-a030-42f153fb6110",
   "metadata": {},
   "outputs": [
    {
     "data": {
      "text/plain": [
       "array([[1, 3, 5],\n",
       "       [1, 2, 3],\n",
       "       [2, 4, 6],\n",
       "       [6, 4, 2]])"
      ]
     },
     "execution_count": 10,
     "metadata": {},
     "output_type": "execute_result"
    }
   ],
   "source": [
    "new2darray"
   ]
  },
  {
   "cell_type": "code",
   "execution_count": 13,
   "id": "d7caf099-aaf7-44fb-8a2d-e4ffc27e6721",
   "metadata": {},
   "outputs": [
    {
     "data": {
      "text/plain": [
       "array([[1, 3, 5],\n",
       "       [2, 4, 6],\n",
       "       [6, 4, 2],\n",
       "       [1, 2, 3]])"
      ]
     },
     "execution_count": 13,
     "metadata": {},
     "output_type": "execute_result"
    }
   ],
   "source": [
    "# time complexity is O(1)\n",
    "np.append(d2array,[[1,2,3]],axis=0) ## new row is added is end of the array"
   ]
  },
  {
   "cell_type": "markdown",
   "id": "880f9a58-c8a7-4a7d-ba1f-68f303a75d7e",
   "metadata": {},
   "source": [
    "## access two dimention array\n",
    "### time complexity O(1) & space complexity is O(1)"
   ]
  },
  {
   "cell_type": "code",
   "execution_count": 14,
   "id": "d80908f1-77c5-416b-8ea0-162b059241b5",
   "metadata": {},
   "outputs": [
    {
     "data": {
      "text/plain": [
       "array([[1, 3, 5],\n",
       "       [1, 2, 3],\n",
       "       [2, 4, 6],\n",
       "       [6, 4, 2]])"
      ]
     },
     "execution_count": 14,
     "metadata": {},
     "output_type": "execute_result"
    }
   ],
   "source": [
    "new2darray"
   ]
  },
  {
   "cell_type": "code",
   "execution_count": 15,
   "id": "fc85d94e-a0bf-4fb3-a0fc-abd2028eb1f1",
   "metadata": {},
   "outputs": [
    {
     "data": {
      "text/plain": [
       "4"
      ]
     },
     "execution_count": 15,
     "metadata": {},
     "output_type": "execute_result"
    }
   ],
   "source": [
    "len(new2darray)"
   ]
  },
  {
   "cell_type": "code",
   "execution_count": 16,
   "id": "95d665d8-b427-4ab5-b27f-05f5219e2c06",
   "metadata": {},
   "outputs": [
    {
     "data": {
      "text/plain": [
       "3"
      ]
     },
     "execution_count": 16,
     "metadata": {},
     "output_type": "execute_result"
    }
   ],
   "source": [
    "len(new2darray[0])"
   ]
  },
  {
   "cell_type": "code",
   "execution_count": 18,
   "id": "bc601fbb-2b95-4315-8a0c-f69682604033",
   "metadata": {},
   "outputs": [
    {
     "name": "stdout",
     "output_type": "stream",
     "text": [
      "2\n"
     ]
    }
   ],
   "source": [
    "def access(array,rowindex,colindex):\n",
    "    if rowindex >= len(array) and colindex >= len(array[0]):\n",
    "        print(\"incorrect index\")\n",
    "    else:\n",
    "        print(array[rowindex][colindex])\n",
    "\n",
    "access(new2darray,3,2)"
   ]
  },
  {
   "cell_type": "markdown",
   "id": "d103179d-c13d-41c6-b848-4a69877c3cfc",
   "metadata": {},
   "source": [
    "## traversing(visiting) 2D array\n",
    "### time complexity O(mn) or O(n^2) & space complexity is O(1)"
   ]
  },
  {
   "cell_type": "code",
   "execution_count": 20,
   "id": "a36d11c5-80d8-4ef3-b58f-8ec8f9ca03da",
   "metadata": {},
   "outputs": [
    {
     "name": "stdout",
     "output_type": "stream",
     "text": [
      "1\n",
      "3\n",
      "5\n",
      "1\n",
      "2\n",
      "3\n",
      "2\n",
      "4\n",
      "6\n",
      "6\n",
      "4\n",
      "2\n"
     ]
    }
   ],
   "source": [
    "def traversing(array):\n",
    "    for m in range(len(array)):\n",
    "        for n in range(len(array[0])):\n",
    "            print(array[m][n])\n",
    "\n",
    "traversing(new2darray)"
   ]
  },
  {
   "cell_type": "markdown",
   "id": "a7d39b06-c478-41f8-9bf4-e6a6509ab942",
   "metadata": {},
   "source": [
    "## searching an element\n",
    "### time complexity O(mn) & space complexity is O(1)"
   ]
  },
  {
   "cell_type": "code",
   "execution_count": 25,
   "id": "6412f5bc-aa24-420f-9fea-e627cc2c41a5",
   "metadata": {},
   "outputs": [
    {
     "data": {
      "text/plain": [
       "'index is found 2, 2'"
      ]
     },
     "execution_count": 25,
     "metadata": {},
     "output_type": "execute_result"
    }
   ],
   "source": [
    "def traversing(array,value):\n",
    "    for m in range(len(array)):\n",
    "        for n in range(len(array[0])):\n",
    "            if array[m][n] == value:\n",
    "                return \"index is found \"+str(m)+\", \"+str(n)\n",
    "    return \"value not found\"\n",
    "\n",
    "traversing(new2darray,6)"
   ]
  },
  {
   "cell_type": "code",
   "execution_count": 24,
   "id": "3b534042-8180-476f-99ca-3bedd52ffd5f",
   "metadata": {},
   "outputs": [
    {
     "data": {
      "text/plain": [
       "array([[1, 3, 5],\n",
       "       [1, 2, 3],\n",
       "       [2, 4, 6],\n",
       "       [6, 4, 2]])"
      ]
     },
     "execution_count": 24,
     "metadata": {},
     "output_type": "execute_result"
    }
   ],
   "source": [
    "new2darray"
   ]
  },
  {
   "cell_type": "markdown",
   "id": "1349b8cd-fe6d-40a8-91e2-80d702c76525",
   "metadata": {},
   "source": [
    "## deleting row or column for 2D array\n",
    "### time complexity O(mn) "
   ]
  },
  {
   "cell_type": "code",
   "execution_count": 26,
   "id": "1bea4202-c73a-4ea7-b6f9-942109a7c97c",
   "metadata": {},
   "outputs": [
    {
     "data": {
      "text/plain": [
       "array([[1, 3, 5],\n",
       "       [1, 2, 3],\n",
       "       [2, 4, 6],\n",
       "       [6, 4, 2]])"
      ]
     },
     "execution_count": 26,
     "metadata": {},
     "output_type": "execute_result"
    }
   ],
   "source": [
    "new2darray"
   ]
  },
  {
   "cell_type": "code",
   "execution_count": 27,
   "id": "1ccb3e1b-05d4-462b-a100-79534ddf0b71",
   "metadata": {},
   "outputs": [
    {
     "data": {
      "text/plain": [
       "array([[3, 5],\n",
       "       [2, 3],\n",
       "       [4, 6],\n",
       "       [4, 2]])"
      ]
     },
     "execution_count": 27,
     "metadata": {},
     "output_type": "execute_result"
    }
   ],
   "source": [
    "np.delete(new2darray,0,axis=1)"
   ]
  },
  {
   "cell_type": "code",
   "execution_count": 28,
   "id": "618f4da7-2ec0-4686-84a4-1c00227a6314",
   "metadata": {},
   "outputs": [
    {
     "data": {
      "text/plain": [
       "array([[1, 2, 3],\n",
       "       [2, 4, 6],\n",
       "       [6, 4, 2]])"
      ]
     },
     "execution_count": 28,
     "metadata": {},
     "output_type": "execute_result"
    }
   ],
   "source": [
    "np.delete(new2darray,0,axis=0)"
   ]
  },
  {
   "cell_type": "code",
   "execution_count": 29,
   "id": "08b10fb9-e6d7-45e5-8d15-ced6edd39d39",
   "metadata": {},
   "outputs": [
    {
     "data": {
      "text/plain": [
       "array([[1, 3, 5],\n",
       "       [2, 4, 6],\n",
       "       [6, 4, 2]])"
      ]
     },
     "execution_count": 29,
     "metadata": {},
     "output_type": "execute_result"
    }
   ],
   "source": [
    "np.delete(new2darray,1,axis=0)"
   ]
  },
  {
   "cell_type": "code",
   "execution_count": null,
   "id": "163b1e03-df70-4c07-9236-1b9540b21f1c",
   "metadata": {},
   "outputs": [],
   "source": []
  }
 ],
 "metadata": {
  "kernelspec": {
   "display_name": "Python 3 (ipykernel)",
   "language": "python",
   "name": "python3"
  },
  "language_info": {
   "codemirror_mode": {
    "name": "ipython",
    "version": 3
   },
   "file_extension": ".py",
   "mimetype": "text/x-python",
   "name": "python",
   "nbconvert_exporter": "python",
   "pygments_lexer": "ipython3",
   "version": "3.10.7"
  }
 },
 "nbformat": 4,
 "nbformat_minor": 5
}
