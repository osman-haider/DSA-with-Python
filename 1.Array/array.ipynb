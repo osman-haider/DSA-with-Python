{
 "cells": [
  {
   "cell_type": "code",
   "execution_count": 1,
   "id": "b507a0db-799c-4d0a-a878-55cc5de928b2",
   "metadata": {},
   "outputs": [],
   "source": [
    "from array import *"
   ]
  },
  {
   "cell_type": "code",
   "execution_count": 4,
   "id": "3ebf1340-08d1-4fd2-9100-73e3860401b2",
   "metadata": {},
   "outputs": [
    {
     "name": "stdout",
     "output_type": "stream",
     "text": [
      "array('i', [1, 3, 4])\n"
     ]
    }
   ],
   "source": [
    "arr1 = array('i',[1,3,4]) # i for int\n",
    "print(x)"
   ]
  },
  {
   "cell_type": "code",
   "execution_count": 5,
   "id": "9706c83f-fc81-4677-bd9d-770f1922e381",
   "metadata": {},
   "outputs": [
    {
     "ename": "TypeError",
     "evalue": "'float' object cannot be interpreted as an integer",
     "output_type": "error",
     "traceback": [
      "\u001b[1;31m---------------------------------------------------------------------------\u001b[0m",
      "\u001b[1;31mTypeError\u001b[0m                                 Traceback (most recent call last)",
      "Cell \u001b[1;32mIn[5], line 1\u001b[0m\n\u001b[1;32m----> 1\u001b[0m x \u001b[38;5;241m=\u001b[39m \u001b[43marray\u001b[49m\u001b[43m(\u001b[49m\u001b[38;5;124;43m'\u001b[39;49m\u001b[38;5;124;43mi\u001b[39;49m\u001b[38;5;124;43m'\u001b[39;49m\u001b[43m,\u001b[49m\u001b[43m[\u001b[49m\u001b[38;5;241;43m1\u001b[39;49m\u001b[43m,\u001b[49m\u001b[38;5;241;43m3\u001b[39;49m\u001b[43m,\u001b[49m\u001b[38;5;241;43m4\u001b[39;49m\u001b[43m,\u001b[49m\u001b[38;5;241;43m6.4\u001b[39;49m\u001b[43m]\u001b[49m\u001b[43m)\u001b[49m  \u001b[38;5;66;03m# so we can see one array can store same type of values\u001b[39;00m\n\u001b[0;32m      2\u001b[0m \u001b[38;5;28mprint\u001b[39m(x)\n",
      "\u001b[1;31mTypeError\u001b[0m: 'float' object cannot be interpreted as an integer"
     ]
    }
   ],
   "source": [
    "x = array('i',[1,3,4,6.4])  # so we can see one array can store same type of values\n",
    "print(x)"
   ]
  },
  {
   "cell_type": "code",
   "execution_count": 6,
   "id": "86daedd1-72bb-4ee8-9913-e532c1a57273",
   "metadata": {},
   "outputs": [
    {
     "name": "stdout",
     "output_type": "stream",
     "text": [
      "array('i', [1, 3, 4, -4])\n"
     ]
    }
   ],
   "source": [
    "x = array('i',[1,3,4,-4])  # we can store -ve values\n",
    "print(x)"
   ]
  },
  {
   "cell_type": "code",
   "execution_count": 7,
   "id": "63dad333-939a-4d60-80a0-3c0ad5b3505c",
   "metadata": {},
   "outputs": [
    {
     "ename": "OverflowError",
     "evalue": "can't convert negative value to unsigned int",
     "output_type": "error",
     "traceback": [
      "\u001b[1;31m---------------------------------------------------------------------------\u001b[0m",
      "\u001b[1;31mOverflowError\u001b[0m                             Traceback (most recent call last)",
      "Cell \u001b[1;32mIn[7], line 1\u001b[0m\n\u001b[1;32m----> 1\u001b[0m x \u001b[38;5;241m=\u001b[39m \u001b[43marray\u001b[49m\u001b[43m(\u001b[49m\u001b[38;5;124;43m'\u001b[39;49m\u001b[38;5;124;43mI\u001b[39;49m\u001b[38;5;124;43m'\u001b[39;49m\u001b[43m,\u001b[49m\u001b[43m[\u001b[49m\u001b[38;5;241;43m1\u001b[39;49m\u001b[43m,\u001b[49m\u001b[38;5;241;43m3\u001b[39;49m\u001b[43m,\u001b[49m\u001b[38;5;241;43m4\u001b[39;49m\u001b[43m,\u001b[49m\u001b[38;5;241;43m-\u001b[39;49m\u001b[38;5;241;43m4\u001b[39;49m\u001b[43m]\u001b[49m\u001b[43m)\u001b[49m  \u001b[38;5;66;03m# we can't store -ve values\u001b[39;00m\n\u001b[0;32m      2\u001b[0m \u001b[38;5;28mprint\u001b[39m(x)\n",
      "\u001b[1;31mOverflowError\u001b[0m: can't convert negative value to unsigned int"
     ]
    }
   ],
   "source": [
    "x = array('I',[1,3,4,-4])  # we can't store -ve values\n",
    "print(x)"
   ]
  },
  {
   "cell_type": "code",
   "execution_count": 8,
   "id": "5f8bf81a-eb7c-4415-b566-0432cb3107e6",
   "metadata": {},
   "outputs": [
    {
     "name": "stdout",
     "output_type": "stream",
     "text": [
      "(1826082342912, 4)\n"
     ]
    }
   ],
   "source": [
    "x = array('i',[1,3,4,-4])  \n",
    "print(x.buffer_info()) #it tell us info about array means address and size"
   ]
  },
  {
   "cell_type": "code",
   "execution_count": 9,
   "id": "f48bfc29-659e-4c6f-babb-9b67f36af68e",
   "metadata": {},
   "outputs": [
    {
     "name": "stdout",
     "output_type": "stream",
     "text": [
      "i\n"
     ]
    }
   ],
   "source": [
    "print(x.typecode)"
   ]
  },
  {
   "cell_type": "code",
   "execution_count": 10,
   "id": "ee477f24-52d3-45d6-8d6b-d8763042ccb9",
   "metadata": {},
   "outputs": [
    {
     "name": "stdout",
     "output_type": "stream",
     "text": [
      "array('i', [-4, 4, 3, 1])\n"
     ]
    }
   ],
   "source": [
    "x.reverse()\n",
    "print(x)"
   ]
  },
  {
   "cell_type": "code",
   "execution_count": 11,
   "id": "e42378e6-4094-4e1b-aa8b-3b0b4bb8bd58",
   "metadata": {},
   "outputs": [
    {
     "data": {
      "text/plain": [
       "-4"
      ]
     },
     "execution_count": 11,
     "metadata": {},
     "output_type": "execute_result"
    }
   ],
   "source": [
    "x[0] # print the first value from array"
   ]
  },
  {
   "cell_type": "code",
   "execution_count": 12,
   "id": "af198e51-193c-4a69-ad20-e345856d7be5",
   "metadata": {},
   "outputs": [
    {
     "name": "stdout",
     "output_type": "stream",
     "text": [
      "-4\n",
      "4\n",
      "3\n",
      "1\n"
     ]
    }
   ],
   "source": [
    "for i in range(len(x)):\n",
    "    print(x[i])"
   ]
  },
  {
   "cell_type": "code",
   "execution_count": 13,
   "id": "50cc6920-43f1-4864-8a5f-5b8a20607fcd",
   "metadata": {},
   "outputs": [
    {
     "name": "stdout",
     "output_type": "stream",
     "text": [
      "-4\n",
      "4\n",
      "3\n",
      "1\n"
     ]
    }
   ],
   "source": [
    "for i in x:\n",
    "    print(i)"
   ]
  },
  {
   "cell_type": "code",
   "execution_count": 16,
   "id": "cee7d78b-e9cc-4fe0-a691-147853c6d017",
   "metadata": {},
   "outputs": [
    {
     "data": {
      "text/plain": [
       "array('i', [1, 3, 4])"
      ]
     },
     "execution_count": 16,
     "metadata": {},
     "output_type": "execute_result"
    }
   ],
   "source": [
    "arr1"
   ]
  },
  {
   "cell_type": "code",
   "execution_count": 17,
   "id": "c74cb1cd-6166-4f6c-8cb7-ed892dcc546b",
   "metadata": {},
   "outputs": [],
   "source": [
    "arr1.insert(0,9) # time complexity O(n) & space complexity is O(1)"
   ]
  },
  {
   "cell_type": "code",
   "execution_count": 18,
   "id": "38105415-4142-4f3e-8239-6a2d5baa6417",
   "metadata": {},
   "outputs": [
    {
     "data": {
      "text/plain": [
       "array('i', [9, 1, 3, 4])"
      ]
     },
     "execution_count": 18,
     "metadata": {},
     "output_type": "execute_result"
    }
   ],
   "source": [
    "arr1"
   ]
  },
  {
   "cell_type": "markdown",
   "id": "b93d1d6d-c03a-4c2d-b390-fe4ba26799dc",
   "metadata": {},
   "source": [
    "### time complexity O(n) & space complexity is O(1)"
   ]
  },
  {
   "cell_type": "code",
   "execution_count": 19,
   "id": "6eaee300-01c9-41d7-983e-126f168a9aec",
   "metadata": {},
   "outputs": [
    {
     "name": "stdout",
     "output_type": "stream",
     "text": [
      "9\n",
      "1\n",
      "3\n",
      "4\n"
     ]
    }
   ],
   "source": [
    "# traversal operation\n",
    "def traversal(arr):\n",
    "    for i in arr:\n",
    "        print(i)\n",
    "traversal(arr1)"
   ]
  },
  {
   "cell_type": "markdown",
   "id": "ea49d082-4f0b-4d2b-8989-95b8c341c640",
   "metadata": {},
   "source": [
    "## Access element in array\n",
    "### time complexity O(1) & space complexity is O(1)"
   ]
  },
  {
   "cell_type": "code",
   "execution_count": 23,
   "id": "5ec1ab11-e2a6-42b5-80d0-dbf5e98a3c80",
   "metadata": {},
   "outputs": [
    {
     "name": "stdout",
     "output_type": "stream",
     "text": [
      "this index isn't exsist\n"
     ]
    }
   ],
   "source": [
    "def access(arr,index):\n",
    "    if index >= len(arr):\n",
    "        print(\"this index isn't exsist\")\n",
    "    else:\n",
    "        print(arr[index])\n",
    "access(arr1,5)"
   ]
  },
  {
   "cell_type": "markdown",
   "id": "67dcae39-bbfd-4b7d-8a6c-ba397e8dc309",
   "metadata": {},
   "source": [
    "## Search element in array\n",
    "### time complexity O(n) & space complexity is O(1)"
   ]
  },
  {
   "cell_type": "code",
   "execution_count": 25,
   "id": "edaee527-fa24-4adb-8bb6-d763a33f0670",
   "metadata": {},
   "outputs": [
    {
     "data": {
      "text/plain": [
       "'value not found'"
      ]
     },
     "execution_count": 25,
     "metadata": {},
     "output_type": "execute_result"
    }
   ],
   "source": [
    "def searchin(arr,value):\n",
    "    for i in arr:\n",
    "        if i == value:\n",
    "            return arr.index(value)\n",
    "    return \"value not found\"\n",
    "searchin(arr1,12)"
   ]
  },
  {
   "cell_type": "markdown",
   "id": "8aa675db-eb59-4224-a3b9-1980c933bc75",
   "metadata": {},
   "source": [
    "## Delation\n",
    "### time complexity O(n) & space complexity is O(1)"
   ]
  },
  {
   "cell_type": "code",
   "execution_count": 26,
   "id": "63a2a6cd-94ff-4dd1-a79e-64f7fe68554a",
   "metadata": {},
   "outputs": [
    {
     "data": {
      "text/plain": [
       "array('i', [9, 1, 3, 4])"
      ]
     },
     "execution_count": 26,
     "metadata": {},
     "output_type": "execute_result"
    }
   ],
   "source": [
    "arr1"
   ]
  },
  {
   "cell_type": "code",
   "execution_count": 27,
   "id": "dc037769-763c-4cda-9bf0-2b7b1fccf55d",
   "metadata": {},
   "outputs": [],
   "source": [
    "arr1.remove(9)"
   ]
  },
  {
   "cell_type": "code",
   "execution_count": 28,
   "id": "0ac9a7f8-1587-42ba-abc8-ffdb12a0c177",
   "metadata": {},
   "outputs": [
    {
     "data": {
      "text/plain": [
       "array('i', [1, 3, 4])"
      ]
     },
     "execution_count": 28,
     "metadata": {},
     "output_type": "execute_result"
    }
   ],
   "source": [
    "arr1"
   ]
  },
  {
   "cell_type": "markdown",
   "id": "a0a23e0b-8ced-4a30-9026-d28b1f7dff69",
   "metadata": {},
   "source": [
    "## append"
   ]
  },
  {
   "cell_type": "code",
   "execution_count": 29,
   "id": "ab6f557c-1f76-4658-893b-00dec967dd98",
   "metadata": {},
   "outputs": [
    {
     "data": {
      "text/plain": [
       "array('i', [1, 3, 4])"
      ]
     },
     "execution_count": 29,
     "metadata": {},
     "output_type": "execute_result"
    }
   ],
   "source": [
    "arr1"
   ]
  },
  {
   "cell_type": "code",
   "execution_count": 30,
   "id": "228ba82e-9d65-480c-8569-ff2bd7bb961e",
   "metadata": {},
   "outputs": [],
   "source": [
    "arr1.append(90)"
   ]
  },
  {
   "cell_type": "code",
   "execution_count": 31,
   "id": "639187e9-020d-4566-b412-9ae2a6b48b68",
   "metadata": {},
   "outputs": [
    {
     "data": {
      "text/plain": [
       "array('i', [1, 3, 4, 90])"
      ]
     },
     "execution_count": 31,
     "metadata": {},
     "output_type": "execute_result"
    }
   ],
   "source": [
    "arr1"
   ]
  },
  {
   "cell_type": "markdown",
   "id": "ed7485af-2700-49f1-b72f-8beb2a337f79",
   "metadata": {},
   "source": [
    "## insert"
   ]
  },
  {
   "cell_type": "code",
   "execution_count": 32,
   "id": "079f21f1-2489-455f-a3e2-eac0fadf6525",
   "metadata": {},
   "outputs": [],
   "source": [
    "arr1.insert(0,12)"
   ]
  },
  {
   "cell_type": "code",
   "execution_count": 33,
   "id": "d70225aa-11e6-4eb8-845b-420b893d6727",
   "metadata": {},
   "outputs": [
    {
     "data": {
      "text/plain": [
       "array('i', [12, 1, 3, 4, 90])"
      ]
     },
     "execution_count": 33,
     "metadata": {},
     "output_type": "execute_result"
    }
   ],
   "source": [
    "arr1"
   ]
  },
  {
   "cell_type": "markdown",
   "id": "139381cd-81f1-4ff5-984d-eff7d5bb0c68",
   "metadata": {},
   "source": [
    "## extend"
   ]
  },
  {
   "cell_type": "code",
   "execution_count": 35,
   "id": "5a47941c-dd86-47bc-8d80-340dafe70b97",
   "metadata": {},
   "outputs": [
    {
     "data": {
      "text/plain": [
       "array('i', [0, 1, 4, 6])"
      ]
     },
     "execution_count": 35,
     "metadata": {},
     "output_type": "execute_result"
    }
   ],
   "source": [
    "arr1 = array('i',[1,4,6])\n",
    "new_array = array('i',[0])\n",
    "new_array.extend(arr1)\n",
    "new_array"
   ]
  },
  {
   "cell_type": "markdown",
   "id": "2409969c-5599-4bad-8a0c-951e611c18ff",
   "metadata": {},
   "source": [
    "## fromlist()"
   ]
  },
  {
   "cell_type": "code",
   "execution_count": 39,
   "id": "9c0dd2b2-a329-4832-9ff1-64f7f082300e",
   "metadata": {},
   "outputs": [],
   "source": [
    "templist = [99,67,78]\n",
    "new_array.fromlist(templist)"
   ]
  },
  {
   "cell_type": "code",
   "execution_count": 40,
   "id": "3d7d3e92-500e-4141-9597-bc961bfc6633",
   "metadata": {},
   "outputs": [
    {
     "data": {
      "text/plain": [
       "array('i', [0, 1, 4, 6, 1, 4, 6, 1, 4, 78, 99, 67, 78])"
      ]
     },
     "execution_count": 40,
     "metadata": {},
     "output_type": "execute_result"
    }
   ],
   "source": [
    "new_array"
   ]
  },
  {
   "cell_type": "markdown",
   "id": "9c357851-943f-4e9e-8240-da6c04c489ed",
   "metadata": {},
   "source": [
    "## remove()"
   ]
  },
  {
   "cell_type": "code",
   "execution_count": 43,
   "id": "cd8537b1-8723-4371-9d74-f1a56af4d6c1",
   "metadata": {},
   "outputs": [],
   "source": [
    "new_array.remove(0)"
   ]
  },
  {
   "cell_type": "code",
   "execution_count": 44,
   "id": "37378304-5fce-4bcf-aff9-bc3bf37fbe02",
   "metadata": {},
   "outputs": [
    {
     "data": {
      "text/plain": [
       "array('i', [1, 6, 1, 4, 6, 1, 4, 78, 99, 67, 78])"
      ]
     },
     "execution_count": 44,
     "metadata": {},
     "output_type": "execute_result"
    }
   ],
   "source": [
    "new_array"
   ]
  },
  {
   "cell_type": "markdown",
   "id": "7851bd56-6596-44a1-90e4-1c88c2cadb44",
   "metadata": {},
   "source": [
    "## pop()"
   ]
  },
  {
   "cell_type": "code",
   "execution_count": 45,
   "id": "a8557d6d-cf63-4e5e-b21c-8a18cd519e47",
   "metadata": {},
   "outputs": [
    {
     "data": {
      "text/plain": [
       "array('i', [1, 6, 1, 4, 6, 1, 4, 78, 99, 67, 78])"
      ]
     },
     "execution_count": 45,
     "metadata": {},
     "output_type": "execute_result"
    }
   ],
   "source": [
    "new_array"
   ]
  },
  {
   "cell_type": "code",
   "execution_count": 46,
   "id": "a75f7b0c-6e65-43eb-ba8d-025693e7e5b4",
   "metadata": {},
   "outputs": [
    {
     "data": {
      "text/plain": [
       "78"
      ]
     },
     "execution_count": 46,
     "metadata": {},
     "output_type": "execute_result"
    }
   ],
   "source": [
    "new_array.pop()"
   ]
  },
  {
   "cell_type": "code",
   "execution_count": 47,
   "id": "7377f28d-0c35-4e16-8def-3576651bfb0b",
   "metadata": {},
   "outputs": [
    {
     "data": {
      "text/plain": [
       "array('i', [1, 6, 1, 4, 6, 1, 4, 78, 99, 67])"
      ]
     },
     "execution_count": 47,
     "metadata": {},
     "output_type": "execute_result"
    }
   ],
   "source": [
    "new_array"
   ]
  },
  {
   "cell_type": "markdown",
   "id": "96b19dc4-8f19-4092-9a97-02f74f472dfb",
   "metadata": {},
   "source": [
    "## index()"
   ]
  },
  {
   "cell_type": "code",
   "execution_count": 49,
   "id": "ebdc08e2-1095-4304-bf8d-d5ed26b5b87f",
   "metadata": {},
   "outputs": [
    {
     "data": {
      "text/plain": [
       "7"
      ]
     },
     "execution_count": 49,
     "metadata": {},
     "output_type": "execute_result"
    }
   ],
   "source": [
    "new_array.index(78) ## it tell us index no on which value is exsist"
   ]
  },
  {
   "cell_type": "markdown",
   "id": "41db1587-42c7-42f4-8879-53442843a8e0",
   "metadata": {},
   "source": [
    "## reverse()"
   ]
  },
  {
   "cell_type": "code",
   "execution_count": 50,
   "id": "5cb29469-b328-4ff3-884c-e82a89aa651c",
   "metadata": {},
   "outputs": [],
   "source": [
    "new_array.reverse()"
   ]
  },
  {
   "cell_type": "code",
   "execution_count": 51,
   "id": "67b60635-f107-4d79-9913-5fe6caea4bf5",
   "metadata": {},
   "outputs": [
    {
     "data": {
      "text/plain": [
       "array('i', [67, 99, 78, 4, 1, 6, 4, 1, 6, 1])"
      ]
     },
     "execution_count": 51,
     "metadata": {},
     "output_type": "execute_result"
    }
   ],
   "source": [
    "new_array"
   ]
  },
  {
   "cell_type": "markdown",
   "id": "44778aee-b9fa-461e-8e43-e6fff127f79f",
   "metadata": {},
   "source": [
    "## buffer_info()"
   ]
  },
  {
   "cell_type": "code",
   "execution_count": 52,
   "id": "b1b1ad67-386a-4dd5-b835-8fbb5a122460",
   "metadata": {},
   "outputs": [
    {
     "data": {
      "text/plain": [
       "(1826090885104, 10)"
      ]
     },
     "execution_count": 52,
     "metadata": {},
     "output_type": "execute_result"
    }
   ],
   "source": [
    "new_array.buffer_info()"
   ]
  },
  {
   "cell_type": "markdown",
   "id": "db82e031-21fb-401f-8e8f-ddcb3676a952",
   "metadata": {},
   "source": [
    "## count()"
   ]
  },
  {
   "cell_type": "code",
   "execution_count": 54,
   "id": "d949f08b-fc72-4fbb-b1d8-461f2e01bd6e",
   "metadata": {},
   "outputs": [
    {
     "data": {
      "text/plain": [
       "2"
      ]
     },
     "execution_count": 54,
     "metadata": {},
     "output_type": "execute_result"
    }
   ],
   "source": [
    "new_array.count(4) ## it tell us how many times 4 is in our array"
   ]
  },
  {
   "cell_type": "markdown",
   "id": "09e80a74-d9e3-4989-8753-f721d11a3e23",
   "metadata": {},
   "source": [
    "## toslist()"
   ]
  },
  {
   "cell_type": "code",
   "execution_count": 56,
   "id": "bef762c6-afdc-4b71-a678-d3a85f0ddea0",
   "metadata": {},
   "outputs": [
    {
     "data": {
      "text/plain": [
       "[67, 99, 78, 4, 1, 6, 4, 1, 6, 1]"
      ]
     },
     "execution_count": 56,
     "metadata": {},
     "output_type": "execute_result"
    }
   ],
   "source": [
    "new_array.tolist()"
   ]
  },
  {
   "cell_type": "markdown",
   "id": "8180923b-cb5d-49b4-843f-402b9e06f980",
   "metadata": {},
   "source": [
    "## slice"
   ]
  },
  {
   "cell_type": "code",
   "execution_count": 57,
   "id": "509244a7-2d35-44da-bba7-b74806832081",
   "metadata": {},
   "outputs": [
    {
     "data": {
      "text/plain": [
       "array('i', [67, 99])"
      ]
     },
     "execution_count": 57,
     "metadata": {},
     "output_type": "execute_result"
    }
   ],
   "source": [
    "new_array[0:2]"
   ]
  },
  {
   "cell_type": "code",
   "execution_count": 2,
   "id": "2eeb79b5-8ee5-43db-908b-eeedc11bd8a7",
   "metadata": {},
   "outputs": [
    {
     "data": {
      "text/plain": [
       "6"
      ]
     },
     "execution_count": 2,
     "metadata": {},
     "output_type": "execute_result"
    }
   ],
   "source": [
    "arr =array('i',[1,3,2])\n",
    "sum(arr)"
   ]
  },
  {
   "cell_type": "code",
   "execution_count": null,
   "id": "1e62db21-2d7b-427e-9685-7e1b59b703ca",
   "metadata": {},
   "outputs": [],
   "source": []
  }
 ],
 "metadata": {
  "kernelspec": {
   "display_name": "Python 3 (ipykernel)",
   "language": "python",
   "name": "python3"
  },
  "language_info": {
   "codemirror_mode": {
    "name": "ipython",
    "version": 3
   },
   "file_extension": ".py",
   "mimetype": "text/x-python",
   "name": "python",
   "nbconvert_exporter": "python",
   "pygments_lexer": "ipython3",
   "version": "3.10.7"
  }
 },
 "nbformat": 4,
 "nbformat_minor": 5
}
