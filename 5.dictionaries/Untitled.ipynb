{
 "cells": [
  {
   "cell_type": "markdown",
   "id": "80213f31-ffa1-43fc-b571-dee6d87efcb9",
   "metadata": {},
   "source": [
    "## collection of key value pairs {key:value}\n",
    "## changeable ,No duplicate"
   ]
  },
  {
   "cell_type": "code",
   "execution_count": 1,
   "id": "c3ee18c5-27ee-436e-b257-12f28deb2a06",
   "metadata": {},
   "outputs": [],
   "source": [
    "address = {\"osman\":12123,\n",
    "          \"bilal\":465437,\n",
    "          \"awais\":754676}"
   ]
  },
  {
   "cell_type": "code",
   "execution_count": 2,
   "id": "c822020b-2dc4-44ee-bf67-725057f770e6",
   "metadata": {},
   "outputs": [
    {
     "data": {
      "text/plain": [
       "{'osman': 12123, 'bilal': 465437, 'awais': 754676}"
      ]
     },
     "execution_count": 2,
     "metadata": {},
     "output_type": "execute_result"
    }
   ],
   "source": [
    "address"
   ]
  },
  {
   "cell_type": "code",
   "execution_count": 3,
   "id": "88b2aed8-87a7-45d5-8d5b-a85a166f17c2",
   "metadata": {
    "scrolled": true
   },
   "outputs": [
    {
     "name": "stdout",
     "output_type": "stream",
     "text": [
      "Help on dict object:\n",
      "\n",
      "class dict(object)\n",
      " |  dict() -> new empty dictionary\n",
      " |  dict(mapping) -> new dictionary initialized from a mapping object's\n",
      " |      (key, value) pairs\n",
      " |  dict(iterable) -> new dictionary initialized as if via:\n",
      " |      d = {}\n",
      " |      for k, v in iterable:\n",
      " |          d[k] = v\n",
      " |  dict(**kwargs) -> new dictionary initialized with the name=value pairs\n",
      " |      in the keyword argument list.  For example:  dict(one=1, two=2)\n",
      " |\n",
      " |  Built-in subclasses:\n",
      " |      StgDict\n",
      " |\n",
      " |  Methods defined here:\n",
      " |\n",
      " |  __contains__(self, key, /)\n",
      " |      True if the dictionary has the specified key, else False.\n",
      " |\n",
      " |  __delitem__(self, key, /)\n",
      " |      Delete self[key].\n",
      " |\n",
      " |  __eq__(self, value, /)\n",
      " |      Return self==value.\n",
      " |\n",
      " |  __ge__(self, value, /)\n",
      " |      Return self>=value.\n",
      " |\n",
      " |  __getattribute__(self, name, /)\n",
      " |      Return getattr(self, name).\n",
      " |\n",
      " |  __getitem__(self, key, /)\n",
      " |      Return self[key].\n",
      " |\n",
      " |  __gt__(self, value, /)\n",
      " |      Return self>value.\n",
      " |\n",
      " |  __init__(self, /, *args, **kwargs)\n",
      " |      Initialize self.  See help(type(self)) for accurate signature.\n",
      " |\n",
      " |  __ior__(self, value, /)\n",
      " |      Return self|=value.\n",
      " |\n",
      " |  __iter__(self, /)\n",
      " |      Implement iter(self).\n",
      " |\n",
      " |  __le__(self, value, /)\n",
      " |      Return self<=value.\n",
      " |\n",
      " |  __len__(self, /)\n",
      " |      Return len(self).\n",
      " |\n",
      " |  __lt__(self, value, /)\n",
      " |      Return self<value.\n",
      " |\n",
      " |  __ne__(self, value, /)\n",
      " |      Return self!=value.\n",
      " |\n",
      " |  __or__(self, value, /)\n",
      " |      Return self|value.\n",
      " |\n",
      " |  __repr__(self, /)\n",
      " |      Return repr(self).\n",
      " |\n",
      " |  __reversed__(self, /)\n",
      " |      Return a reverse iterator over the dict keys.\n",
      " |\n",
      " |  __ror__(self, value, /)\n",
      " |      Return value|self.\n",
      " |\n",
      " |  __setitem__(self, key, value, /)\n",
      " |      Set self[key] to value.\n",
      " |\n",
      " |  __sizeof__(...)\n",
      " |      D.__sizeof__() -> size of D in memory, in bytes\n",
      " |\n",
      " |  clear(...)\n",
      " |      D.clear() -> None.  Remove all items from D.\n",
      " |\n",
      " |  copy(...)\n",
      " |      D.copy() -> a shallow copy of D\n",
      " |\n",
      " |  get(self, key, default=None, /)\n",
      " |      Return the value for key if key is in the dictionary, else default.\n",
      " |\n",
      " |  items(...)\n",
      " |      D.items() -> a set-like object providing a view on D's items\n",
      " |\n",
      " |  keys(...)\n",
      " |      D.keys() -> a set-like object providing a view on D's keys\n",
      " |\n",
      " |  pop(...)\n",
      " |      D.pop(k[,d]) -> v, remove specified key and return the corresponding value.\n",
      " |\n",
      " |      If the key is not found, return the default if given; otherwise,\n",
      " |      raise a KeyError.\n",
      " |\n",
      " |  popitem(self, /)\n",
      " |      Remove and return a (key, value) pair as a 2-tuple.\n",
      " |\n",
      " |      Pairs are returned in LIFO (last-in, first-out) order.\n",
      " |      Raises KeyError if the dict is empty.\n",
      " |\n",
      " |  setdefault(self, key, default=None, /)\n",
      " |      Insert key with a value of default if key is not in the dictionary.\n",
      " |\n",
      " |      Return the value for key if key is in the dictionary, else default.\n",
      " |\n",
      " |  update(...)\n",
      " |      D.update([E, ]**F) -> None.  Update D from dict/iterable E and F.\n",
      " |      If E is present and has a .keys() method, then does:  for k in E: D[k] = E[k]\n",
      " |      If E is present and lacks a .keys() method, then does:  for k, v in E: D[k] = v\n",
      " |      In either case, this is followed by: for k in F:  D[k] = F[k]\n",
      " |\n",
      " |  values(...)\n",
      " |      D.values() -> an object providing a view on D's values\n",
      " |\n",
      " |  ----------------------------------------------------------------------\n",
      " |  Class methods defined here:\n",
      " |\n",
      " |  __class_getitem__(...) from builtins.type\n",
      " |      See PEP 585\n",
      " |\n",
      " |  fromkeys(iterable, value=None, /) from builtins.type\n",
      " |      Create a new dictionary with keys from iterable and values set to value.\n",
      " |\n",
      " |  ----------------------------------------------------------------------\n",
      " |  Static methods defined here:\n",
      " |\n",
      " |  __new__(*args, **kwargs) from builtins.type\n",
      " |      Create and return a new object.  See help(type) for accurate signature.\n",
      " |\n",
      " |  ----------------------------------------------------------------------\n",
      " |  Data and other attributes defined here:\n",
      " |\n",
      " |  __hash__ = None\n",
      "\n"
     ]
    }
   ],
   "source": [
    "help(address)"
   ]
  },
  {
   "cell_type": "code",
   "execution_count": 4,
   "id": "4c052a81-1aec-45d9-a81e-b0012dd16ea5",
   "metadata": {},
   "outputs": [
    {
     "data": {
      "text/plain": [
       "12123"
      ]
     },
     "execution_count": 4,
     "metadata": {},
     "output_type": "execute_result"
    }
   ],
   "source": [
    "address.get(\"osman\")"
   ]
  },
  {
   "cell_type": "code",
   "execution_count": 6,
   "id": "333d4057-cef4-4c68-929e-5f339bdef72a",
   "metadata": {},
   "outputs": [
    {
     "name": "stdout",
     "output_type": "stream",
     "text": [
      "None\n"
     ]
    }
   ],
   "source": [
    "print(address.get(\"not present\"))"
   ]
  },
  {
   "cell_type": "code",
   "execution_count": 10,
   "id": "7f5f1499-9158-4efa-9a25-896d6180649c",
   "metadata": {},
   "outputs": [
    {
     "name": "stdout",
     "output_type": "stream",
     "text": [
      "mobile number not present\n"
     ]
    }
   ],
   "source": [
    "if address.get(\"osma\"):\n",
    "    print(\"mobile number is present\")\n",
    "else:\n",
    "    print(\"mobile number not present\")"
   ]
  },
  {
   "cell_type": "code",
   "execution_count": 12,
   "id": "de5aacdb-cfec-43f6-9c91-ee6656ba7632",
   "metadata": {},
   "outputs": [],
   "source": [
    "address.update({\"new_name\":43435})"
   ]
  },
  {
   "cell_type": "code",
   "execution_count": 13,
   "id": "9d8538c5-ebec-47eb-adb6-ea2127be69f5",
   "metadata": {},
   "outputs": [
    {
     "data": {
      "text/plain": [
       "{'osman': 12123, 'bilal': 465437, 'awais': 754676, 'new_name': 43435}"
      ]
     },
     "execution_count": 13,
     "metadata": {},
     "output_type": "execute_result"
    }
   ],
   "source": [
    "address"
   ]
  },
  {
   "cell_type": "code",
   "execution_count": 14,
   "id": "7546231b-e9c2-4ed3-a925-8a40cb049e8c",
   "metadata": {},
   "outputs": [
    {
     "name": "stdout",
     "output_type": "stream",
     "text": [
      "{'osman': 12123, 'bilal': 465437, 'awais': 754676, 'new_name': 43435}\n",
      "{'osman': 12, 'bilal': 465437, 'awais': 754676, 'new_name': 43435}\n"
     ]
    }
   ],
   "source": [
    "print(address)\n",
    "address.update({'osman':12})\n",
    "print(address)"
   ]
  },
  {
   "cell_type": "code",
   "execution_count": 17,
   "id": "747a848e-bdda-49d4-97c0-bea24eb8d57a",
   "metadata": {},
   "outputs": [
    {
     "name": "stdout",
     "output_type": "stream",
     "text": [
      "{'bilal': 465437, 'awais': 754676, 'new_name': 43435}\n",
      "{'awais': 754676, 'new_name': 43435}\n"
     ]
    }
   ],
   "source": [
    "print(address)\n",
    "address.pop('bilal')\n",
    "print(address)"
   ]
  },
  {
   "cell_type": "code",
   "execution_count": 18,
   "id": "583aa655-3a97-4c87-a3cd-c42547121e48",
   "metadata": {},
   "outputs": [
    {
     "name": "stdout",
     "output_type": "stream",
     "text": [
      "{'awais': 754676, 'new_name': 43435, 'latest': 45647}\n",
      "{'awais': 754676, 'new_name': 43435}\n"
     ]
    }
   ],
   "source": [
    "address.update({'latest':45647})\n",
    "print(address)\n",
    "address.popitem()\n",
    "print(address)"
   ]
  },
  {
   "cell_type": "code",
   "execution_count": 19,
   "id": "da9f6dbe-6a4b-42c2-b001-40dbb0895b45",
   "metadata": {},
   "outputs": [],
   "source": [
    "# address.clear()"
   ]
  },
  {
   "cell_type": "code",
   "execution_count": 21,
   "id": "2a2ff1b4-1c7d-4bd7-947f-c75b2b03c3d5",
   "metadata": {},
   "outputs": [
    {
     "data": {
      "text/plain": [
       "dict_keys(['awais', 'new_name'])"
      ]
     },
     "execution_count": 21,
     "metadata": {},
     "output_type": "execute_result"
    }
   ],
   "source": [
    "address.keys()"
   ]
  },
  {
   "cell_type": "code",
   "execution_count": 23,
   "id": "8d334b9a-09b6-4a71-96d3-0ae96a0f1143",
   "metadata": {},
   "outputs": [
    {
     "name": "stdout",
     "output_type": "stream",
     "text": [
      "awais\n",
      "new_name\n"
     ]
    }
   ],
   "source": [
    "for key in address.keys():\n",
    "    print(key)\n"
   ]
  },
  {
   "cell_type": "code",
   "execution_count": 26,
   "id": "4cd1fd23-5ecf-46b7-8e29-864545ba895c",
   "metadata": {},
   "outputs": [
    {
     "data": {
      "text/plain": [
       "dict_values([754676, 43435])"
      ]
     },
     "execution_count": 26,
     "metadata": {},
     "output_type": "execute_result"
    }
   ],
   "source": [
    "address.values()"
   ]
  },
  {
   "cell_type": "code",
   "execution_count": 27,
   "id": "fa2aafbf-4669-480f-a782-d1b10152c94a",
   "metadata": {},
   "outputs": [
    {
     "data": {
      "text/plain": [
       "dict_items([('awais', 754676), ('new_name', 43435)])"
      ]
     },
     "execution_count": 27,
     "metadata": {},
     "output_type": "execute_result"
    }
   ],
   "source": [
    "address.items()"
   ]
  },
  {
   "cell_type": "code",
   "execution_count": 28,
   "id": "5b0a4427-12d7-4080-bd40-164118897fa1",
   "metadata": {},
   "outputs": [
    {
     "name": "stdout",
     "output_type": "stream",
     "text": [
      "awais:754676\n",
      "new_name:43435\n"
     ]
    }
   ],
   "source": [
    "for key,value in address.items():\n",
    "    print(f\"{key}:{value}\")"
   ]
  },
  {
   "cell_type": "code",
   "execution_count": null,
   "id": "e2a40efb-6980-4bd8-9b1b-5975f73aee77",
   "metadata": {},
   "outputs": [],
   "source": []
  }
 ],
 "metadata": {
  "kernelspec": {
   "display_name": "Python 3 (ipykernel)",
   "language": "python",
   "name": "python3"
  },
  "language_info": {
   "codemirror_mode": {
    "name": "ipython",
    "version": 3
   },
   "file_extension": ".py",
   "mimetype": "text/x-python",
   "name": "python",
   "nbconvert_exporter": "python",
   "pygments_lexer": "ipython3",
   "version": "3.12.0"
  }
 },
 "nbformat": 4,
 "nbformat_minor": 5
}
