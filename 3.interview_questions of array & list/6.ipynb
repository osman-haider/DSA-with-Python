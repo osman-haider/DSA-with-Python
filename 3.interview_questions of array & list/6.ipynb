{
 "cells": [
  {
   "cell_type": "code",
   "execution_count": 3,
   "id": "50f02207-8c0c-4465-86e6-965263ec13b3",
   "metadata": {},
   "outputs": [
    {
     "data": {
      "text/plain": [
       "'1 1'"
      ]
     },
     "execution_count": 3,
     "metadata": {},
     "output_type": "execute_result"
    }
   ],
   "source": [
    "def compareTriplets(a, b):\n",
    "    # Write your code here\n",
    "    Alice = 0\n",
    "    Bob = 0\n",
    "    if 1 <= len(a) <= 100 and 1 <= len(b) <= 100:\n",
    "        for i in range(len(a)):\n",
    "            if a[i] > b[i]:\n",
    "                Alice += 1\n",
    "            elif a[i] < b[i]:\n",
    "                Bob += 1\n",
    "    return f\"{Alice} {Bob}\"\n",
    "a=[5,6,7]\n",
    "b=[3,6,10]\n",
    "compareTriplets(a,b)\n"
   ]
  },
  {
   "cell_type": "code",
   "execution_count": 4,
   "id": "082aa778-0496-4803-8385-f7d0eb295cf1",
   "metadata": {},
   "outputs": [],
   "source": [
    "my_array = [1000000001, 1000000002, 1000000003, 1000000004, 1000000005]"
   ]
  },
  {
   "cell_type": "code",
   "execution_count": 5,
   "id": "34f99c66-5f88-4bae-bad0-a6359a717fcf",
   "metadata": {},
   "outputs": [
    {
     "data": {
      "text/plain": [
       "5000000015"
      ]
     },
     "execution_count": 5,
     "metadata": {},
     "output_type": "execute_result"
    }
   ],
   "source": [
    "sum(my_array)"
   ]
  },
  {
   "cell_type": "code",
   "execution_count": null,
   "id": "2f54d915-b6d9-4265-aa2b-1b8fda37109c",
   "metadata": {},
   "outputs": [],
   "source": []
  }
 ],
 "metadata": {
  "kernelspec": {
   "display_name": "Python 3 (ipykernel)",
   "language": "python",
   "name": "python3"
  },
  "language_info": {
   "codemirror_mode": {
    "name": "ipython",
    "version": 3
   },
   "file_extension": ".py",
   "mimetype": "text/x-python",
   "name": "python",
   "nbconvert_exporter": "python",
   "pygments_lexer": "ipython3",
   "version": "3.10.7"
  }
 },
 "nbformat": 4,
 "nbformat_minor": 5
}
