{
 "cells": [
  {
   "cell_type": "markdown",
   "id": "28fb735e-e439-428c-a330-2fd430d0327d",
   "metadata": {},
   "source": [
    "## how we search an array comtain a number in python"
   ]
  },
  {
   "cell_type": "code",
   "execution_count": 1,
   "id": "6ec28901-8ab3-49ef-bb5f-ef5f0deeddec",
   "metadata": {},
   "outputs": [],
   "source": [
    "def searchelement(arr,value):\n",
    "    for x in range(len(arr)):\n",
    "        if arr[x] == value:\n",
    "            return \"yes\"\n",
    "\n",
    "    return \"no\""
   ]
  },
  {
   "cell_type": "code",
   "execution_count": 2,
   "id": "8ee4ef8c-0174-498f-8f84-bac28848c1cb",
   "metadata": {},
   "outputs": [],
   "source": [
    "import numpy as np"
   ]
  },
  {
   "cell_type": "code",
   "execution_count": 5,
   "id": "f744d50a-3fa2-46bc-a046-3191f2f73b6f",
   "metadata": {},
   "outputs": [],
   "source": [
    "arr = np.array([1,4,3,6])"
   ]
  },
  {
   "cell_type": "code",
   "execution_count": 7,
   "id": "45933231-b3ed-4987-86d2-b2e4b22bf414",
   "metadata": {},
   "outputs": [
    {
     "data": {
      "text/plain": [
       "'yes'"
      ]
     },
     "execution_count": 7,
     "metadata": {},
     "output_type": "execute_result"
    }
   ],
   "source": [
    "searchelement(arr,3)"
   ]
  },
  {
   "cell_type": "code",
   "execution_count": null,
   "id": "c121ccbb-9574-49c7-98df-43fe3a4e75a4",
   "metadata": {},
   "outputs": [],
   "source": []
  }
 ],
 "metadata": {
  "kernelspec": {
   "display_name": "Python 3 (ipykernel)",
   "language": "python",
   "name": "python3"
  },
  "language_info": {
   "codemirror_mode": {
    "name": "ipython",
    "version": 3
   },
   "file_extension": ".py",
   "mimetype": "text/x-python",
   "name": "python",
   "nbconvert_exporter": "python",
   "pygments_lexer": "ipython3",
   "version": "3.10.7"
  }
 },
 "nbformat": 4,
 "nbformat_minor": 5
}
