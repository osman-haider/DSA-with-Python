{
 "cells": [
  {
   "cell_type": "markdown",
   "id": "c9ed3d4a-ba44-47f7-aec1-4b1a8f669829",
   "metadata": {},
   "source": [
    "## how to find maximum product of two integers in the array where all elements are positive"
   ]
  },
  {
   "cell_type": "code",
   "execution_count": 2,
   "id": "332b4bd0-6d4c-4e02-b539-6d1d70c7c8b7",
   "metadata": {},
   "outputs": [],
   "source": [
    "import numpy as np"
   ]
  },
  {
   "cell_type": "code",
   "execution_count": 12,
   "id": "9a35db0b-7ab1-438e-9e3b-285f7ce0e38d",
   "metadata": {},
   "outputs": [],
   "source": [
    "arr = np.array([2,4,2,6,8,3,4,2,-68])"
   ]
  },
  {
   "cell_type": "code",
   "execution_count": 17,
   "id": "6160c8e4-349a-44d7-8ff3-41357117c4c2",
   "metadata": {},
   "outputs": [],
   "source": [
    "def maxoftwoint(arr):\n",
    "    max = 0\n",
    "    for m in range(len(arr)):\n",
    "        if arr[m] > 0:\n",
    "            for n in range(m+1,len(arr)):\n",
    "                sum = arr[m]*arr[n]\n",
    "                if sum > max:\n",
    "                    max = sum\n",
    "                    pairs = str(arr[m]) + \" , \" + str(arr[n])\n",
    "    print(max)\n",
    "    print(pairs)"
   ]
  },
  {
   "cell_type": "code",
   "execution_count": 18,
   "id": "b281322f-4d96-4447-813e-4f7d7a93567e",
   "metadata": {},
   "outputs": [
    {
     "name": "stdout",
     "output_type": "stream",
     "text": [
      "48\n",
      "6 , 8\n"
     ]
    }
   ],
   "source": [
    "maxoftwoint(arr)"
   ]
  },
  {
   "cell_type": "code",
   "execution_count": null,
   "id": "9d4bc1a3-0e54-4f46-9d33-7ab04310bef6",
   "metadata": {},
   "outputs": [],
   "source": []
  }
 ],
 "metadata": {
  "kernelspec": {
   "display_name": "Python 3 (ipykernel)",
   "language": "python",
   "name": "python3"
  },
  "language_info": {
   "codemirror_mode": {
    "name": "ipython",
    "version": 3
   },
   "file_extension": ".py",
   "mimetype": "text/x-python",
   "name": "python",
   "nbconvert_exporter": "python",
   "pygments_lexer": "ipython3",
   "version": "3.10.7"
  }
 },
 "nbformat": 4,
 "nbformat_minor": 5
}
