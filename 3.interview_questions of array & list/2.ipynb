{
 "cells": [
  {
   "cell_type": "markdown",
   "id": "71e57160-4089-4550-b24a-abf666043f9c",
   "metadata": {},
   "source": [
    "## write program to find all pairs of integers whose sum is equal to given number"
   ]
  },
  {
   "cell_type": "code",
   "execution_count": 24,
   "id": "59d73fa4-bfe8-4a42-8ea8-cc1f0a980c46",
   "metadata": {},
   "outputs": [],
   "source": [
    "def findpairs(arr,value):\n",
    "    for m in range(len(arr)):\n",
    "        for n in range(m+1,len(arr)):\n",
    "            if arr[m]+arr[n] == value:\n",
    "                return f\"{m},{n}\"\n",
    "\n",
    "    return \"value not present\"\n",
    "        "
   ]
  },
  {
   "cell_type": "code",
   "execution_count": 25,
   "id": "22bda071-d230-4a09-9c41-7dfcd9782f19",
   "metadata": {},
   "outputs": [
    {
     "data": {
      "text/plain": [
       "'value not present'"
      ]
     },
     "execution_count": 25,
     "metadata": {},
     "output_type": "execute_result"
    }
   ],
   "source": [
    "arr = [1,2,4,3]\n",
    "value = 8\n",
    "findpairs(arr,value)"
   ]
  },
  {
   "cell_type": "code",
   "execution_count": 12,
   "id": "37d10c6e-998c-4761-99ee-e9fc18033eba",
   "metadata": {},
   "outputs": [
    {
     "name": "stdout",
     "output_type": "stream",
     "text": [
      "3\n",
      "5\n",
      "4\n",
      "6\n",
      "5\n",
      "7\n"
     ]
    }
   ],
   "source": [
    "for m in range(len(arr)):\n",
    "    for n in range(m+1,len(arr)):\n",
    "        print(arr[m]+arr[n])"
   ]
  },
  {
   "cell_type": "code",
   "execution_count": 9,
   "id": "0d94af02-a311-4f1c-b13f-eb4fb51ff222",
   "metadata": {},
   "outputs": [
    {
     "name": "stdout",
     "output_type": "stream",
     "text": [
      "0\n",
      "1\n",
      "2\n",
      "3\n"
     ]
    }
   ],
   "source": [
    "for m in range(len(arr)):\n",
    "    print(m)"
   ]
  },
  {
   "cell_type": "code",
   "execution_count": null,
   "id": "bb8146ed-17ca-4d76-89f7-20fd0a1172a4",
   "metadata": {},
   "outputs": [],
   "source": []
  }
 ],
 "metadata": {
  "kernelspec": {
   "display_name": "Python 3 (ipykernel)",
   "language": "python",
   "name": "python3"
  },
  "language_info": {
   "codemirror_mode": {
    "name": "ipython",
    "version": 3
   },
   "file_extension": ".py",
   "mimetype": "text/x-python",
   "name": "python",
   "nbconvert_exporter": "python",
   "pygments_lexer": "ipython3",
   "version": "3.10.7"
  }
 },
 "nbformat": 4,
 "nbformat_minor": 5
}
