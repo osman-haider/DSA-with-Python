{
 "cells": [
  {
   "cell_type": "markdown",
   "id": "67630381-cb28-4a37-a1b6-66977b881eb9",
   "metadata": {},
   "source": [
    "## find missing values"
   ]
  },
  {
   "cell_type": "code",
   "execution_count": 1,
   "id": "7e1571c8-0771-426b-aa73-ed225cf91439",
   "metadata": {},
   "outputs": [],
   "source": [
    "def findmissing(list,n):\n",
    "    sum1 = 10*11/2\n",
    "    sum2 = sum(list)\n",
    "    print(sum1-sum2)"
   ]
  },
  {
   "cell_type": "code",
   "execution_count": 2,
   "id": "be5e5060-2e4c-44ca-9af3-1dc21ad66d9c",
   "metadata": {},
   "outputs": [
    {
     "name": "stdout",
     "output_type": "stream",
     "text": [
      "39.0\n"
     ]
    }
   ],
   "source": [
    "l1 = [1,3,2,10]\n",
    "findmissing(l1,10)"
   ]
  },
  {
   "cell_type": "code",
   "execution_count": 4,
   "id": "3f3aa66a-b0c0-4e32-8072-37be32baa05e",
   "metadata": {},
   "outputs": [
    {
     "data": {
      "text/plain": [
       "10"
      ]
     },
     "execution_count": 4,
     "metadata": {},
     "output_type": "execute_result"
    }
   ],
   "source": [
    "max(l1)"
   ]
  },
  {
   "cell_type": "code",
   "execution_count": 10,
   "id": "6e27fb22-42b0-4d6b-aa31-9d0233297dd8",
   "metadata": {},
   "outputs": [],
   "source": [
    "empty_list = []\n",
    "for x in range(max(l1)+1):\n",
    "    if x not in l1:\n",
    "        empty_list.append(x)"
   ]
  },
  {
   "cell_type": "code",
   "execution_count": 13,
   "id": "c918a078-3cd5-480e-aa07-e6807f6599f3",
   "metadata": {},
   "outputs": [
    {
     "data": {
      "text/plain": [
       "[0, 4, 5, 6, 7, 8, 9]"
      ]
     },
     "execution_count": 13,
     "metadata": {},
     "output_type": "execute_result"
    }
   ],
   "source": [
    "empty_list"
   ]
  },
  {
   "cell_type": "code",
   "execution_count": 14,
   "id": "24238da4-5984-435e-925c-c017161947f2",
   "metadata": {},
   "outputs": [
    {
     "data": {
      "text/plain": [
       "{1, 2, 3, 10}"
      ]
     },
     "execution_count": 14,
     "metadata": {},
     "output_type": "execute_result"
    }
   ],
   "source": [
    "set(l1)"
   ]
  },
  {
   "cell_type": "code",
   "execution_count": null,
   "id": "ca90c13e-0de2-4250-a7ab-a3ebf82e98c2",
   "metadata": {},
   "outputs": [],
   "source": []
  }
 ],
 "metadata": {
  "kernelspec": {
   "display_name": "Python 3 (ipykernel)",
   "language": "python",
   "name": "python3"
  },
  "language_info": {
   "codemirror_mode": {
    "name": "ipython",
    "version": 3
   },
   "file_extension": ".py",
   "mimetype": "text/x-python",
   "name": "python",
   "nbconvert_exporter": "python",
   "pygments_lexer": "ipython3",
   "version": "3.10.7"
  }
 },
 "nbformat": 4,
 "nbformat_minor": 5
}
