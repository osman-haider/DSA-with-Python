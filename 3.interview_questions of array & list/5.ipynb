{
 "cells": [
  {
   "cell_type": "markdown",
   "id": "ada71b03-2f73-43a9-be98-9d42700de1d6",
   "metadata": {},
   "source": [
    "## return true if list has unique value else false"
   ]
  },
  {
   "cell_type": "code",
   "execution_count": 4,
   "id": "7709e4a5-1041-4e0b-96bc-f2250de8e23f",
   "metadata": {},
   "outputs": [],
   "source": [
    "li = [2,5,3,7,4,2]"
   ]
  },
  {
   "cell_type": "code",
   "execution_count": 5,
   "id": "95fdc8af-2255-498d-b1eb-dcd6fb8e4836",
   "metadata": {},
   "outputs": [],
   "source": [
    "def uniqe(list):\n",
    "    emptylist = []\n",
    "    for x in list:\n",
    "        if x in emptylist:\n",
    "            return False\n",
    "        else:\n",
    "            emptylist.append(x)\n",
    "    return True"
   ]
  },
  {
   "cell_type": "code",
   "execution_count": 6,
   "id": "dd806ebf-c6bc-47be-b4bd-8a444211baf5",
   "metadata": {},
   "outputs": [
    {
     "data": {
      "text/plain": [
       "False"
      ]
     },
     "execution_count": 6,
     "metadata": {},
     "output_type": "execute_result"
    }
   ],
   "source": [
    "uniqe(li)"
   ]
  },
  {
   "cell_type": "code",
   "execution_count": null,
   "id": "8bcd0adb-9eb9-43d9-8668-e10310149e54",
   "metadata": {},
   "outputs": [],
   "source": []
  }
 ],
 "metadata": {
  "kernelspec": {
   "display_name": "Python 3 (ipykernel)",
   "language": "python",
   "name": "python3"
  },
  "language_info": {
   "codemirror_mode": {
    "name": "ipython",
    "version": 3
   },
   "file_extension": ".py",
   "mimetype": "text/x-python",
   "name": "python",
   "nbconvert_exporter": "python",
   "pygments_lexer": "ipython3",
   "version": "3.10.7"
  }
 },
 "nbformat": 4,
 "nbformat_minor": 5
}
