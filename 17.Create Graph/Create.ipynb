{
 "cells": [
  {
   "cell_type": "code",
   "execution_count": 3,
   "id": "b0ef89ff-25f5-48ce-9f2e-1b829e581480",
   "metadata": {},
   "outputs": [],
   "source": [
    "class Graph:\n",
    "    def __init__(self, gdict=None):\n",
    "        if gdict is None:\n",
    "            gdict = {}\n",
    "        self.gdict = gdict\n",
    "    \n",
    "    def addEdge(self, vertex, edge):\n",
    "        self.gdict[vertex].append(edge)"
   ]
  },
  {
   "cell_type": "code",
   "execution_count": 12,
   "id": "da277e4e-0620-4218-a32c-30dd0c932936",
   "metadata": {},
   "outputs": [],
   "source": [
    "customDict = { \"a\" : [\"b\",\"c\"],\n",
    "            \"b\" : [\"a\", \"d\", \"e\"],\n",
    "            \"c\" : [\"a\", \"e\"],\n",
    "            \"d\" : [\"b\", \"e\", \"f\"],\n",
    "            \"e\" : [\"d\", \"f\", \"c\"],\n",
    "            \"f\" : [\"d\", \"e\"]\n",
    "               }\n",
    "\n",
    "\n",
    "\n",
    "graph = Graph(customDict)\n",
    "graph.addEdge('a','c')"
   ]
  },
  {
   "cell_type": "code",
   "execution_count": 16,
   "id": "d6ebb0de-a3fb-4151-adcc-e10686724206",
   "metadata": {},
   "outputs": [
    {
     "name": "stdout",
     "output_type": "stream",
     "text": [
      "['a', 'd', 'e']\n"
     ]
    }
   ],
   "source": [
    "print(graph.gdict['b'])"
   ]
  },
  {
   "cell_type": "code",
   "execution_count": null,
   "id": "497c4180-1fb1-486c-9458-09e019f719bc",
   "metadata": {},
   "outputs": [],
   "source": []
  }
 ],
 "metadata": {
  "kernelspec": {
   "display_name": "Python 3 (ipykernel)",
   "language": "python",
   "name": "python3"
  },
  "language_info": {
   "codemirror_mode": {
    "name": "ipython",
    "version": 3
   },
   "file_extension": ".py",
   "mimetype": "text/x-python",
   "name": "python",
   "nbconvert_exporter": "python",
   "pygments_lexer": "ipython3",
   "version": "3.10.7"
  }
 },
 "nbformat": 4,
 "nbformat_minor": 5
}
