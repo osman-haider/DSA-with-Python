{
 "cells": [
  {
   "cell_type": "code",
   "execution_count": 4,
   "id": "1abad327-85eb-44f3-a83c-d76e0359edb1",
   "metadata": {},
   "outputs": [],
   "source": [
    "class BST:\n",
    "    def __init__(self,data): \n",
    "        self.data = data\n",
    "        self.leftChild = None\n",
    "        self.rightChild = None\n",
    "\n",
    "def InsertNode(rootNode, Nodevalue): # time and space complexity is O(logN)\n",
    "    if rootNode.data == None:\n",
    "        rootNode.data = Nodevalue\n",
    "    elif Nodevalue <= rootNode.data:\n",
    "        if rootNode.leftChild is None:\n",
    "            rootNode.leftChild = BST(Nodevalue)\n",
    "        else:\n",
    "            InsertNode(rootNode.leftChild, Nodevalue)\n",
    "    else:\n",
    "        if rootNode.rightChild is None:\n",
    "            rootNode.rightChild = BST(Nodevalue)\n",
    "        else:\n",
    "            InsertNode(rootNode.rightChild, Nodevalue)\n",
    "\n",
    "    return \"Node is inserted\""
   ]
  },
  {
   "cell_type": "code",
   "execution_count": 14,
   "id": "1b3288e1-cdcb-4932-9191-28eb6f6936b6",
   "metadata": {},
   "outputs": [],
   "source": [
    "def searchNode(rootNode, nodeValue): # time complexity is O(logN) and space complexity is O(logN)\n",
    "    if rootNode is None:\n",
    "        return \"Value not found\"\n",
    "    \n",
    "    if rootNode.data == nodeValue:\n",
    "        return \"The value is found\"\n",
    "    elif nodeValue < rootNode.data:\n",
    "        if rootNode.leftChild is not None:\n",
    "            return searchNode(rootNode.leftChild, nodeValue)\n",
    "        else:\n",
    "            return \"Value not found\"\n",
    "    else:\n",
    "        if rootNode.rightChild is not None:\n",
    "            return searchNode(rootNode.rightChild, nodeValue)\n",
    "        else:\n",
    "            return \"Value not found\"\n"
   ]
  },
  {
   "cell_type": "code",
   "execution_count": 23,
   "id": "d7699a2e-260a-4104-8751-a357cb239c16",
   "metadata": {},
   "outputs": [],
   "source": [
    "def minValueNode(bstNode):\n",
    "    current = bstNode\n",
    "    while (current.leftChild is not None):\n",
    "        current = current.leftChild\n",
    "    return current.data"
   ]
  },
  {
   "cell_type": "code",
   "execution_count": 24,
   "id": "795c710d-06d5-4116-8c65-2612676cee81",
   "metadata": {},
   "outputs": [
    {
     "data": {
      "text/plain": [
       "'Node is inserted'"
      ]
     },
     "execution_count": 24,
     "metadata": {},
     "output_type": "execute_result"
    }
   ],
   "source": [
    "newBST = BST(None)\n",
    "InsertNode(newBST, 70)\n",
    "InsertNode(newBST,50)\n",
    "InsertNode(newBST,90)\n",
    "InsertNode(newBST, 30)\n",
    "InsertNode(newBST,60)\n",
    "InsertNode(newBST,80)\n",
    "InsertNode(newBST,100)\n",
    "InsertNode(newBST,20)\n",
    "InsertNode(newBST,40)"
   ]
  },
  {
   "cell_type": "code",
   "execution_count": 25,
   "id": "fafe123d-c951-4120-825a-4d420b73a2f6",
   "metadata": {},
   "outputs": [
    {
     "data": {
      "text/plain": [
       "'The value is found'"
      ]
     },
     "execution_count": 25,
     "metadata": {},
     "output_type": "execute_result"
    }
   ],
   "source": [
    "searchNode(newBST,100)"
   ]
  },
  {
   "cell_type": "code",
   "execution_count": 26,
   "id": "b4d42f8f-09cc-4802-b943-964bde28db6f",
   "metadata": {},
   "outputs": [
    {
     "data": {
      "text/plain": [
       "20"
      ]
     },
     "execution_count": 26,
     "metadata": {},
     "output_type": "execute_result"
    }
   ],
   "source": [
    "minValueNode(newBST)"
   ]
  },
  {
   "cell_type": "code",
   "execution_count": null,
   "id": "27797b7b-e4de-43f3-a9c0-817b36098a42",
   "metadata": {},
   "outputs": [],
   "source": []
  }
 ],
 "metadata": {
  "kernelspec": {
   "display_name": "Python 3 (ipykernel)",
   "language": "python",
   "name": "python3"
  },
  "language_info": {
   "codemirror_mode": {
    "name": "ipython",
    "version": 3
   },
   "file_extension": ".py",
   "mimetype": "text/x-python",
   "name": "python",
   "nbconvert_exporter": "python",
   "pygments_lexer": "ipython3",
   "version": "3.10.7"
  }
 },
 "nbformat": 4,
 "nbformat_minor": 5
}
