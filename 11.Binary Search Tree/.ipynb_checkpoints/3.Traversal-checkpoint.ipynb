{
 "cells": [
  {
   "cell_type": "code",
   "execution_count": 16,
   "id": "b20dc4e2-b6a8-4426-97e2-8a57937f6ff9",
   "metadata": {},
   "outputs": [],
   "source": [
    "class Node:\n",
    "    def __init__(self, value=None):\n",
    "        self.value = value\n",
    "        self.next = None\n",
    "    \n",
    "    def __str__(self):\n",
    "        return str(self.value)\n",
    "        \n",
    "class LinkedList:\n",
    "    def __init__(self):\n",
    "        self.head = None\n",
    "        self.tail = None\n",
    "\n",
    "    def __iter__(self):\n",
    "        current = self.head\n",
    "        while current:\n",
    "            yield current.value\n",
    "            current = current.next\n",
    "\n",
    "class Queue:\n",
    "    def __init__(self):\n",
    "        self.linkedList = LinkedList()\n",
    "    \n",
    "    def __str__(self):\n",
    "        values = [str(x) for x in self.linkedList]\n",
    "        return ' '.join(values)\n",
    "    \n",
    "    def enqueue(self, value):\n",
    "        newNode = Node(value)\n",
    "        if self.linkedList.head == None:\n",
    "            self.linkedList.head = newNode\n",
    "            self.linkedList.tail = newNode\n",
    "        else:\n",
    "            self.linkedList.tail.next = newNode\n",
    "            self.linkedList.tail = newNode\n",
    "    \n",
    "    def isEmpty(self):\n",
    "        if self.linkedList.head == None:\n",
    "            return True\n",
    "        else:\n",
    "            return False\n",
    "    \n",
    "    def dequeue(self):\n",
    "        if self.isEmpty():\n",
    "            return \"There is not any node in the Queue\"\n",
    "        else:\n",
    "            tempNode = self.linkedList.head\n",
    "            if self.linkedList.head == self.linkedList.tail:\n",
    "                self.linkedList.head = None\n",
    "                self.linkedList.tail = None\n",
    "            else:\n",
    "                self.linkedList.head = self.linkedList.head.next\n",
    "            return tempNode"
   ]
  },
  {
   "cell_type": "code",
   "execution_count": 1,
   "id": "35b7fdac-8c26-4b6b-8b70-00b062b321ca",
   "metadata": {},
   "outputs": [],
   "source": [
    "class BST:\n",
    "    def __init__(self,data): \n",
    "        self.data = data\n",
    "        self.leftChild = None\n",
    "        self.rightChild = None"
   ]
  },
  {
   "cell_type": "code",
   "execution_count": 2,
   "id": "fbed611a-5391-4d54-a437-6940ba778845",
   "metadata": {},
   "outputs": [],
   "source": [
    "def InsertNode(rootNode, Nodevalue): # time and space complexity is O(logN)\n",
    "    if rootNode.data == None:\n",
    "        rootNode.data = Nodevalue\n",
    "    elif Nodevalue <= rootNode.data:\n",
    "        if rootNode.leftChild is None:\n",
    "            rootNode.leftChild = BST(Nodevalue)\n",
    "        else:\n",
    "            InsertNode(rootNode.leftChild, Nodevalue)\n",
    "    else:def InsertNode(rootNode, Nodevalue): # time and space complexity is O(logN)\n",
    "    if rootNode.data == None:\n",
    "        rootNode.data = Nodevalue\n",
    "    elif Nodevalue <= rootNode.data:\n",
    "        if rootNode.leftChild is None:\n",
    "            rootNode.leftChild = BST(Nodevalue)\n",
    "        else:\n",
    "            InsertNode(rootNode.leftChild, Nodevalue)\n",
    "    else:\n",
    "        if rootNode.rightChild is None:\n",
    "            rootNode.rightChild = BST(Nodevalue)\n",
    "        else:\n",
    "            InsertNode(rootNode.rightChild, Nodevalue)\n",
    "\n",
    "    return \"Node is inserted\"\n",
    "        if rootNode.rightChild is None:\n",
    "            rootNode.rightChild = BST(Nodevalue)\n",
    "        else:\n",
    "            InsertNode(rootNode.rightChild, Nodevalue)\n",
    "\n",
    "    return \"Node is inserted\""
   ]
  },
  {
   "cell_type": "code",
   "execution_count": 18,
   "id": "1727c9cc-1a57-4597-8c28-d6c51d2d9378",
   "metadata": {},
   "outputs": [],
   "source": [
    "def preOrderTraversal(rootNode): # time complexity is O(n) and space complexity is O(n)\n",
    "    if not rootNode:\n",
    "        return\n",
    "    print(rootNode.data)\n",
    "    preOrderTraversal(rootNode.leftChild)\n",
    "    preOrderTraversal(rootNode.rightChild)"
   ]
  },
  {
   "cell_type": "code",
   "execution_count": 4,
   "id": "50787c20-cf3b-44c4-abf1-a1506ea250e5",
   "metadata": {},
   "outputs": [],
   "source": [
    "def inOrderTraversal(rootNode): # time complexity is O(n) and space complexity is O(n)\n",
    "    if not rootNode:\n",
    "        return\n",
    "    inOrderTraversal(rootNode.leftChild)\n",
    "    print(rootNode.data)\n",
    "    inOrderTraversal(rootNode.rightChild)"
   ]
  },
  {
   "cell_type": "code",
   "execution_count": 5,
   "id": "2d4dd4a7-096c-4bdf-9df2-acb8ad0c1c76",
   "metadata": {},
   "outputs": [],
   "source": [
    "def postOrderTraversal(rootNode): # time complexity is O(n) and space complexity is O(n)\n",
    "    if not rootNode:\n",
    "        return\n",
    "    postOrderTraversal(rootNode.leftChild)\n",
    "    postOrderTraversal(rootNode.rightChild)\n",
    "    print(rootNode.data)"
   ]
  },
  {
   "cell_type": "code",
   "execution_count": 19,
   "id": "f2b4781d-1a84-46a4-8aee-62b3d345d911",
   "metadata": {},
   "outputs": [],
   "source": [
    "def levelOrderTraversal(rootNode): # time complexity is O(n) and space complexity is O(n)\n",
    "    if not rootNode:\n",
    "        return\n",
    "    else:\n",
    "        customQueue = Queue()\n",
    "        customQueue.enqueue(rootNode)\n",
    "        while not(customQueue.isEmpty()):\n",
    "            root = customQueue.dequeue()\n",
    "            print(root.value.data)\n",
    "            if root.value.leftChild is not None:\n",
    "                customQueue.enqueue(root.value.leftChild)\n",
    "            if root.value.rightChild is not None:\n",
    "                customQueue.enqueue(root.value.rightChild)"
   ]
  },
  {
   "cell_type": "code",
   "execution_count": 9,
   "id": "899fa72f-7120-4010-9f4a-4a408c732d78",
   "metadata": {},
   "outputs": [
    {
     "data": {
      "text/plain": [
       "'Node is inserted'"
      ]
     },
     "execution_count": 9,
     "metadata": {},
     "output_type": "execute_result"
    }
   ],
   "source": [
    "newBST = BST(None)\n",
    "InsertNode(newBST, 70)\n",
    "InsertNode(newBST,50)\n",
    "InsertNode(newBST,90)\n",
    "InsertNode(newBST, 30)\n",
    "InsertNode(newBST,60)\n",
    "InsertNode(newBST,80)\n",
    "InsertNode(newBST,100)\n",
    "InsertNode(newBST,20)\n",
    "InsertNode(newBST,40)"
   ]
  },
  {
   "cell_type": "code",
   "execution_count": 10,
   "id": "da8bb597-32a8-4a2f-aa30-0464b454fa69",
   "metadata": {},
   "outputs": [
    {
     "name": "stdout",
     "output_type": "stream",
     "text": [
      "70\n",
      "50\n",
      "30\n",
      "20\n",
      "40\n",
      "60\n",
      "90\n",
      "80\n",
      "100\n"
     ]
    }
   ],
   "source": [
    "preOrderTraversal(newBST)"
   ]
  },
  {
   "cell_type": "code",
   "execution_count": 11,
   "id": "08165f89-a1de-4e85-a532-915f55ce1e12",
   "metadata": {},
   "outputs": [
    {
     "name": "stdout",
     "output_type": "stream",
     "text": [
      "20\n",
      "40\n",
      "30\n",
      "60\n",
      "50\n",
      "80\n",
      "100\n",
      "90\n",
      "70\n"
     ]
    }
   ],
   "source": [
    "postOrderTraversal(newBST)"
   ]
  },
  {
   "cell_type": "code",
   "execution_count": 12,
   "id": "5261156d-bf54-4c22-8c6c-41c1e6dccc14",
   "metadata": {},
   "outputs": [
    {
     "name": "stdout",
     "output_type": "stream",
     "text": [
      "20\n",
      "30\n",
      "40\n",
      "50\n",
      "60\n",
      "70\n",
      "80\n",
      "90\n",
      "100\n"
     ]
    }
   ],
   "source": [
    "inOrderTraversal(newBST)"
   ]
  },
  {
   "cell_type": "code",
   "execution_count": 17,
   "id": "4debfb3b-cc47-45bc-8a53-025e4b89fb50",
   "metadata": {},
   "outputs": [
    {
     "name": "stdout",
     "output_type": "stream",
     "text": [
      "70\n",
      "50\n",
      "90\n",
      "30\n",
      "60\n",
      "80\n",
      "100\n",
      "20\n",
      "40\n"
     ]
    }
   ],
   "source": [
    "levelOrderTraversal(newBST)"
   ]
  },
  {
   "cell_type": "code",
   "execution_count": null,
   "id": "f793eba5-a41c-4fd5-b115-c923ff8247f8",
   "metadata": {},
   "outputs": [],
   "source": []
  }
 ],
 "metadata": {
  "kernelspec": {
   "display_name": "Python 3 (ipykernel)",
   "language": "python",
   "name": "python3"
  },
  "language_info": {
   "codemirror_mode": {
    "name": "ipython",
    "version": 3
   },
   "file_extension": ".py",
   "mimetype": "text/x-python",
   "name": "python",
   "nbconvert_exporter": "python",
   "pygments_lexer": "ipython3",
   "version": "3.10.7"
  }
 },
 "nbformat": 4,
 "nbformat_minor": 5
}
