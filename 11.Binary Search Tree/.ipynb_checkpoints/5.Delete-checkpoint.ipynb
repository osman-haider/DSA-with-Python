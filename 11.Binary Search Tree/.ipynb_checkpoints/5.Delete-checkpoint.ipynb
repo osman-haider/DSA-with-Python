{
 "cells": [
  {
   "cell_type": "code",
   "execution_count": 23,
   "id": "61f97f16-43c8-4484-ad45-12dad38cf6e4",
   "metadata": {},
   "outputs": [],
   "source": [
    "class BST:\n",
    "    def __init__(self, data): \n",
    "        self.data = data\n",
    "        self.leftChild = None\n",
    "        self.rightChild = None\n",
    "\n",
    "def InsertNode(rootNode, Nodevalue): \n",
    "    if rootNode.data is None:\n",
    "        rootNode.data = Nodevalue\n",
    "    elif Nodevalue <= rootNode.data:\n",
    "        if rootNode.leftChild is None:\n",
    "            rootNode.leftChild = BST(Nodevalue)\n",
    "        else:\n",
    "            InsertNode(rootNode.leftChild, Nodevalue)\n",
    "    else:\n",
    "        if rootNode.rightChild is None:\n",
    "            rootNode.rightChild = BST(Nodevalue)\n",
    "        else:\n",
    "            InsertNode(rootNode.rightChild, Nodevalue)\n",
    "    return \"Node is inserted\""
   ]
  },
  {
   "cell_type": "code",
   "execution_count": 30,
   "id": "1f2f201c-9877-49e6-81f8-92876a6d4f9c",
   "metadata": {},
   "outputs": [],
   "source": [
    "def deleteNode(rootNode, nodeValue):\n",
    "    if rootNode is None:\n",
    "        return rootNode\n",
    "    if nodeValue < rootNode.data:\n",
    "        rootNode.leftChild = deleteNode(rootNode.leftChild, nodeValue)\n",
    "    elif nodeValue > rootNode.data:\n",
    "        rootNode.rightChild = deleteNode(rootNode.rightChild, nodeValue)\n",
    "    else:\n",
    "        if rootNode.leftChild is None:\n",
    "            temp = rootNode.rightChild\n",
    "            rootNode = None\n",
    "            return temp\n",
    "        \n",
    "        if rootNode.rightChild is None:\n",
    "            temp = rootNode.leftChild\n",
    "            rootNode = None\n",
    "            return temp\n",
    "        \n",
    "        temp = minValueNode(rootNode.rightChild)\n",
    "        rootNode.data = temp.data \n",
    "        rootNode.rightChild = deleteNode(rootNode.rightChild, temp.data)\n",
    "    return rootNode\n",
    "\n",
    "def minValueNode(node):\n",
    "    current = node\n",
    "    while current.leftChild is not None:\n",
    "        current = current.leftChild\n",
    "    return current"
   ]
  },
  {
   "cell_type": "code",
   "execution_count": 31,
   "id": "2adf4ded-1725-4802-b405-2b63f054e1e9",
   "metadata": {},
   "outputs": [],
   "source": [
    "def deleteBST(rootNode):\n",
    "    rootNode.data = None\n",
    "    rootNode.leftChild = None\n",
    "    rootNode.rightChild = None\n",
    "    return \"The BST has been successfully deleted\""
   ]
  },
  {
   "cell_type": "code",
   "execution_count": 32,
   "id": "8fabedef-f337-487a-804b-de674b72e130",
   "metadata": {},
   "outputs": [
    {
     "data": {
      "text/plain": [
       "'Node is inserted'"
      ]
     },
     "execution_count": 32,
     "metadata": {},
     "output_type": "execute_result"
    }
   ],
   "source": [
    "newBST = BST(None)\n",
    "InsertNode(newBST, 70)\n",
    "InsertNode(newBST,50)\n",
    "InsertNode(newBST,90)\n",
    "InsertNode(newBST, 30)\n",
    "InsertNode(newBST,60)\n",
    "InsertNode(newBST,80)\n",
    "InsertNode(newBST,100)\n",
    "InsertNode(newBST,20)\n",
    "InsertNode(newBST,40)"
   ]
  },
  {
   "cell_type": "code",
   "execution_count": 33,
   "id": "a0f19ea5-601e-4698-a62a-bc7d90f20799",
   "metadata": {},
   "outputs": [
    {
     "name": "stdout",
     "output_type": "stream",
     "text": [
      "70\n"
     ]
    }
   ],
   "source": [
    "print(newBST.data)"
   ]
  },
  {
   "cell_type": "code",
   "execution_count": 34,
   "id": "8e6b3fe5-e115-403b-92ef-6ad7e1dc0e11",
   "metadata": {},
   "outputs": [
    {
     "data": {
      "text/plain": [
       "<__main__.BST at 0x237943903d0>"
      ]
     },
     "execution_count": 34,
     "metadata": {},
     "output_type": "execute_result"
    }
   ],
   "source": [
    "deleteNode(newBST,70)"
   ]
  },
  {
   "cell_type": "code",
   "execution_count": 35,
   "id": "8a523bfb-dedf-494e-8b42-20fe5ce78e54",
   "metadata": {},
   "outputs": [
    {
     "name": "stdout",
     "output_type": "stream",
     "text": [
      "80\n"
     ]
    }
   ],
   "source": [
    "print(newBST.data)"
   ]
  },
  {
   "cell_type": "code",
   "execution_count": 36,
   "id": "4325494b-87ee-4496-87fb-10fa418ea5e7",
   "metadata": {},
   "outputs": [
    {
     "data": {
      "text/plain": [
       "'The BST has been successfully deleted'"
      ]
     },
     "execution_count": 36,
     "metadata": {},
     "output_type": "execute_result"
    }
   ],
   "source": [
    "deleteBST(newBST)"
   ]
  },
  {
   "cell_type": "code",
   "execution_count": 37,
   "id": "407f917c-9526-46ec-b355-4342cad060de",
   "metadata": {},
   "outputs": [
    {
     "name": "stdout",
     "output_type": "stream",
     "text": [
      "None\n"
     ]
    }
   ],
   "source": [
    "print(newBST.data)"
   ]
  },
  {
   "cell_type": "code",
   "execution_count": null,
   "id": "ca939c42-72b0-494d-8247-23a162cbae5a",
   "metadata": {},
   "outputs": [],
   "source": []
  }
 ],
 "metadata": {
  "kernelspec": {
   "display_name": "Python 3 (ipykernel)",
   "language": "python",
   "name": "python3"
  },
  "language_info": {
   "codemirror_mode": {
    "name": "ipython",
    "version": 3
   },
   "file_extension": ".py",
   "mimetype": "text/x-python",
   "name": "python",
   "nbconvert_exporter": "python",
   "pygments_lexer": "ipython3",
   "version": "3.10.7"
  }
 },
 "nbformat": 4,
 "nbformat_minor": 5
}
