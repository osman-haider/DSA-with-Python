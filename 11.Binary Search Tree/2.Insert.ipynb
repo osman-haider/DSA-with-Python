{
 "cells": [
  {
   "cell_type": "code",
   "execution_count": 3,
   "id": "db79e8d5-1740-4e24-873d-845c6c75a3ed",
   "metadata": {},
   "outputs": [],
   "source": [
    "class BST:\n",
    "    def __init__(self,data): \n",
    "        self.data = data\n",
    "        self.leftChild = None\n",
    "        self.rightChild = None"
   ]
  },
  {
   "cell_type": "code",
   "execution_count": 11,
   "id": "d3c3961a-8b48-4999-b821-360f61082381",
   "metadata": {},
   "outputs": [],
   "source": [
    "def InsertNode(rootNode, Nodevalue): # time and space complexity is O(logN)\n",
    "    if rootNode.data == None:\n",
    "        rootNode.data = Nodevalue\n",
    "    elif Nodevalue <= rootNode.data:\n",
    "        if rootNode.leftChild is None:\n",
    "            rootNode.leftChild = BST(Nodevalue)\n",
    "        else:\n",
    "            InsertNode(rootNode.leftChild, Nodevalue)\n",
    "    else:\n",
    "        if rootNode.rightChild is None:\n",
    "            rootNode.rightChild = BST(Nodevalue)\n",
    "        else:\n",
    "            InsertNode(rootNode.rightChild, Nodevalue)\n",
    "\n",
    "    return \"Node is inserted\""
   ]
  },
  {
   "cell_type": "code",
   "execution_count": 5,
   "id": "39a5a300-2fb2-469f-8e62-ba5b4045e2f6",
   "metadata": {},
   "outputs": [],
   "source": [
    "bst = BST(None)"
   ]
  },
  {
   "cell_type": "code",
   "execution_count": 6,
   "id": "b4576a79-b377-4e11-a398-6ad9fa93bce4",
   "metadata": {},
   "outputs": [
    {
     "data": {
      "text/plain": [
       "'Node is inserted'"
      ]
     },
     "execution_count": 6,
     "metadata": {},
     "output_type": "execute_result"
    }
   ],
   "source": [
    "InsertNode(bst,7)\n",
    "InsertNode(bst,12)\n",
    "InsertNode(bst,3)"
   ]
  },
  {
   "cell_type": "code",
   "execution_count": 7,
   "id": "81be7d8e-bc8b-45c7-bfb8-f239686d9f0d",
   "metadata": {},
   "outputs": [
    {
     "name": "stdout",
     "output_type": "stream",
     "text": [
      "7\n"
     ]
    }
   ],
   "source": [
    "print(bst.data)"
   ]
  },
  {
   "cell_type": "code",
   "execution_count": 9,
   "id": "b994f338-cbd5-408d-a4af-eb27c956e907",
   "metadata": {},
   "outputs": [
    {
     "name": "stdout",
     "output_type": "stream",
     "text": [
      "3\n"
     ]
    }
   ],
   "source": [
    "print(bst.leftChild.data)"
   ]
  },
  {
   "cell_type": "code",
   "execution_count": 10,
   "id": "32be3867-1a05-407b-969e-595d24811756",
   "metadata": {},
   "outputs": [
    {
     "name": "stdout",
     "output_type": "stream",
     "text": [
      "12\n"
     ]
    }
   ],
   "source": [
    "print(bst.rightChild.data)"
   ]
  },
  {
   "cell_type": "code",
   "execution_count": null,
   "id": "5424d60f-effe-4889-be40-5c3ffee09c27",
   "metadata": {},
   "outputs": [],
   "source": []
  }
 ],
 "metadata": {
  "kernelspec": {
   "display_name": "Python 3 (ipykernel)",
   "language": "python",
   "name": "python3"
  },
  "language_info": {
   "codemirror_mode": {
    "name": "ipython",
    "version": 3
   },
   "file_extension": ".py",
   "mimetype": "text/x-python",
   "name": "python",
   "nbconvert_exporter": "python",
   "pygments_lexer": "ipython3",
   "version": "3.10.7"
  }
 },
 "nbformat": 4,
 "nbformat_minor": 5
}
