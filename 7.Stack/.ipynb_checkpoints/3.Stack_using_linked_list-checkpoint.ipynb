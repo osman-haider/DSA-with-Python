{
 "cells": [
  {
   "cell_type": "code",
   "execution_count": 40,
   "id": "5d3dadb0-128a-497f-bfab-d0344342af36",
   "metadata": {},
   "outputs": [],
   "source": [
    "class Node:\n",
    "    def __init__(self, value):\n",
    "        self.value = value\n",
    "        self.next = None\n",
    "\n",
    "class LinkedList:\n",
    "    def __init__(self):\n",
    "        self.head = None\n",
    "\n",
    "    def __iter__(self):\n",
    "        node = self.head\n",
    "        while node:\n",
    "            yield node\n",
    "            node = node.next\n",
    "\n",
    "class Stack:\n",
    "    def __init__(self):\n",
    "        self.linkedList = LinkedList()\n",
    "\n",
    "    def __str__(self):\n",
    "        values = [str(x.value) for x in self.linkedList][::-1]\n",
    "        return '\\n'.join(values)\n",
    "\n",
    "    # isEmpty()\n",
    "    def isEmpty(self):\n",
    "        return self.linkedList.head is None\n",
    "\n",
    "    # push()\n",
    "    def push(self, value):\n",
    "        node = Node(value)\n",
    "        node.next = self.linkedList.head\n",
    "        self.linkedList.head = node\n",
    "        return \"element is pushed\"\n",
    "\n",
    "    # pop()\n",
    "    def Pop(self):\n",
    "        if self.isEmpty():\n",
    "            return \" there is no element in the stack\"\n",
    "        else:\n",
    "            nodevalue = self.linkedList.head.value\n",
    "            self.linkedList.head = self.linkedList.head.next\n",
    "            return nodevalue\n",
    "\n",
    "    # peek()\n",
    "    def Peek(self):\n",
    "        if self.isEmpty():\n",
    "            return \" there is no element in the stack\"\n",
    "        else:\n",
    "            return self.linkedList.head.value\n",
    "\n",
    "    # delete entire stack\n",
    "    def delete(self):\n",
    "        if self.isEmpty():\n",
    "            return \" there is no element in the stack\"\n",
    "        else:\n",
    "            nodevalue = self.linkedList.head.value\n",
    "            self.linkedList.head = self.linkedList.head.next\n",
    "            return nodevalue\n"
   ]
  },
  {
   "cell_type": "code",
   "execution_count": 41,
   "id": "13c71729-8f2f-4d9a-bcee-91f4325e71c8",
   "metadata": {},
   "outputs": [],
   "source": [
    "stack = Stack()"
   ]
  },
  {
   "cell_type": "code",
   "execution_count": 42,
   "id": "480dbd27-552f-48ce-a23e-47f6ee783fc8",
   "metadata": {},
   "outputs": [
    {
     "data": {
      "text/plain": [
       "True"
      ]
     },
     "execution_count": 42,
     "metadata": {},
     "output_type": "execute_result"
    }
   ],
   "source": [
    "stack.isEmpty() # time and space complexity is O(1)"
   ]
  },
  {
   "cell_type": "code",
   "execution_count": 43,
   "id": "20b965fe-e3cc-4d17-95e2-3bd6a7b78068",
   "metadata": {},
   "outputs": [
    {
     "data": {
      "text/plain": [
       "'element is pushed'"
      ]
     },
     "execution_count": 43,
     "metadata": {},
     "output_type": "execute_result"
    }
   ],
   "source": [
    "stack.push(6) # time and space complexity is O(1)"
   ]
  },
  {
   "cell_type": "code",
   "execution_count": 44,
   "id": "4c698ed4-4c28-4e05-bb5b-6849e707149d",
   "metadata": {},
   "outputs": [
    {
     "data": {
      "text/plain": [
       "'element is pushed'"
      ]
     },
     "execution_count": 44,
     "metadata": {},
     "output_type": "execute_result"
    }
   ],
   "source": [
    "stack.push(2)\n",
    "stack.push(1)\n",
    "stack.push(0)"
   ]
  },
  {
   "cell_type": "code",
   "execution_count": 45,
   "id": "66784d70-2cba-4182-aebd-23a51e8bac8f",
   "metadata": {},
   "outputs": [
    {
     "name": "stdout",
     "output_type": "stream",
     "text": [
      "6\n",
      "2\n",
      "1\n",
      "0\n"
     ]
    }
   ],
   "source": [
    "print(stack)"
   ]
  },
  {
   "cell_type": "code",
   "execution_count": 46,
   "id": "75fd5727-d686-4d9f-a09a-f934bccc4c1f",
   "metadata": {},
   "outputs": [
    {
     "data": {
      "text/plain": [
       "0"
      ]
     },
     "execution_count": 46,
     "metadata": {},
     "output_type": "execute_result"
    }
   ],
   "source": [
    "stack.Pop() # time and space complexity is O(1)"
   ]
  },
  {
   "cell_type": "code",
   "execution_count": 47,
   "id": "8c7d6be4-cbe7-4a0c-864f-f4e7105ee283",
   "metadata": {},
   "outputs": [
    {
     "name": "stdout",
     "output_type": "stream",
     "text": [
      "6\n",
      "2\n",
      "1\n"
     ]
    }
   ],
   "source": [
    "print(stack)"
   ]
  },
  {
   "cell_type": "code",
   "execution_count": null,
   "id": "e83576c3-6a53-4280-933d-eb3cd6c2baee",
   "metadata": {},
   "outputs": [],
   "source": []
  }
 ],
 "metadata": {
  "kernelspec": {
   "display_name": "Python 3 (ipykernel)",
   "language": "python",
   "name": "python3"
  },
  "language_info": {
   "codemirror_mode": {
    "name": "ipython",
    "version": 3
   },
   "file_extension": ".py",
   "mimetype": "text/x-python",
   "name": "python",
   "nbconvert_exporter": "python",
   "pygments_lexer": "ipython3",
   "version": "3.10.7"
  }
 },
 "nbformat": 4,
 "nbformat_minor": 5
}
