{
 "cells": [
  {
   "cell_type": "code",
   "execution_count": 10,
   "id": "43006255-fc72-4c27-8a0a-d24cf1a007e3",
   "metadata": {},
   "outputs": [],
   "source": [
    "class Stack:\n",
    "    def __init__(self,maxsize):\n",
    "        self.maxsize = maxsize\n",
    "        self.list = []\n",
    "\n",
    "    def __str__(self):\n",
    "        values = self.list.reverse()\n",
    "        values = [str(x) for x in self.list]\n",
    "        return '\\n'.join(values)\n",
    "\n",
    "    # isEmpty()\n",
    "    def isEmpty(self):\n",
    "        if self.list == []:\n",
    "            return True\n",
    "        else:\n",
    "            return False\n",
    "\n",
    "    # is full()\n",
    "    def isFull(self):\n",
    "        if len(self.list) == self.maxsize:\n",
    "            return True\n",
    "        else:\n",
    "            return False\n",
    "\n",
    "    # push()\n",
    "    def push(self,value):\n",
    "        if self.isFull():\n",
    "            return \"Stack is full\"\n",
    "        else:\n",
    "            self.list.append(value)\n",
    "            return \"element is pushed\"\n",
    "\n",
    "    # pop()\n",
    "    def Pop(self):\n",
    "        if self.isEmpty():\n",
    "            return \" there is no element in the stack\"\n",
    "        else:\n",
    "            return self.list.pop()\n",
    "\n",
    "    # peek()\n",
    "    def Peek(self):\n",
    "        if self.isEmpty():\n",
    "            return \" there is no element in the stack\"\n",
    "        else:\n",
    "            return self.list[len(self.list)-1]\n",
    "\n",
    "    # delete entire stack\n",
    "    def delete(self):\n",
    "        if self.isEmpty():\n",
    "            return \" there is no element in the stack\"\n",
    "        else:\n",
    "            self.list = None\n",
    "            return \"entire stack is deleted\""
   ]
  },
  {
   "cell_type": "code",
   "execution_count": 11,
   "id": "2be46d66-5adf-45d4-b7a0-e56bbffe4f9a",
   "metadata": {},
   "outputs": [],
   "source": [
    "stack = Stack(4)"
   ]
  },
  {
   "cell_type": "code",
   "execution_count": 12,
   "id": "e831ac47-98cf-4d76-915d-40550820e26c",
   "metadata": {},
   "outputs": [
    {
     "data": {
      "text/plain": [
       "True"
      ]
     },
     "execution_count": 12,
     "metadata": {},
     "output_type": "execute_result"
    }
   ],
   "source": [
    "stack.isEmpty() # time and space complexity is O(1)"
   ]
  },
  {
   "cell_type": "code",
   "execution_count": 13,
   "id": "c82a3825-ea3d-4b74-a29b-a5049ae8283c",
   "metadata": {},
   "outputs": [
    {
     "data": {
      "text/plain": [
       "False"
      ]
     },
     "execution_count": 13,
     "metadata": {},
     "output_type": "execute_result"
    }
   ],
   "source": [
    "stack.isFull() # time and space complexity is O(1)"
   ]
  },
  {
   "cell_type": "code",
   "execution_count": 14,
   "id": "acea635c-1282-4ff7-966d-8fd61112750f",
   "metadata": {},
   "outputs": [
    {
     "data": {
      "text/plain": [
       "'element is pushed'"
      ]
     },
     "execution_count": 14,
     "metadata": {},
     "output_type": "execute_result"
    }
   ],
   "source": [
    "stack.push(4) # time complexity is O(n) and space complexity is O(1)\n",
    "stack.push(2)\n",
    "stack.push(1)"
   ]
  },
  {
   "cell_type": "code",
   "execution_count": 15,
   "id": "6f3c9a4f-6d41-45f1-b7a9-0b0d3c54db70",
   "metadata": {},
   "outputs": [
    {
     "data": {
      "text/plain": [
       "False"
      ]
     },
     "execution_count": 15,
     "metadata": {},
     "output_type": "execute_result"
    }
   ],
   "source": [
    "stack.isFull()"
   ]
  },
  {
   "cell_type": "code",
   "execution_count": 16,
   "id": "f7cfed98-6243-43ef-ae8b-342fc91b0b9e",
   "metadata": {},
   "outputs": [
    {
     "data": {
      "text/plain": [
       "4"
      ]
     },
     "execution_count": 16,
     "metadata": {},
     "output_type": "execute_result"
    }
   ],
   "source": [
    "stack.Peek()"
   ]
  },
  {
   "cell_type": "code",
   "execution_count": null,
   "id": "bc93a7c5-dd9a-43ec-859b-f4f190b34752",
   "metadata": {},
   "outputs": [],
   "source": []
  }
 ],
 "metadata": {
  "kernelspec": {
   "display_name": "Python 3 (ipykernel)",
   "language": "python",
   "name": "python3"
  },
  "language_info": {
   "codemirror_mode": {
    "name": "ipython",
    "version": 3
   },
   "file_extension": ".py",
   "mimetype": "text/x-python",
   "name": "python",
   "nbconvert_exporter": "python",
   "pygments_lexer": "ipython3",
   "version": "3.10.7"
  }
 },
 "nbformat": 4,
 "nbformat_minor": 5
}
