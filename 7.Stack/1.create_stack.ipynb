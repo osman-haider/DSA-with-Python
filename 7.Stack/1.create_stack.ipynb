{
 "cells": [
  {
   "cell_type": "markdown",
   "id": "2b8d47b5-dd88-44df-89b4-160060f51e4b",
   "metadata": {},
   "source": [
    "## without size limit\n",
    "#### time and space complexity is O(1)"
   ]
  },
  {
   "cell_type": "code",
   "execution_count": 48,
   "id": "d2952af9-a368-438f-a968-9b73717e5a11",
   "metadata": {},
   "outputs": [],
   "source": [
    "class Stack:\n",
    "    def __init__(self):\n",
    "        self.list = []\n",
    "\n",
    "    def __str__(self):\n",
    "        values = self.list.reverse()\n",
    "        values = [str(x) for x in self.list]\n",
    "        return '\\n'.join(values)\n",
    "\n",
    "    # isEmpty()\n",
    "    def isEmpty(self):\n",
    "        if self.list == []:\n",
    "            return True\n",
    "        else:\n",
    "            return False\n",
    "\n",
    "    # push()\n",
    "    def push(self,value):\n",
    "        self.list.append(value)\n",
    "        return \"element is pushed\"\n",
    "\n",
    "    # pop()\n",
    "    def Pop(self):\n",
    "        if self.isEmpty():\n",
    "            return \" there is no element in the stack\"\n",
    "        else:\n",
    "            return self.list.pop()\n",
    "\n",
    "    # peek()\n",
    "    def Peek(self):\n",
    "        if self.isEmpty():\n",
    "            return \" there is no element in the stack\"\n",
    "        else:\n",
    "            return self.list[len(self.list)-1]\n",
    "\n",
    "    # delete entire stack\n",
    "    def delete(self):\n",
    "        if self.isEmpty():\n",
    "            return \" there is no element in the stack\"\n",
    "        else:\n",
    "            self.list = None\n",
    "            return \"entire stack is deleted\""
   ]
  },
  {
   "cell_type": "code",
   "execution_count": 49,
   "id": "8e35ebdf-0963-47e7-9bf9-f51293aa34ec",
   "metadata": {},
   "outputs": [],
   "source": [
    "stack = Stack()"
   ]
  },
  {
   "cell_type": "code",
   "execution_count": 50,
   "id": "3962d7b2-898e-43b2-8b7d-713f32aeb573",
   "metadata": {},
   "outputs": [
    {
     "data": {
      "text/plain": [
       "True"
      ]
     },
     "execution_count": 50,
     "metadata": {},
     "output_type": "execute_result"
    }
   ],
   "source": [
    "stack.isEmpty() # time and space complexity is O(1)"
   ]
  },
  {
   "cell_type": "code",
   "execution_count": 51,
   "id": "3210eafd-3376-4e19-be18-2490a13a5933",
   "metadata": {},
   "outputs": [
    {
     "data": {
      "text/plain": [
       "'element is pushed'"
      ]
     },
     "execution_count": 51,
     "metadata": {},
     "output_type": "execute_result"
    }
   ],
   "source": [
    "stack.push(5) # time complexity is O(n) but is wrost senrio (n^2) and space complexity is O(1) "
   ]
  },
  {
   "cell_type": "code",
   "execution_count": 52,
   "id": "e67bf77b-4119-4301-b7a8-6fceb898419e",
   "metadata": {},
   "outputs": [
    {
     "data": {
      "text/plain": [
       "'element is pushed'"
      ]
     },
     "execution_count": 52,
     "metadata": {},
     "output_type": "execute_result"
    }
   ],
   "source": [
    "stack.push(4)\n",
    "stack.push(2)\n",
    "stack.push(8)\n",
    "stack.push(9)\n",
    "stack.push(0)"
   ]
  },
  {
   "cell_type": "code",
   "execution_count": 53,
   "id": "745e6ee6-440b-4aa4-a832-f16d9608ee97",
   "metadata": {},
   "outputs": [
    {
     "data": {
      "text/plain": [
       "False"
      ]
     },
     "execution_count": 53,
     "metadata": {},
     "output_type": "execute_result"
    }
   ],
   "source": [
    "stack.isEmpty()"
   ]
  },
  {
   "cell_type": "code",
   "execution_count": 54,
   "id": "5d5365ed-5418-4eb7-83f9-8718e6e9d794",
   "metadata": {},
   "outputs": [
    {
     "data": {
      "text/plain": [
       "0"
      ]
     },
     "execution_count": 54,
     "metadata": {},
     "output_type": "execute_result"
    }
   ],
   "source": [
    "stack.Pop() # time and space complexity is O(1)"
   ]
  },
  {
   "cell_type": "code",
   "execution_count": 55,
   "id": "5541eaf7-f046-4062-9481-02abdcf4921a",
   "metadata": {},
   "outputs": [
    {
     "data": {
      "text/plain": [
       "9"
      ]
     },
     "execution_count": 55,
     "metadata": {},
     "output_type": "execute_result"
    }
   ],
   "source": [
    "stack.Peek() # time and spce complexity is O(1)"
   ]
  },
  {
   "cell_type": "code",
   "execution_count": 56,
   "id": "3287259c-d4f0-4be4-9afd-501841a31648",
   "metadata": {},
   "outputs": [
    {
     "data": {
      "text/plain": [
       "'entire stack is deleted'"
      ]
     },
     "execution_count": 56,
     "metadata": {},
     "output_type": "execute_result"
    }
   ],
   "source": [
    "stack.delete() # time and spce complexity is O(1)"
   ]
  },
  {
   "cell_type": "code",
   "execution_count": null,
   "id": "1eee9ba8-1f54-495c-8521-c00d7505ba47",
   "metadata": {},
   "outputs": [],
   "source": []
  },
  {
   "cell_type": "code",
   "execution_count": null,
   "id": "9538400c-ff6c-4c86-9841-4e4fc3a0e2cc",
   "metadata": {},
   "outputs": [],
   "source": []
  }
 ],
 "metadata": {
  "kernelspec": {
   "display_name": "Python 3 (ipykernel)",
   "language": "python",
   "name": "python3"
  },
  "language_info": {
   "codemirror_mode": {
    "name": "ipython",
    "version": 3
   },
   "file_extension": ".py",
   "mimetype": "text/x-python",
   "name": "python",
   "nbconvert_exporter": "python",
   "pygments_lexer": "ipython3",
   "version": "3.10.7"
  }
 },
 "nbformat": 4,
 "nbformat_minor": 5
}
