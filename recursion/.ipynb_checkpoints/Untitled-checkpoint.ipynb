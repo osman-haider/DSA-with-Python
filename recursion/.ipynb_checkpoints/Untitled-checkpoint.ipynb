{
 "cells": [
  {
   "cell_type": "code",
   "execution_count": 4,
   "id": "83c8c02c-8084-4e23-8bad-3a7f398e6699",
   "metadata": {},
   "outputs": [],
   "source": [
    "def rec(n):\n",
    "    if n < 1:\n",
    "        print(\"n is less then 1\")\n",
    "    else :\n",
    "        print(\"not\")\n",
    "        rec(n -1)"
   ]
  },
  {
   "cell_type": "code",
   "execution_count": 5,
   "id": "84252e79-82f2-4011-ba10-e24260c49dc7",
   "metadata": {},
   "outputs": [
    {
     "name": "stdout",
     "output_type": "stream",
     "text": [
      "n is less then 1\n"
     ]
    }
   ],
   "source": [
    "rec(0)"
   ]
  },
  {
   "cell_type": "code",
   "execution_count": 6,
   "id": "646fb781-7873-4895-be60-9a5fcd8e05bf",
   "metadata": {},
   "outputs": [
    {
     "name": "stdout",
     "output_type": "stream",
     "text": [
      "not\n",
      "not\n",
      "not\n",
      "not\n",
      "not\n",
      "n is less then 1\n"
     ]
    }
   ],
   "source": [
    "rec(5)"
   ]
  },
  {
   "cell_type": "markdown",
   "id": "cc8495da-6bc0-4440-b3d8-5ad5deb9f0d0",
   "metadata": {},
   "source": [
    "# Recursion vs Iterative"
   ]
  },
  {
   "cell_type": "code",
   "execution_count": 11,
   "id": "9d134ffd-a370-458c-a98c-64217ae13051",
   "metadata": {},
   "outputs": [],
   "source": [
    "# recursion\n",
    "def poweroftwo(n):\n",
    "    if n == 0:\n",
    "        return 1\n",
    "    else:\n",
    "        power = poweroftwo(n-1)\n",
    "        return power * 2 "
   ]
  },
  {
   "cell_type": "code",
   "execution_count": 10,
   "id": "e8ccedd3-f831-4741-a36b-b93adc557f21",
   "metadata": {},
   "outputs": [
    {
     "data": {
      "text/plain": [
       "32"
      ]
     },
     "execution_count": 10,
     "metadata": {},
     "output_type": "execute_result"
    }
   ],
   "source": [
    "poweroftwo(5)"
   ]
  },
  {
   "cell_type": "code",
   "execution_count": 12,
   "id": "6b8179f3-e835-4093-a9d2-f1a4a51b1ca1",
   "metadata": {},
   "outputs": [],
   "source": [
    "# Iterative\n",
    "def poweroftwo(n):\n",
    "    i = 0\n",
    "    power = 1\n",
    "    while i<n:\n",
    "        power = power * 2\n",
    "        i +=1\n",
    "    return power"
   ]
  },
  {
   "cell_type": "code",
   "execution_count": 13,
   "id": "f2edab50-7490-421a-a35f-9cef48eb8ad5",
   "metadata": {},
   "outputs": [
    {
     "data": {
      "text/plain": [
       "32"
      ]
     },
     "execution_count": 13,
     "metadata": {},
     "output_type": "execute_result"
    }
   ],
   "source": [
    "poweroftwo(5)"
   ]
  },
  {
   "cell_type": "code",
   "execution_count": 16,
   "id": "e34f70b9-6cbf-42b6-aa65-c850f48c8e92",
   "metadata": {},
   "outputs": [],
   "source": [
    "import sys\n",
    "sys.setrecursionlimit(10000) # we can increase the stack memory\n",
    "def factorial(n):\n",
    "    return n * factorial(n - 1)"
   ]
  },
  {
   "cell_type": "code",
   "execution_count": 17,
   "id": "7a19d2ac-4102-4f22-8259-c4aabe86dc37",
   "metadata": {},
   "outputs": [
    {
     "ename": "RecursionError",
     "evalue": "maximum recursion depth exceeded",
     "output_type": "error",
     "traceback": [
      "\u001b[1;31m---------------------------------------------------------------------------\u001b[0m",
      "\u001b[1;31mRecursionError\u001b[0m                            Traceback (most recent call last)",
      "Cell \u001b[1;32mIn[17], line 1\u001b[0m\n\u001b[1;32m----> 1\u001b[0m \u001b[43mfactorial\u001b[49m\u001b[43m(\u001b[49m\u001b[38;5;241;43m3\u001b[39;49m\u001b[43m)\u001b[49m\n",
      "Cell \u001b[1;32mIn[16], line 4\u001b[0m, in \u001b[0;36mfactorial\u001b[1;34m(n)\u001b[0m\n\u001b[0;32m      3\u001b[0m \u001b[38;5;28;01mdef\u001b[39;00m \u001b[38;5;21mfactorial\u001b[39m(n):\n\u001b[1;32m----> 4\u001b[0m     \u001b[38;5;28;01mreturn\u001b[39;00m n \u001b[38;5;241m*\u001b[39m \u001b[43mfactorial\u001b[49m\u001b[43m(\u001b[49m\u001b[43mn\u001b[49m\u001b[43m \u001b[49m\u001b[38;5;241;43m-\u001b[39;49m\u001b[43m \u001b[49m\u001b[38;5;241;43m1\u001b[39;49m\u001b[43m)\u001b[49m\n",
      "Cell \u001b[1;32mIn[16], line 4\u001b[0m, in \u001b[0;36mfactorial\u001b[1;34m(n)\u001b[0m\n\u001b[0;32m      3\u001b[0m \u001b[38;5;28;01mdef\u001b[39;00m \u001b[38;5;21mfactorial\u001b[39m(n):\n\u001b[1;32m----> 4\u001b[0m     \u001b[38;5;28;01mreturn\u001b[39;00m n \u001b[38;5;241m*\u001b[39m \u001b[43mfactorial\u001b[49m\u001b[43m(\u001b[49m\u001b[43mn\u001b[49m\u001b[43m \u001b[49m\u001b[38;5;241;43m-\u001b[39;49m\u001b[43m \u001b[49m\u001b[38;5;241;43m1\u001b[39;49m\u001b[43m)\u001b[49m\n",
      "    \u001b[1;31m[... skipping similar frames: factorial at line 4 (9975 times)]\u001b[0m\n",
      "Cell \u001b[1;32mIn[16], line 4\u001b[0m, in \u001b[0;36mfactorial\u001b[1;34m(n)\u001b[0m\n\u001b[0;32m      3\u001b[0m \u001b[38;5;28;01mdef\u001b[39;00m \u001b[38;5;21mfactorial\u001b[39m(n):\n\u001b[1;32m----> 4\u001b[0m     \u001b[38;5;28;01mreturn\u001b[39;00m n \u001b[38;5;241m*\u001b[39m \u001b[43mfactorial\u001b[49m\u001b[43m(\u001b[49m\u001b[43mn\u001b[49m\u001b[43m \u001b[49m\u001b[38;5;241;43m-\u001b[39;49m\u001b[43m \u001b[49m\u001b[38;5;241;43m1\u001b[39;49m\u001b[43m)\u001b[49m\n",
      "\u001b[1;31mRecursionError\u001b[0m: maximum recursion depth exceeded"
     ]
    }
   ],
   "source": [
    "factorial(3)"
   ]
  },
  {
   "cell_type": "code",
   "execution_count": null,
   "id": "a92ce517-8338-429a-8725-859f3e912f68",
   "metadata": {},
   "outputs": [],
   "source": []
  }
 ],
 "metadata": {
  "kernelspec": {
   "display_name": "Python 3 (ipykernel)",
   "language": "python",
   "name": "python3"
  },
  "language_info": {
   "codemirror_mode": {
    "name": "ipython",
    "version": 3
   },
   "file_extension": ".py",
   "mimetype": "text/x-python",
   "name": "python",
   "nbconvert_exporter": "python",
   "pygments_lexer": "ipython3",
   "version": "3.12.0"
  }
 },
 "nbformat": 4,
 "nbformat_minor": 5
}
