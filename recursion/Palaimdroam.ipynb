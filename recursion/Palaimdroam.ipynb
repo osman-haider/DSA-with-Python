{
 "cells": [
  {
   "cell_type": "code",
   "execution_count": 1,
   "id": "a8b94e17-e954-4674-89d4-c6f6f1d205e4",
   "metadata": {},
   "outputs": [],
   "source": [
    "def plam(text):\n",
    "    if len(text) <= 1:\n",
    "        print(\"palaimdroam\")\n",
    "    else:\n",
    "        if text[0] == text[-1]:\n",
    "            plam(text[1:-1])\n",
    "        else:\n",
    "            print(\"not\")"
   ]
  },
  {
   "cell_type": "code",
   "execution_count": 2,
   "id": "b930e57e-8557-467f-b5bd-709ca04da816",
   "metadata": {},
   "outputs": [
    {
     "name": "stdout",
     "output_type": "stream",
     "text": [
      "palaimdroam\n"
     ]
    }
   ],
   "source": [
    "plam('t')"
   ]
  },
  {
   "cell_type": "code",
   "execution_count": 3,
   "id": "40beb3a1-eeeb-44ea-bc6d-e480ac4f1b29",
   "metadata": {},
   "outputs": [
    {
     "name": "stdout",
     "output_type": "stream",
     "text": [
      "palaimdroam\n"
     ]
    }
   ],
   "source": [
    "plam(\"fukuf\")"
   ]
  },
  {
   "cell_type": "code",
   "execution_count": 4,
   "id": "cecb0838-d8b6-4902-91fb-06a22720fa58",
   "metadata": {},
   "outputs": [
    {
     "name": "stdout",
     "output_type": "stream",
     "text": [
      "not\n"
     ]
    }
   ],
   "source": [
    "plam(\"dhfgdsf\")"
   ]
  },
  {
   "cell_type": "code",
   "execution_count": null,
   "id": "48661806-e9d7-4926-b046-bffab0a69fc7",
   "metadata": {},
   "outputs": [],
   "source": []
  }
 ],
 "metadata": {
  "kernelspec": {
   "display_name": "Python 3 (ipykernel)",
   "language": "python",
   "name": "python3"
  },
  "language_info": {
   "codemirror_mode": {
    "name": "ipython",
    "version": 3
   },
   "file_extension": ".py",
   "mimetype": "text/x-python",
   "name": "python",
   "nbconvert_exporter": "python",
   "pygments_lexer": "ipython3",
   "version": "3.12.0"
  }
 },
 "nbformat": 4,
 "nbformat_minor": 5
}
