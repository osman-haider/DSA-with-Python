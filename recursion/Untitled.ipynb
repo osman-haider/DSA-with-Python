{
 "cells": [
  {
   "cell_type": "code",
   "execution_count": 4,
   "id": "83c8c02c-8084-4e23-8bad-3a7f398e6699",
   "metadata": {},
   "outputs": [],
   "source": [
    "def rec(n):\n",
    "    if n < 1:\n",
    "        print(\"n is less then 1\")\n",
    "    else :\n",
    "        print(\"not\")\n",
    "        rec(n -1)"
   ]
  },
  {
   "cell_type": "code",
   "execution_count": 5,
   "id": "84252e79-82f2-4011-ba10-e24260c49dc7",
   "metadata": {},
   "outputs": [
    {
     "name": "stdout",
     "output_type": "stream",
     "text": [
      "n is less then 1\n"
     ]
    }
   ],
   "source": [
    "rec(0)"
   ]
  },
  {
   "cell_type": "code",
   "execution_count": 6,
   "id": "646fb781-7873-4895-be60-9a5fcd8e05bf",
   "metadata": {},
   "outputs": [
    {
     "name": "stdout",
     "output_type": "stream",
     "text": [
      "not\n",
      "not\n",
      "not\n",
      "not\n",
      "not\n",
      "n is less then 1\n"
     ]
    }
   ],
   "source": [
    "rec(5)"
   ]
  },
  {
   "cell_type": "markdown",
   "id": "cc8495da-6bc0-4440-b3d8-5ad5deb9f0d0",
   "metadata": {},
   "source": [
    "# Recursion vs Iterative"
   ]
  },
  {
   "cell_type": "code",
   "execution_count": 11,
   "id": "9d134ffd-a370-458c-a98c-64217ae13051",
   "metadata": {},
   "outputs": [],
   "source": [
    "# recursion\n",
    "def poweroftwo(n):\n",
    "    if n == 0:\n",
    "        return 1\n",
    "    else:\n",
    "        power = poweroftwo(n-1)\n",
    "        return power * 2 "
   ]
  },
  {
   "cell_type": "code",
   "execution_count": 10,
   "id": "e8ccedd3-f831-4741-a36b-b93adc557f21",
   "metadata": {},
   "outputs": [
    {
     "data": {
      "text/plain": [
       "32"
      ]
     },
     "execution_count": 10,
     "metadata": {},
     "output_type": "execute_result"
    }
   ],
   "source": [
    "poweroftwo(5)"
   ]
  },
  {
   "cell_type": "code",
   "execution_count": 12,
   "id": "6b8179f3-e835-4093-a9d2-f1a4a51b1ca1",
   "metadata": {},
   "outputs": [],
   "source": [
    "# Iterative\n",
    "def poweroftwo(n):\n",
    "    i = 0\n",
    "    power = 1\n",
    "    while i<n:\n",
    "        power = power * 2\n",
    "        i +=1\n",
    "    return power"
   ]
  },
  {
   "cell_type": "code",
   "execution_count": 13,
   "id": "f2edab50-7490-421a-a35f-9cef48eb8ad5",
   "metadata": {},
   "outputs": [
    {
     "data": {
      "text/plain": [
       "32"
      ]
     },
     "execution_count": 13,
     "metadata": {},
     "output_type": "execute_result"
    }
   ],
   "source": [
    "poweroftwo(5)"
   ]
  },
  {
   "cell_type": "code",
   "execution_count": 28,
   "id": "e34f70b9-6cbf-42b6-aa65-c850f48c8e92",
   "metadata": {},
   "outputs": [],
   "source": [
    "import sys\n",
    "sys.setrecursionlimit(10000) # we can increase the stack memory\n",
    "\n",
    "def factorial(n):\n",
    "    assert n >=0 and int(n) == n , \"number must be positive integer only\"\n",
    "    if n in [0,1]:\n",
    "        return 1\n",
    "    else:\n",
    "        return n * factorial(n - 1)"
   ]
  },
  {
   "cell_type": "code",
   "execution_count": 31,
   "id": "7a19d2ac-4102-4f22-8259-c4aabe86dc37",
   "metadata": {},
   "outputs": [
    {
     "data": {
      "text/plain": [
       "5040"
      ]
     },
     "execution_count": 31,
     "metadata": {},
     "output_type": "execute_result"
    }
   ],
   "source": [
    "factorial(7)"
   ]
  },
  {
   "cell_type": "markdown",
   "id": "ddcb48c9-1f0f-47d7-bccf-dfa5c162a441",
   "metadata": {},
   "source": [
    "### fibonacci"
   ]
  },
  {
   "cell_type": "code",
   "execution_count": 34,
   "id": "8906f4b3-0af2-4fa4-aaf2-772a2c4abefb",
   "metadata": {},
   "outputs": [],
   "source": [
    "def fibonacci(n):\n",
    "    if n in [0,1]:\n",
    "        return n\n",
    "    else:\n",
    "        return fibonacci(n-1) + fibonacci(n-2)"
   ]
  },
  {
   "cell_type": "code",
   "execution_count": 35,
   "id": "69270037-47ad-4b57-aa7d-b4be4ac2d804",
   "metadata": {},
   "outputs": [
    {
     "data": {
      "text/plain": [
       "5"
      ]
     },
     "execution_count": 35,
     "metadata": {},
     "output_type": "execute_result"
    }
   ],
   "source": [
    "fibonacci(5)"
   ]
  },
  {
   "cell_type": "code",
   "execution_count": null,
   "id": "f571cef3-1647-4ce8-b066-b90f1d7a2609",
   "metadata": {},
   "outputs": [],
   "source": []
  }
 ],
 "metadata": {
  "kernelspec": {
   "display_name": "Python 3 (ipykernel)",
   "language": "python",
   "name": "python3"
  },
  "language_info": {
   "codemirror_mode": {
    "name": "ipython",
    "version": 3
   },
   "file_extension": ".py",
   "mimetype": "text/x-python",
   "name": "python",
   "nbconvert_exporter": "python",
   "pygments_lexer": "ipython3",
   "version": "3.12.0"
  }
 },
 "nbformat": 4,
 "nbformat_minor": 5
}
