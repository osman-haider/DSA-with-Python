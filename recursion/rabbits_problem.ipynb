{
 "cells": [
  {
   "cell_type": "code",
   "execution_count": 1,
   "id": "c0fc9e4b-bb10-43dd-828e-f8183dde2d31",
   "metadata": {},
   "outputs": [],
   "source": [
    "def fibonacci(n):\n",
    "    if n in [0,1]:\n",
    "        return n\n",
    "    else:\n",
    "        return fibonacci(n-1) + fibonacci(n-2)"
   ]
  },
  {
   "cell_type": "code",
   "execution_count": 7,
   "id": "c8696c28-6b4d-41ae-add9-11dee05c1b3a",
   "metadata": {},
   "outputs": [
    {
     "name": "stdout",
     "output_type": "stream",
     "text": [
      "12.08052921295166\n"
     ]
    }
   ],
   "source": [
    "import time\n",
    "start = time.time()\n",
    "fibonacci(38)\n",
    "print(time.time() - start)"
   ]
  },
  {
   "cell_type": "code",
   "execution_count": 8,
   "id": "6bda04c6-ebe2-4949-a4ce-cd44279f10ea",
   "metadata": {},
   "outputs": [],
   "source": [
    "## we can see time is increasing when we increase n value sp we use dynamic programming"
   ]
  },
  {
   "cell_type": "markdown",
   "id": "ca4c6092-ebe8-4f60-8cd4-37954c0a9140",
   "metadata": {},
   "source": [
    "### Memoization"
   ]
  },
  {
   "cell_type": "code",
   "execution_count": 9,
   "id": "57202235-7934-4ecb-a8ee-b97830c98c8a",
   "metadata": {},
   "outputs": [],
   "source": [
    "def memo(m,d):\n",
    "    if m in d:\n",
    "        return d[m]\n",
    "    else:\n",
    "        d[m] = memo(m-1,d) + memo(m-2,d)\n",
    "        return d[m]"
   ]
  },
  {
   "cell_type": "code",
   "execution_count": 11,
   "id": "47a19f0b-3add-4c4b-a5a3-efb2d78ee846",
   "metadata": {},
   "outputs": [
    {
     "name": "stdout",
     "output_type": "stream",
     "text": [
      "956722026041\n",
      "0.00026726722717285156\n"
     ]
    }
   ],
   "source": [
    "d= {0:1,1:1}\n",
    "start = time.time()\n",
    "print(memo(58,d))\n",
    "print(time.time() - start)"
   ]
  },
  {
   "cell_type": "code",
   "execution_count": 12,
   "id": "13459edd-a1ac-4326-b0a0-e492cb4d99b7",
   "metadata": {},
   "outputs": [],
   "source": [
    "# now it takes more space but we can see it takes very less time"
   ]
  },
  {
   "cell_type": "code",
   "execution_count": 13,
   "id": "cb8ec974-60dc-4ea5-8b25-f340e5d2459f",
   "metadata": {},
   "outputs": [
    {
     "name": "stdout",
     "output_type": "stream",
     "text": [
      "10597999265301490732599643671505003412515860435409421932560009680142974347195483140293254396195769876129909\n",
      "0.0009963512420654297\n"
     ]
    }
   ],
   "source": [
    "d= {0:1,1:1}\n",
    "start = time.time()\n",
    "print(memo(508,d))\n",
    "print(time.time() - start)"
   ]
  },
  {
   "cell_type": "code",
   "execution_count": null,
   "id": "439a582d-a361-4fa3-94e6-f307d3395b5e",
   "metadata": {},
   "outputs": [],
   "source": []
  }
 ],
 "metadata": {
  "kernelspec": {
   "display_name": "Python 3 (ipykernel)",
   "language": "python",
   "name": "python3"
  },
  "language_info": {
   "codemirror_mode": {
    "name": "ipython",
    "version": 3
   },
   "file_extension": ".py",
   "mimetype": "text/x-python",
   "name": "python",
   "nbconvert_exporter": "python",
   "pygments_lexer": "ipython3",
   "version": "3.12.0"
  }
 },
 "nbformat": 4,
 "nbformat_minor": 5
}
