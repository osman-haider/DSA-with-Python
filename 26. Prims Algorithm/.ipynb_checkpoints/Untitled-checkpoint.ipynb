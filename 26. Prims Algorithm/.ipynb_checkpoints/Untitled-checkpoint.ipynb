{
 "cells": [
  {
   "cell_type": "code",
   "execution_count": 1,
   "id": "bcd48237-fbc8-4421-84f2-1c51f906847c",
   "metadata": {},
   "outputs": [],
   "source": [
    "import sys\n",
    "class Graph:\n",
    "    def __init__(self, vertexNum, edges, nodes):\n",
    "        self.edges = edges\n",
    "        self.nodes = nodes\n",
    "        self.vertexNum = vertexNum\n",
    "        self.MST = []\n",
    "    \n",
    "    def printSolution(self):\n",
    "        print(\"Edge : Weight\")\n",
    "        for s, d, w in self.MST:\n",
    "            print(\"%s -> %s: %s\" % (s, d, w))\n",
    "    \n",
    "    def primsAlgo(self):\n",
    "        visited = [0]*self.vertexNum\n",
    "        edgeNum=0\n",
    "        visited[0]=True\n",
    "        while edgeNum<self.vertexNum-1:\n",
    "            min = sys.maxsize\n",
    "            for i in range(self.vertexNum):\n",
    "                if visited[i]:\n",
    "                    for j in range(self.vertexNum):\n",
    "                        if ((not visited[j]) and self.edges[i][j]):\n",
    "                            if min > self.edges[i][j]:\n",
    "                                min = self.edges[i][j]\n",
    "                                s = i\n",
    "                                d = j\n",
    "            self.MST.append([self.nodes[s], self.nodes[d], self.edges[s][d]])\n",
    "            visited[d] = True\n",
    "            edgeNum += 1\n",
    "        self.printSolution()"
   ]
  },
  {
   "cell_type": "code",
   "execution_count": 2,
   "id": "ca79463f-9a02-47c7-ad93-08763418c5b8",
   "metadata": {},
   "outputs": [],
   "source": [
    "edges = [[0, 10, 20, 0, 0],\n",
    "\t\t[10, 0, 30, 5, 0],\n",
    "\t\t[20, 30, 0, 15, 6],\n",
    "\t\t[0, 5, 15, 0, 8],\n",
    "\t\t[0, 0, 6, 8, 0]]"
   ]
  },
  {
   "cell_type": "code",
   "execution_count": 3,
   "id": "948b82af-5fbc-4938-b6fa-70894b6f6596",
   "metadata": {},
   "outputs": [],
   "source": [
    "nodes = [\"A\",\"B\",\"C\",\"D\",\"E\"]\n",
    "g = Graph(5, edges, nodes)"
   ]
  },
  {
   "cell_type": "code",
   "execution_count": 4,
   "id": "13775afc-b685-4b30-bfa7-09eb0189cd4f",
   "metadata": {},
   "outputs": [
    {
     "name": "stdout",
     "output_type": "stream",
     "text": [
      "Edge : Weight\n",
      "A -> B: 10\n",
      "B -> D: 5\n",
      "D -> E: 8\n",
      "E -> C: 6\n"
     ]
    }
   ],
   "source": [
    "g.primsAlgo()"
   ]
  },
  {
   "cell_type": "code",
   "execution_count": null,
   "id": "5ea5e837-233d-4bea-9d39-f9a08b8ce254",
   "metadata": {},
   "outputs": [],
   "source": []
  }
 ],
 "metadata": {
  "kernelspec": {
   "display_name": "Python 3 (ipykernel)",
   "language": "python",
   "name": "python3"
  },
  "language_info": {
   "codemirror_mode": {
    "name": "ipython",
    "version": 3
   },
   "file_extension": ".py",
   "mimetype": "text/x-python",
   "name": "python",
   "nbconvert_exporter": "python",
   "pygments_lexer": "ipython3",
   "version": "3.10.7"
  }
 },
 "nbformat": 4,
 "nbformat_minor": 5
}
