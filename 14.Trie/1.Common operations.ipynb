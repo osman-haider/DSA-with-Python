{
 "cells": [
  {
   "cell_type": "code",
   "execution_count": 1,
   "id": "b74479f3-0e6b-4f0d-bf43-3a6677425de0",
   "metadata": {},
   "outputs": [],
   "source": [
    "class TrieNode:\n",
    "    def __init__(self):\n",
    "        self.children = {}\n",
    "        self.endOfString = False"
   ]
  },
  {
   "cell_type": "code",
   "execution_count": 2,
   "id": "8fd591ca-8fce-4b26-ba38-1d041d1830e9",
   "metadata": {},
   "outputs": [],
   "source": [
    "class Trie:\n",
    "    def __init__(self): # time and space complexity is O(1)\n",
    "        self.root = TrieNode()\n",
    "\n",
    "    def insertString(self, word): # time and space complexity is O(m) :m is the length of words which we want to insert here\n",
    "        current = self.root\n",
    "        for i in word:\n",
    "            ch = i\n",
    "            node = current.children.get(ch)\n",
    "            if node == None:\n",
    "                node = TrieNode()\n",
    "                current.children.update({ch:node})\n",
    "            current = node\n",
    "        current.endOfString = True\n",
    "        print(\"Successfully inserted\")\n",
    "\n",
    "    def searchString(self, word):  # time complexity is O(m) and space complexity is O(1)\n",
    "        currentNode = self.root\n",
    "        for i in word:\n",
    "            node = currentNode.children.get(i)\n",
    "            if node == None:\n",
    "                return False\n",
    "            currentNode = node\n",
    "\n",
    "        if currentNode.endOfString == True:\n",
    "            return True\n",
    "        else:\n",
    "            return False"
   ]
  },
  {
   "cell_type": "code",
   "execution_count": 3,
   "id": "47413094-6f9e-48c0-80c9-49cfaaf3ce0c",
   "metadata": {},
   "outputs": [],
   "source": [
    "def deleteString(root, word, index):\n",
    "    ch = word[index]\n",
    "    currentNode = root.children.get(ch)\n",
    "    canThisNodeBeDeleted = False\n",
    "\n",
    "    if len(currentNode.children) > 1:\n",
    "        deleteString(currentNode, word, index+1)\n",
    "        return False\n",
    "    \n",
    "    if index == len(word) - 1:\n",
    "        if len(currentNode.children) >= 1:\n",
    "            currentNode.endOfString = False\n",
    "            return False\n",
    "        else:\n",
    "            root.children.pop(ch)\n",
    "            return True\n",
    "    \n",
    "    if currentNode.endOfString == True:\n",
    "        deleteString(currentNode, word, index+1)\n",
    "        return False\n",
    "\n",
    "    canThisNodeBeDeleted = deleteString(currentNode, word, index+1)\n",
    "    if canThisNodeBeDeleted == True:\n",
    "        root.children.pop(ch)\n",
    "        return True\n",
    "    else:\n",
    "        return False"
   ]
  },
  {
   "cell_type": "code",
   "execution_count": 4,
   "id": "368f0fb5-d83b-4963-8fcf-2e958f27da5c",
   "metadata": {},
   "outputs": [],
   "source": [
    "newtrie = Trie()"
   ]
  },
  {
   "cell_type": "code",
   "execution_count": 5,
   "id": "f155e9b5-8c15-4c29-8bf5-1bc3ab016d84",
   "metadata": {},
   "outputs": [
    {
     "name": "stdout",
     "output_type": "stream",
     "text": [
      "Successfully inserted\n",
      "Successfully inserted\n",
      "Successfully inserted\n",
      "Successfully inserted\n",
      "Successfully inserted\n",
      "Successfully inserted\n"
     ]
    }
   ],
   "source": [
    "newtrie.insertString(\"Apple\")\n",
    "newtrie.insertString(\"banana\")\n",
    "newtrie.insertString(\"amr\")\n",
    "newtrie.insertString(\"boos\")\n",
    "newtrie.insertString(\"zoo\")\n",
    "newtrie.insertString(\"zebra\")"
   ]
  },
  {
   "cell_type": "code",
   "execution_count": 6,
   "id": "eacea656-4527-47a6-8188-93e082f16c02",
   "metadata": {},
   "outputs": [
    {
     "data": {
      "text/plain": [
       "True"
      ]
     },
     "execution_count": 6,
     "metadata": {},
     "output_type": "execute_result"
    }
   ],
   "source": [
    "newtrie.searchString(\"zoo\")"
   ]
  },
  {
   "cell_type": "code",
   "execution_count": 7,
   "id": "ad32ab09-773c-458f-af11-a086f80497c5",
   "metadata": {},
   "outputs": [
    {
     "data": {
      "text/plain": [
       "False"
      ]
     },
     "execution_count": 7,
     "metadata": {},
     "output_type": "execute_result"
    }
   ],
   "source": [
    "deleteString(newtrie.root,\"zoo\",0)"
   ]
  },
  {
   "cell_type": "code",
   "execution_count": 8,
   "id": "a6b67ee0-3390-4a99-a16e-bb1e20d9586a",
   "metadata": {},
   "outputs": [
    {
     "data": {
      "text/plain": [
       "False"
      ]
     },
     "execution_count": 8,
     "metadata": {},
     "output_type": "execute_result"
    }
   ],
   "source": [
    "newtrie.searchString(\"zoo\")"
   ]
  },
  {
   "cell_type": "code",
   "execution_count": null,
   "id": "5d91060b-71ff-41e5-8796-6a3e9389424e",
   "metadata": {},
   "outputs": [],
   "source": []
  }
 ],
 "metadata": {
  "kernelspec": {
   "display_name": "Python 3 (ipykernel)",
   "language": "python",
   "name": "python3"
  },
  "language_info": {
   "codemirror_mode": {
    "name": "ipython",
    "version": 3
   },
   "file_extension": ".py",
   "mimetype": "text/x-python",
   "name": "python",
   "nbconvert_exporter": "python",
   "pygments_lexer": "ipython3",
   "version": "3.10.7"
  }
 },
 "nbformat": 4,
 "nbformat_minor": 5
}
