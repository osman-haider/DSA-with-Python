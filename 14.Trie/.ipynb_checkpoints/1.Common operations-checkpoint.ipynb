{
 "cells": [
  {
   "cell_type": "code",
   "execution_count": 1,
   "id": "b74479f3-0e6b-4f0d-bf43-3a6677425de0",
   "metadata": {},
   "outputs": [],
   "source": [
    "class TrieNode:\n",
    "    def __init__(self):\n",
    "        self.children = {}\n",
    "        self.endOfString = False"
   ]
  },
  {
   "cell_type": "code",
   "execution_count": 3,
   "id": "8fd591ca-8fce-4b26-ba38-1d041d1830e9",
   "metadata": {},
   "outputs": [],
   "source": [
    "class Trie:\n",
    "    def __init__(self): # time and space complexity is O(1)\n",
    "        self.root = TrieNode()\n",
    "\n",
    "    def insertString(self, word): # time and space complexity is O(m) :m is the length of words which we want to insert here\n",
    "        current = self.root\n",
    "        for i in word:\n",
    "            ch = i\n",
    "            node = current.children.get(ch)\n",
    "            if node == None:\n",
    "                node = TrieNode()\n",
    "                current.children.update({ch:node})\n",
    "            current = node\n",
    "        current.endOfString = True\n",
    "        print(\"Successfully inserted\")"
   ]
  },
  {
   "cell_type": "code",
   "execution_count": 4,
   "id": "368f0fb5-d83b-4963-8fcf-2e958f27da5c",
   "metadata": {},
   "outputs": [],
   "source": [
    "newtrie = Trie()"
   ]
  },
  {
   "cell_type": "code",
   "execution_count": 5,
   "id": "f155e9b5-8c15-4c29-8bf5-1bc3ab016d84",
   "metadata": {},
   "outputs": [
    {
     "name": "stdout",
     "output_type": "stream",
     "text": [
      "Successfully inserted\n"
     ]
    }
   ],
   "source": [
    "newtrie.insertString(\"Apple\")\n",
    "newtrie.insertString(\"banana\")\n",
    "newtrie.insertString(\"amr\")\n",
    "newtrie.insertString(\"boos\")\n",
    "newtrie.insertString(\"zoo\")\n",
    "newtrie.insertString(\"zebra\")"
   ]
  },
  {
   "cell_type": "code",
   "execution_count": null,
   "id": "eacea656-4527-47a6-8188-93e082f16c02",
   "metadata": {},
   "outputs": [],
   "source": []
  }
 ],
 "metadata": {
  "kernelspec": {
   "display_name": "Python 3 (ipykernel)",
   "language": "python",
   "name": "python3"
  },
  "language_info": {
   "codemirror_mode": {
    "name": "ipython",
    "version": 3
   },
   "file_extension": ".py",
   "mimetype": "text/x-python",
   "name": "python",
   "nbconvert_exporter": "python",
   "pygments_lexer": "ipython3",
   "version": "3.10.7"
  }
 },
 "nbformat": 4,
 "nbformat_minor": 5
}
